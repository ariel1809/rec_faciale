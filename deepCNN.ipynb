{
 "cells": [
  {
   "cell_type": "code",
   "id": "initial_id",
   "metadata": {
    "collapsed": true,
    "ExecuteTime": {
     "end_time": "2024-11-12T18:29:16.488595Z",
     "start_time": "2024-11-12T18:29:16.482561Z"
    }
   },
   "source": [
    "import numpy as np\n",
    "import matplotlib.pyplot as plt\n",
    "import tensorflow as tf\n",
    "import seaborn as sns\n",
    "import pandas as pd\n",
    "from keras.models import Sequential\n",
    "from keras.layers import Conv2D, MaxPooling2D, BatchNormalization, Flatten, Dense, Dropout\n",
    "from keras.callbacks import EarlyStopping, ReduceLROnPlateau, ModelCheckpoint"
   ],
   "outputs": [],
   "execution_count": 3
  },
  {
   "metadata": {},
   "cell_type": "markdown",
   "source": "# Préparation du jeu de données",
   "id": "43e49e2b8f9191af"
  },
  {
   "metadata": {
    "ExecuteTime": {
     "end_time": "2024-11-12T18:44:04.225462Z",
     "start_time": "2024-11-12T18:44:04.211229Z"
    }
   },
   "cell_type": "code",
   "source": [
    "import splitfolders\n",
    "data_dir = 'dataset_Multiclass_Covid'"
   ],
   "id": "b7ac21950f7df3d4",
   "outputs": [],
   "execution_count": 5
  },
  {
   "metadata": {
    "ExecuteTime": {
     "end_time": "2024-11-12T18:44:05.411999Z",
     "start_time": "2024-11-12T18:44:05.226709Z"
    }
   },
   "cell_type": "code",
   "source": [
    "# Diviser les données en données train et test\n",
    "splitfolders.ratio(data_dir, output='dataset', seed=555, ratio=(.8, .2))"
   ],
   "id": "2e152978f8ed095d",
   "outputs": [
    {
     "name": "stderr",
     "output_type": "stream",
     "text": [
      "Copying files: 532 files [00:00, 3023.13 files/s]\n"
     ]
    }
   ],
   "execution_count": 6
  },
  {
   "metadata": {
    "ExecuteTime": {
     "end_time": "2024-11-12T18:48:42.758380Z",
     "start_time": "2024-11-12T18:48:42.733942Z"
    }
   },
   "cell_type": "code",
   "source": [
    "# générer les images : faible pourcentage d'images du dataset\n",
    "from tensorflow.keras.preprocessing.image import ImageDataGenerator\n",
    "train_datagen = ImageDataGenerator(rescale=1./255, shear_range=0.2, zoom_range=0.2, horizontal_flip=True)\n",
    "test_datagen = ImageDataGenerator(rescale=1./255)"
   ],
   "id": "b35d9ef132ca0067",
   "outputs": [],
   "execution_count": 7
  },
  {
   "metadata": {
    "ExecuteTime": {
     "end_time": "2024-11-12T18:50:43.087769Z",
     "start_time": "2024-11-12T18:50:43.043749Z"
    }
   },
   "cell_type": "code",
   "source": "train_generator = train_datagen.flow_from_directory('dataset/train', target_size=(64, 64), batch_size=32, class_mode='categorical')",
   "id": "a6e18237625689c7",
   "outputs": [
    {
     "name": "stdout",
     "output_type": "stream",
     "text": [
      "Found 424 images belonging to 4 classes.\n"
     ]
    }
   ],
   "execution_count": 8
  },
  {
   "metadata": {},
   "cell_type": "code",
   "outputs": [],
   "execution_count": null,
   "source": "",
   "id": "c4fa528f56b6e2ca"
  }
 ],
 "metadata": {
  "kernelspec": {
   "display_name": "Python 3",
   "language": "python",
   "name": "python3"
  },
  "language_info": {
   "codemirror_mode": {
    "name": "ipython",
    "version": 2
   },
   "file_extension": ".py",
   "mimetype": "text/x-python",
   "name": "python",
   "nbconvert_exporter": "python",
   "pygments_lexer": "ipython2",
   "version": "2.7.6"
  }
 },
 "nbformat": 4,
 "nbformat_minor": 5
}
