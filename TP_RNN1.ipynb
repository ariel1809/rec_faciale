{
 "cells": [
  {
   "cell_type": "markdown",
   "id": "e7d3a3d0",
   "metadata": {},
   "source": [
    "\n",
    "<a id='chap-tpdeeplearning5'></a>"
   ]
  },
  {
   "cell_type": "markdown",
   "id": "715887eb",
   "metadata": {},
   "source": [
    "# Travaux pratiques - RNN pour la génération de texte\n",
    "\n",
    "L’objectif de cette séance de travaux pratiques est d’illustrer la mise\n",
    "en application des réseaux de neurones récurrents sur des données\n",
    "séquentielles. En particulier, nous allons nous intéresser aux modèles\n",
    "auto-régressifs pour la génération de texte."
   ]
  },
  {
   "cell_type": "markdown",
   "id": "6d6c4253",
   "metadata": {},
   "source": [
    "## Génération de poésie\n",
    "\n",
    "Une première application des réseaux de neurones récurents est la\n",
    "génération de texte. Pour démarrer, nous allons extraire les textes d’un\n",
    "recueil de poésies, « Les fleurs du mal » (1857) de l’écrivain [Charles\n",
    "Baudelaire](https://fr.wikipedia.org/wiki/Charles_Baudelaire)\n",
    "(1821-1867). Cet ensemble de textes va constituer notre corpus\n",
    "d’entraînement."
   ]
  },
  {
   "cell_type": "markdown",
   "id": "6964c3e2",
   "metadata": {},
   "source": [
    "Dans notre application, nous nous intéressons à la génération de texte\n",
    "au travers de la *prédiction du mot suivant*. En considérant un texte\n",
    "comme une suite de mots $ (x_1, x_2, ..., x_m) $, nous allons\n",
    "entraîner un réseau de neurones récurrent de sorte à prédire le bon mot\n",
    "$ x_n $ à partir des mots $ (x_1, x_2, ..., x_{n-1}) $ qui le\n",
    "précèdent dans une phrase."
   ]
  },
  {
   "cell_type": "markdown",
   "id": "d25a78fa",
   "metadata": {},
   "source": [
    "### Création du jeu de données d’entraînement\n",
    "\n",
    "Le code ci-dessous va nous servir à générer les données et les\n",
    "étiquettes correspondantes. On va commencer par parser le ficher\n",
    "d’entrée pour récupérer le texte et effectuer quelques pré-traitements\n",
    "simples:"
   ]
  },
  {
   "cell_type": "code",
   "id": "22bdc95e",
   "metadata": {
    "hide-output": false,
    "ExecuteTime": {
     "end_time": "2024-11-08T20:27:39.388675Z",
     "start_time": "2024-11-08T20:27:39.377456Z"
    }
   },
   "source": [
    "# Lire le fichier texte et ajouter toutes les lignes dans une liste\n",
    "with open(\"fleurs_mal.txt\", 'r' , encoding = 'utf8') as f:\n",
    "    lines = f.readlines()\n",
    "\n",
    "for idx, line in enumerate(lines):\n",
    "    if \"Charles Baudelaire avait un ami\" in line:\n",
    "        first_line = idx\n",
    "    if \"End of the Project Gutenberg EBook of Les Fleurs du Mal, by Charles Baudelaire\" in line:\n",
    "        last_line = idx\n",
    "\n",
    "lines = lines[first_line:last_line]\n",
    "lines = [l.lower().strip().replace('_', '') for l in lines if len(l) > 1]\n",
    "text = \" \".join(lines)"
   ],
   "outputs": [],
   "execution_count": 2
  },
  {
   "metadata": {
    "ExecuteTime": {
     "end_time": "2024-11-08T20:27:40.523139Z",
     "start_time": "2024-11-08T20:27:40.487733Z"
    }
   },
   "cell_type": "code",
   "source": "lines",
   "id": "32777c9d23bff0c8",
   "outputs": [
    {
     "data": {
      "text/plain": [
       "['charles baudelaire avait un ami, auguste poulet-malassis, ancien élève',\n",
       " \"de l'école des chartes, qui s'était fait éditeur par goût pour les\",\n",
       " \"raffinements typographiques et pour la littérature qu'il jugeait en\",\n",
       " \"érudit et en artiste beaucoup plus qu'en commerçant; aussi bien ne fit-\",\n",
       " 'il jamais fortune, mais ses livres devenus assez rares sont depuis',\n",
       " 'longtemps très recherchés des bibliophiles.',\n",
       " 'les poésies de baudelaire disséminées un peu partout dans les petits',\n",
       " \"journaux d'avant-garde comme le corsaire et jusque dans la grave\",\n",
       " \"revue des deux-mondes, n'avaient point encore, en 1857, été\",\n",
       " 'réunies en volume. poulet-malassis, que le génie original de baudelaire',\n",
       " \"enthousiasmait, s'offrit de les publier sous le titre de fleurs du\",\n",
       " 'mal, titre neuf, audacieux, longtemps cherché et trouvé enfin non',\n",
       " \"point par baudelaire ni par l'éditeur, mais par hippolyte babou.\",\n",
       " 'les fleurs du mal se présentaient comme un bouquet poétique',\n",
       " \"composé de fleurs rares et vénéneuses d'un parfum encore ignoré. ce fut\",\n",
       " \"un succès--succès d'ailleurs préparé par la revue des deux-\",\n",
       " 'mondes qui, en accueillant un an auparavant quelques poésies de',\n",
       " 'baudelaire, avait mis sa responsabilité à couvert par une note',\n",
       " 'singulièrement prudente. de nos jours une pareille note ressemblerait',\n",
       " 'fort à une réclame déguisée:',\n",
       " \"« ce qui nous paraît ici mériter l'intérêt, disait-elle, c'est\",\n",
       " \"l'expression vive, curieuse, même dans sa violence, de quelques\",\n",
       " 'défaillances, de quelques douleurs morales, que, sans les partager ni',\n",
       " 'les discuter, on doit tenir à connaître comme un des signes de notre',\n",
       " \"temps. il nous semble, d'ailleurs, qu'il est des cas où la publicité\",\n",
       " \"n'est pas seulement un encouragement, où elle peut avoir l'influence\",\n",
       " \"d'un conseil utile et appeler le vrai talent à se dégager, à se\",\n",
       " 'fortifier, en élargissant ses voies, en étendant son horizon. »',\n",
       " \"c'était se méprendre étrangement que de compter sur la publicité pour\",\n",
       " 'amener baudelaire à résipiscence; le parquet impérial ne prit pas tant',\n",
       " 'de ménagements. le livre à peine paru, fut déféré aux tribunaux. tandis',\n",
       " 'que baudelaire se hâtait de recueillir en brochure les articles',\n",
       " \"justificatifs d'edmond thierry, barbey d'aurevilly, charles asselineau,\",\n",
       " \"etc..., il sollicitait l'amitié de sainte-beuve et de flaubert (tout\",\n",
       " 'récemment poursuivi pour avoir écrit madame bovary), des moyens',\n",
       " 'de défense dont les minutes ont été conservées et dont il transmettait',\n",
       " \"la teneur à son avocat, me chaix d'est-ange. sur le réquisitoire de m.\",\n",
       " \"pinard (alors avocat général et plus tard ministre de l'intérieur), le\",\n",
       " \"délit d'offense à la morale religieuse fut écarté, mais en raison de la\",\n",
       " \"prévention d'outrage à la morale publiques et aux bonnes moeurs, la\",\n",
       " 'cour prononça la suppression de six pièces: lesbos, femmes damnées,',\n",
       " 'le lethé, a celle qui est trop gaie, les bijoux et les métamorphoses du',\n",
       " \"vampire, et la condamnation à une amende de l'auteur et de\",\n",
       " \"l'éditeur (21 août 1857).\",\n",
       " \"le dommage matériel ne fut pas considérable pour malassis; l'édition\",\n",
       " 'était presque épuisée lors de la saisie.',\n",
       " \"tout d'abord, baudelaire voulut protester. on a retrouvé dans ses\",\n",
       " \"papiers le brouillon de divers projets de préfaces qu'il abandonna lors\",\n",
       " 'de la réimpression à la fois diminuée et augmentée des fleurs du',\n",
       " 'mal en 1861. cette mutilation de sa pensée par autorité de justice',\n",
       " 'avait eu pour résultat de rendre les directeurs de journaux et de',\n",
       " \"revues très méfiants à son égard, lorsqu'il leur présentait quelques\",\n",
       " \"pages de prose ou des poésies nouvelles; sa situation pécuniaire s'en\",\n",
       " 'ressentit. il travaillait lentement, à ses heures, toujours préoccupé',\n",
       " \"d'atteindre l'idéale perfection et ne traitant d'ailleurs que des\",\n",
       " 'sujets auxquels le grand public était alors (encore plus',\n",
       " \"qu'aujourd'hui) complètement étranger.\",\n",
       " 'lorsque baudelaire posa en 1862 sa candidature aux fauteuils',\n",
       " 'académiques laissés vacants par la mort de scribe et du père',\n",
       " 'lacordaire, il était, dans sa pensée, de protester ainsi contre la',\n",
       " \"condamnation des fleurs du mal. l'insuccès de baudelaire à\",\n",
       " \"l'académie n'était pas douteux. ses amis, ses vrais amis, alfred de\",\n",
       " \"vigny et sainte-beuve, lui conseillèrent de se désister, ce qu'il fit\",\n",
       " \"d'ailleurs en des termes dont on apprécia la modestie et la convenance.\",\n",
       " 'on a beaucoup parlé de la vie douloureuse de baudelaire: manque',\n",
       " \"d'argent, santé précaire, absence de tendresse féminine, car sa\",\n",
       " \"maîtresse jeanne duval, une jolie fille de couleur qu'il appelait son «\",\n",
       " \"vase de tristesse », n'était qu'une sotte dont le coeur et la pensée\",\n",
       " 'étaient loin de lui. son seul esprit, son méchant esprit était de',\n",
       " 'tourner en ridicule les manies de son ami. cependant elle était',\n",
       " 'charmante, nous dit théodore de banville, « elle portait bien sa brune',\n",
       " \"tête ingénue et superbe, couronnée d'une chevelure violemment crespelée\",\n",
       " \"et dont la démarche de reine pleine d'une grâce farouche, avait à la\",\n",
       " 'fois quelque chose de divin et de bestial ». et banville ajoute: «',\n",
       " 'baudelaire faisait parfois asseoir jeanne devant lui dans un grand',\n",
       " \"fauteuil; il la regardait avec amour et l'admirait longuement; il lui\",\n",
       " \"disait des vers dans une langue qu'elle ne savait pas. certes, c'est là\",\n",
       " 'peut-être le meilleur moyen de causer avec une femme dont les paroles',\n",
       " \"détonneraient, sans doute, dans l'ardente symphonie que chante sa\",\n",
       " \"beauté; mais il est naturel aussi que la femme n'en convienne pas et\",\n",
       " \"s'étonne d'être adorée au même titre qu'une belle chatte. »\",\n",
       " \"baudelaire n'aima qu'elle et il l'aima exclusivement pour sa beauté,\",\n",
       " \"car depuis longtemps, peut-être depuis toujours, il avait senti qu'il\",\n",
       " \"était seul auprès d'elle, que les hommes sont irrévocablement seuls.\",\n",
       " \"personne ne comprend personne. nous n'avons d'autre demeure que nous-\",\n",
       " 'mêmes. tout son dandysme fut fait de ce splendide isolement. toutefois',\n",
       " \"sa sensibilité était d'autant plus profonde qu'elle semblait moins\",\n",
       " \"apparente. rien ne la révélait. il avait l'air froid, quelque peu\",\n",
       " \"distant, mais il subjuguait. ses yeux couleur de tabac d'espagne, son\",\n",
       " 'épaisse chevelure sombre, son élégance, son intelligence,',\n",
       " \"l'enchantement de sa voix chaude et bien timbrée, plus encore que son\",\n",
       " 'éloquence naturelle qui lui faisait développer des paradoxes avec une',\n",
       " 'magnifique intelligence et on ne saurait dire quel magnétisme personnel',\n",
       " 'qui se dégageait de toutes les impressions refoulées au-dedans de lui,',\n",
       " 'le rendaient extrêmement séduisant. hélas! toutes ces belles qualités',\n",
       " \"ne le servirent point--du moins financièrement--il ignorait l'art de\",\n",
       " \"monnayer son génie. ainsi, pratiquement du moins, comme tant d'autres,\",\n",
       " 'il se trouva desservi par sa fierté, sa délicatesse, par le meilleur de',\n",
       " 'lui-même.',\n",
       " \"baudelaire habitait dans l'île saint-louis, sur le quai d'anjou, en ce\",\n",
       " 'vieil et triste hôtel pimodan plein de souvenirs somptueux et',\n",
       " 'nostalgiques. il avait choisi là un appartement composé de plusieurs',\n",
       " \"pièces très hautes de plafond et dont les fenêtres s'ouvraient sur le\",\n",
       " 'fleuve qui roule ses eaux glauques et indifférentes au milieu de la vie',\n",
       " \"morbide et fiévreuse. les pièces étaient tapissées d'un papier aux\",\n",
       " 'larges rayures rouges et noires, couleurs diaboliques, qui',\n",
       " \"s'accordaient avec les draperies d'un lourd damas. les meubles étaient\",\n",
       " 'antiques, voluptueux. de larges fauteuils, de paresseux divans',\n",
       " 'invitaient à la rêverie. aux murs des lithographies et des tableaux',\n",
       " 'signés de son ami delacroix, pures merveilles presque sans importance',\n",
       " \"alors, mais que se disputeraient aujourd'hui à coups de millions les\",\n",
       " 'princes de la finance américaine.',\n",
       " \"au temps de baudelaire, c'est-à-dire vers le milieu du dix-neuvième\",\n",
       " \"siècle, l'île saint-louis ressemblait par la paix silencieuse qui\",\n",
       " 'régnait à travers ses rues et ses quais à certaines villes de province',\n",
       " \"où l'on va nu-tête chez le voisin, où l'on s'attarde à bavarder au\",\n",
       " \"seuil des maisons et à y prendre le frais par les beaux soirs d'été à\",\n",
       " \"l'heure où la nuit tombe. artistes et écrivains allaient se dire\",\n",
       " \"bonjour sans quitter leur costume d'intérieur et flânaient en négligé\",\n",
       " \"sur le quai bourbon et sur le quai d'anjou, si parfaitement déserts que\",\n",
       " \"c'était une joie d'y regarder couler l'eau et d'y boire la lumière.\",\n",
       " 'un jour, baudelaire, coiffé uniquement de sa noire chevelure, prenait',\n",
       " \"un bain de soleil sur le quai d'anjou, tout en croquant de délicieuses\",\n",
       " \"pommes de terre frites qu'il prenait une à une dans un cornet de\",\n",
       " 'papier, lorsque vinrent à passer en calèche découverte de très grandes',\n",
       " \"dames amies de sa mère, l'ambassadrice, et qui s'amusèrent beaucoup à\",\n",
       " \"voir ainsi le poète picorer une nourriture aussi démocratique. l'une\",\n",
       " \"d'elles, une duchesse, fit arrêter la voiture et appela baudelaire.\",\n",
       " \"--« c'est donc bien bon, demanda-t-elle ce que vous mangez là?\",\n",
       " '--goûtez, madame, dit le poète en faisant les honneurs de son cornet de',\n",
       " 'pommes de terre frites avec une grâce suprême. »',\n",
       " 'et il les amusa si bien par ce régal inattendu et par sa conversation',\n",
       " \"qu'elles seraient restées là jusqu'à la fin du monde.\",\n",
       " 'quelques jours plus tard, la duchesse rencontrant baudelaire dans le',\n",
       " \"salon d'une vieille parente à elle, lui demanda si elle n'aurait pas\",\n",
       " \"l'occasion de manger encore des pommes de terre frites.\",\n",
       " '--« non, madame, répondit finement le poète, car elles sont, en effet,',\n",
       " \"très bonnes, mais seulement la première fois qu'on en mange. »\",\n",
       " 'cette petite anecdote racontée par les historiens du poète est devenue',\n",
       " \"classique; mais nous n'avons pu résister au plaisir de la répéter ici.\",\n",
       " 'baudelaire, plus ou moins pauvre, car la fortune laissée par son père',\n",
       " 'avait été dévorée rapidement, fut toujours plein de délicatesse et doué',\n",
       " \"de cet esprit de finesse fait de belle humeur et d'ironie souriante.\",\n",
       " \"cependant ses embarras d'argent devenus chroniques, aussi bien que son\",\n",
       " 'état maladif, rendirent lamentables les dernières années du poète.',\n",
       " 'frappé de paralysie générale, ayant perdu la mémoire des mots, après',\n",
       " \"une longue agonie, il s'éteignit à quarante-six ans. sa mère et son ami\",\n",
       " 'charles asselineau étaient à son chevet. ses oeuvres lui ont survécu,',\n",
       " \"mais la place d'honneur qu'il méritait par son génie parmi les\",\n",
       " \"romantiques ne lui fut vraiment accordée qu'à l'aube de ce siècle. on\",\n",
       " \"l'avait tenu jusqu'alors pour un très habile ciseleur de phrases, le\",\n",
       " \"benvenuto cellini des vers, mais c'était presque un incompris, un\",\n",
       " 'névrosé.',\n",
       " 'il commença, dit-on, par étonner les sots, mais il devait étonner bien',\n",
       " \"davantage les gens d'esprit en laissant à la postérité ce livre\",\n",
       " 'immortel: les fleurs du mal.',\n",
       " 'henry frichet.',\n",
       " 'au lecteur',\n",
       " \"la sottise, l'erreur, le péché, la lésine,\",\n",
       " 'occupent nos esprits et travaillent nos corps,',\n",
       " 'et nous alimentons nos aimables remords,',\n",
       " 'comme les mendiants nourrissent leur vermine.',\n",
       " 'nos péchés sont têtus, nos repentirs sont lâches,',\n",
       " 'nous nous faisons payer grassement nos aveux,',\n",
       " 'et nous rentrons gaîment dans le chemin bourbeux,',\n",
       " 'croyant par de vils pleurs laver toutes nos taches.',\n",
       " \"sur l'oreiller du mal c'est satan trismégiste\",\n",
       " 'qui berce longuement notre esprit enchanté,',\n",
       " 'et le riche métal de notre volonté',\n",
       " 'est tout vaporisé par ce savant chimiste.',\n",
       " \"c'est le diable qui tient les fils qui nous remuent!\",\n",
       " 'aux objets répugnants nous trouvons des appas;',\n",
       " \"chaque jour vers l'enfer nous descendons d'un pas,\",\n",
       " 'sans horreur, à travers des ténèbres qui puent.',\n",
       " \"ainsi qu'un débauché pauvre qui baise et mange\",\n",
       " \"le sein martyrisé d'une antique catin,\",\n",
       " 'nous volons au passage un plaisir clandestin',\n",
       " 'que nous pressons bien fort comme une vieille orange.',\n",
       " \"serré, fourmillant, comme un million d'helminthes,\",\n",
       " 'dans nos cerveaux ribote un peuple de démons,',\n",
       " 'et, quand nous respirons, la mort dans nos poumons',\n",
       " 'descend, fleuve invisible, avec de sourdes plaintes.',\n",
       " \"si le viol, le poison, le poignard, l'incendie,\",\n",
       " \"n'ont pas encore brodé de leurs plaisants desseins\",\n",
       " 'le canevas banal de nos piteux destins,',\n",
       " \"c'est que notre âme, hélas! n'est pas assez hardie.\",\n",
       " 'mais parmi les chacals, les panthères, les lices,',\n",
       " 'les singes, les scorpions, les vautours, les serpents,',\n",
       " 'les monstres glapissants, hurlants, grognants, rampants',\n",
       " 'dans la ménagerie infâme de nos vices,',\n",
       " 'il en est un plus laid, plus méchant, plus immonde!',\n",
       " \"quoiqu'il ne pousse ni grands gestes ni grands cris,\",\n",
       " 'il ferait volontiers de la terre un débris',\n",
       " 'et dans un bâillement avalerait le monde;',\n",
       " \"c'est l'ennui!--l'oeil chargé d'un pleur involontaire,\",\n",
       " \"il rêve d'échafauds en fumant son houka.\",\n",
       " 'tu le connais, lecteur, ce monstre délicat,',\n",
       " '--hypocrite lecteur,--mon semblable,--mon frère!',\n",
       " 'spleen et idéal',\n",
       " 'benediction',\n",
       " 'lorsque, par un décret des puissances suprêmes,',\n",
       " 'le poète apparaît en ce monde ennuyé,',\n",
       " 'sa mère épouvantée et pleine de blasphèmes',\n",
       " 'crispe ses poings vers dieu, qui la prend en pitié:',\n",
       " \"« ah! que n'ai-je mis bas tout un noeud de vipères,\",\n",
       " 'plutôt que de nourrir cette dérision!',\n",
       " 'maudite soit la nuit aux plaisirs éphémères',\n",
       " 'où mon ventre a conçu mon expiation!',\n",
       " \"« puisque tu m'as choisie entre toutes les femmes\",\n",
       " 'pour être le dégoût de mon triste mari,',\n",
       " 'et que je ne puis pas rejeter dans les flammes,',\n",
       " \"comme un billet d'amour, ce monstre rabougri,\",\n",
       " \"« je ferai rejaillir la haine qui m'accable\",\n",
       " \"sur l'instrument maudit de tes méchancetés,\",\n",
       " 'et je tordrai si bien cet arbre misérable,',\n",
       " \"qu'il ne pourra poussa ses boutons empestés! »\",\n",
       " \"elle ravale ainsi l'écume de sa haine,\",\n",
       " 'et, ne comprenant pas les desseins éternels,',\n",
       " 'elle-même prépare au fond de la géhenne',\n",
       " 'les bûchers consacrés aux crimes maternels.',\n",
       " \"pourtant, sous la tutelle invisible d'un ange,\",\n",
       " \"l'enfant déshérité s'enivre de soleil,\",\n",
       " \"et dans tout ce qu'il boit et dans tout ce qu'il mange\",\n",
       " \"retrouve l'ambroisie et le nectar vermeil.\",\n",
       " 'il joue avec le vent, cause avec le nuage',\n",
       " \"et s'enivre en chantant du chemin de la croix;\",\n",
       " \"et l'esprit qui le suit dans son pèlerinage\",\n",
       " 'pleure de le voir gai comme un oiseau des bois.',\n",
       " \"tous ceux qu'il veut aimer l'observent avec crainte,\",\n",
       " \"ou bien, s'enhardissant de sa tranquillité,\",\n",
       " 'cherchent à qui saura lui tirer une plainte,',\n",
       " \"et font sur lui l'essai de leur férocité.\",\n",
       " 'dans le pain et le vin destinés à sa bouche',\n",
       " \"ils mêlent de la cendre avec d'impurs crachats;\",\n",
       " \"avec hypocrisie ils jettent ce qu'il touche,\",\n",
       " \"et s'accusent d'avoir mis leurs pieds dans ses pas.\",\n",
       " 'sa femme va criant sur les places publiques:',\n",
       " \"« puisqu'il me trouve assez belle pour m'adorer,\",\n",
       " 'je ferai le métier des idoles antiques,',\n",
       " 'et comme elles je veux me faire redorer;',\n",
       " \"« et je me soûlerai de nard, d'encens, de myrrhe,\",\n",
       " 'de génuflexions, de viandes et de vins,',\n",
       " \"pour savoir si je puis dans un coeur qui m'admire\",\n",
       " 'usurper en riant les hommages divins!',\n",
       " \"« et, quand je m'ennuîrai de ces farces impies,\",\n",
       " 'je poserai sur lui ma frêle et forte main;',\n",
       " 'et mes ongles, pareils aux ongles des harpies,',\n",
       " \"sauront jusqu'à son coeur se frayer un chemin.\",\n",
       " '« comme un tout jeune oiseau qui tremble et qui palpite,',\n",
       " \"j'arracherai ce coeur tout rouge de son sein,\",\n",
       " 'et, pour rassasier ma bête favorite,',\n",
       " 'je le lui jetterai par terre avec dédain! »',\n",
       " 'vers le ciel, où son oeil voit un trône splendide,',\n",
       " 'le poète serein lève ses bras pieux,',\n",
       " 'et les vastes éclairs de son esprit lucide',\n",
       " \"lui dérobent l'aspect des peuples furieux:\",\n",
       " '« soyez béni, mon dieu, qui donnez la souffrance',\n",
       " 'comme un divin remède à nos impuretés,',\n",
       " 'et comme la meilleure et la plus pure essence',\n",
       " 'qui prépare les forts aux saintes voluptés!',\n",
       " '« je sais que vous gardez une place au poète',\n",
       " 'dans les rangs bienheureux des saintes légions,',\n",
       " \"et que vous l'invitez à l'éternelle fête\",\n",
       " 'des trônes, des vertus, des dominations.',\n",
       " '« je sais que la douleur est la noblesse unique',\n",
       " 'où ne mordront jamais la terre et les enfers,',\n",
       " \"et qu'il faut pour tresser ma couronne mystique\",\n",
       " 'imposer tous les temps et tous les univers.',\n",
       " \"« mais les bijoux perdus de l'antique palmyre,\",\n",
       " 'les métaux inconnus, les perles de la mer,',\n",
       " 'par votre main montés, ne pourraient pas suffire',\n",
       " 'a ce beau diadème éblouissant et clair;',\n",
       " '« car il ne sera fait que de pure lumière,',\n",
       " 'puisée au foyer saint des rayons primitifs,',\n",
       " 'et dont les yeux mortels, dans leur splendeur entière,',\n",
       " 'ne sont que des miroirs obscurcis et plaintifs! »',\n",
       " \"l'albatros\",\n",
       " \"souvent, pour s'amuser, les hommes d'équipage\",\n",
       " 'prennent des albatros, vastes oiseaux des mers,',\n",
       " 'qui suivent, indolents compagnons de voyage,',\n",
       " 'le navire glissant sur les gouffres amers.',\n",
       " 'a peine les ont-ils déposés sur les planches,',\n",
       " \"que ces rois de l'azur, maladroits et honteux,\",\n",
       " 'laissent piteusement leurs grandes ailes blanches',\n",
       " \"comme des avirons traîner à côté d'eux.\",\n",
       " 'ce voyageur ailé, comme il est gauche et veule!',\n",
       " \"lui, naguère si beau, qu'il est comique et laid!\",\n",
       " \"l'un agace son bec avec un brûle-gueule,\",\n",
       " \"l'autre mime, en boitant, l'infirme qui volait!\",\n",
       " 'le poète est semblable au prince des nuées',\n",
       " \"qui hante la tempête et se rit de l'archer;\",\n",
       " 'exilé sur le sol au milieu des huées,',\n",
       " \"ses ailes de géant l'empêchent de marcher.\",\n",
       " 'elevation',\n",
       " 'au-dessus des étangs, au-dessus des vallées,',\n",
       " 'des montagnes, des bois, des nuages, des mers,',\n",
       " 'par delà le soleil, par delà les éthers,',\n",
       " 'par delà les confins des sphères étoilées,',\n",
       " 'mon esprit, tu te meus avec agilité,',\n",
       " \"et, comme un bon nageur qui se pâme dans l'onde,\",\n",
       " \"tu sillonnes gaîment l'immensité profonde\",\n",
       " 'avec une indicible et mâle volupté.',\n",
       " 'envole-toi bien loin de ces miasmes morbides,',\n",
       " \"va te purifier dans l'air supérieur,\",\n",
       " 'et bois, comme une pure et divine liqueur,',\n",
       " 'le feu clair qui remplit les espaces limpides.',\n",
       " 'derrière les ennuis et les vastes chagrins',\n",
       " \"qui chargent de leur poids l'existence brumeuse,\",\n",
       " \"heureux celui qui peut d'une aile vigoureuse\",\n",
       " \"s'élancer vers les champs lumineux et sereins!\",\n",
       " 'celui dont les pensers, comme des alouettes,',\n",
       " 'vers les cieux le matin prennent un libre essor,',\n",
       " '--qui plane sur la vie et comprend sans effort',\n",
       " 'le langage des fleurs et des choses muettes!',\n",
       " 'les phares',\n",
       " \"rubens, fleuve d'oubli, jardin de la paresse,\",\n",
       " \"oreiller de chair fraîche où l'on ne peut aimer,\",\n",
       " \"mais où la vie afflue et s'agite sans cesse,\",\n",
       " \"comme l'air dans le ciel et la mer dans la mer;\",\n",
       " 'léonard de vinci, miroir profond et sombre,',\n",
       " 'où des anges charmants, avec un doux souris',\n",
       " \"tout chargé de mystère, apparaissent à l'ombre\",\n",
       " 'des glaciers et des pins qui ferment leur pays;',\n",
       " 'rembrandt, triste hôpital tout rempli de murmures,',\n",
       " \"et d'un grand crucifix décoré seulement,\",\n",
       " \"où la prière en pleurs s'exhale des ordures,\",\n",
       " \"et d'un rayon d'hiver traversé brusquement;\",\n",
       " \"michel-ange, lieu vague où l'on voit des hercules\",\n",
       " 'se mêler à des christ, et se lever tout droits',\n",
       " 'des fantômes puissants, qui dans les crépuscules',\n",
       " 'déchirent leur suaire en étirant leurs doigts;',\n",
       " 'colères de boxeur, impudences de faune,',\n",
       " 'toi qui sus ramasser la beauté des goujats,',\n",
       " \"grand coeur gonflé d'orgueil, homme débile et jaune,\",\n",
       " 'puget, mélancolique empereur des forçats;',\n",
       " 'watteau, ce carnaval où bien des coeurs illustres,',\n",
       " 'comme des papillons, errent en flamboyant,',\n",
       " 'décors frais et légers éclairés par des lustres',\n",
       " 'qui versent la folie à ce bal tournoyant;',\n",
       " 'goya, cauchemar plein de choses inconnues,',\n",
       " \"de foetus qu'on fait cuire au milieu des sabbats,\",\n",
       " \"de vieilles au miroir et d'enfants toutes nues,\",\n",
       " 'pour tenter les démons ajustant bien leurs bas;',\n",
       " 'delacroix, lac de sang hanté des mauvais anges,',\n",
       " 'ombragé par un bois de sapin toujours vert,',\n",
       " 'où, sous un ciel chagrin, des fanfares étranges',\n",
       " 'passent, comme un soupir étouffé de weber;',\n",
       " 'ces malédictions, ces blasphèmes, ces plaintes,',\n",
       " 'ces extases, ces cris, ces pleurs, ces te deum,',\n",
       " 'sont un écho redit par mille labyrinthes;',\n",
       " \"c'est pour les coeurs mortels un divin opium.\",\n",
       " \"c'est un cri répété par mille sentinelles,\",\n",
       " 'un ordre renvoyé par mille porte-voix;',\n",
       " \"c'est un phare allumé sur mille citadelles,\",\n",
       " 'un appel de chasseurs perdus dans les grands bois!',\n",
       " \"car c'est vraiment, seigneur, le meilleur témoignage\",\n",
       " 'que nous puissions donner de notre dignité',\n",
       " \"que cet ardent sanglot qui roule d'âge en âge\",\n",
       " 'et vient mourir au bord de votre éternité!',\n",
       " 'la muse venale',\n",
       " 'o muse de mon coeur, amante des palais,',\n",
       " 'auras-tu, quand janvier lâchera ses borées,',\n",
       " 'durant les noirs ennuis des neigeuses soirées,',\n",
       " 'un tison pour chauffer tes deux pieds violets?',\n",
       " 'ranimeras-tu donc tes épaules marbrées',\n",
       " 'aux nocturnes rayons qui percent les volets?',\n",
       " 'sentant ta bourse à sec autant que ton palais,',\n",
       " \"récolteras-tu l'or des voûtes azurées?\",\n",
       " 'il te faut, pour gagner ton pain de chaque soir,',\n",
       " \"comme un enfant de choeur, jouer de l'encensoir,\",\n",
       " 'chantes des te deum auxquels tu ne crois guère,',\n",
       " 'ou, saltimbanque à jeun, étaler les appas',\n",
       " \"et ton rire trempé de pleurs qu'on ne voit pas,\",\n",
       " 'pour faire épanouir la rate du vulgaire.',\n",
       " \"l'ennemi\",\n",
       " \"ma jeunesse ne fut qu'un ténébreux orage,\",\n",
       " 'traversé ça et là par de brillants soleils;',\n",
       " 'le tonnerre et la pluie ont fait un tel ravage',\n",
       " \"qu'il reste en mon jardin bien peu de fruits vermeils.\",\n",
       " \"voilà que j'ai touché l'automne des idées,\",\n",
       " \"et qu'il faut employer la pelle et les râteaux\",\n",
       " 'pour rassembler à neuf les terres inondées,',\n",
       " \"où l'eau creuse des trous grands comme des tombeaux.\",\n",
       " 'et qui sait si les fleurs nouvelles que je rêve',\n",
       " 'trouveront dans ce sol lavé comme une grève',\n",
       " 'le mystique aliment qui ferait leur vigueur?',\n",
       " '--o douleur! ô douleur! le temps mange la vie,',\n",
       " \"et l'obscur ennemi qui nous ronge le coeur\",\n",
       " 'du sang que nous perdons croît et se fortifie!',\n",
       " 'la vie anterieure',\n",
       " \"j'ai longtemps habité sous de vastes portiques\",\n",
       " 'que les soleils marins teignaient de mille feux,',\n",
       " 'et que leurs grands piliers, droits et majestueux,',\n",
       " 'rendaient pareils, le soir, aux grottes basaltiques.',\n",
       " 'les houles, en roulant les images des cieux,',\n",
       " \"mêlaient d'une façon solennelle et mystique\",\n",
       " 'les tout-puissants accords de leur riche musique',\n",
       " 'aux couleurs du couchant reflété par mes yeux.',\n",
       " \"c'est là que j'ai vécu dans les voluptés calmes,\",\n",
       " \"au milieu de l'azur, des vagues, des splendeurs\",\n",
       " \"et des esclaves nus, tout imprégnés d'odeurs,\",\n",
       " 'qui me rafraîchissaient le front avec des palmes,',\n",
       " \"et dont l'unique soin était d'approfondir\",\n",
       " 'le secret douloureux qui me faisait languir.',\n",
       " 'bohemiens en voyage',\n",
       " 'la tribu prophétique aux prunelles ardentes',\n",
       " \"hier s'est mise en route, emportant ses petits\",\n",
       " 'sur son dos, ou livrant à leurs fiers appétits',\n",
       " 'le trésor toujours prêt des mamelles pendantes.',\n",
       " 'les hommes vont à pied sous leurs armes luisantes',\n",
       " 'le long des chariots où les leurs sont blottis,',\n",
       " 'promenant sur le ciel des yeux appesantis',\n",
       " 'par le morne regret des chimères absentes.',\n",
       " 'du fond de son réduit sablonneux, le grillon,',\n",
       " 'les regardant passer, redouble sa chanson;',\n",
       " 'cybèle, qui les aime, augmente ses verdures,',\n",
       " 'fait couler le rocher et fleurir le désert',\n",
       " 'devant ces voyageurs, pour lesquels est ouvert',\n",
       " \"l'empire familier des ténèbres futures.\",\n",
       " \"l'homme et la mer\",\n",
       " 'homme libre, toujours tu chériras la mer!',\n",
       " 'la mer est ton miroir; tu contemples ton âme',\n",
       " 'dans le déroulement infini de sa lame,',\n",
       " \"et ton esprit n'est pas un gouffre moins amer.\",\n",
       " 'tu te plais à plonger au sein de ton image;',\n",
       " \"tu l'embrasses des yeux et des bras, et ton coeur\",\n",
       " 'se distrait quelquefois de sa propre rumeur',\n",
       " 'au bruit de cette plainte indomptable et sauvage.',\n",
       " 'vous êtes tous les deux ténébreux et discrets,',\n",
       " \"homme, nul n'a sondé le fond de tes abîmes;\",\n",
       " 'o mer, nul ne connaît tes richesses intimes,',\n",
       " 'tant vous êtes jaloux de garder vos secrets!',\n",
       " 'et cependant voilà des siècles innombrables',\n",
       " 'que vous vous combattez sans pitié ni remord,',\n",
       " 'tellement vous aimez le carnage et la mort,',\n",
       " 'o lutteurs éternels, ô frères implacables!',\n",
       " 'don juan aux enfers',\n",
       " \"quand don juan descendit vers l'onde souterraine,\",\n",
       " \"et lorsqu'il eut donné son obole à charon,\",\n",
       " \"un sombre mendiant, l'oeil fier comme antisthène,\",\n",
       " \"d'un bras vengeur et fort saisit chaque aviron.\",\n",
       " 'montrant leurs seins pendants et leurs robes ouvertes,',\n",
       " 'des femmes se tordaient sous le noir firmament,',\n",
       " 'et, comme un grand troupeau de victimes offertes,',\n",
       " 'derrière lui traînaient un long mugissement.',\n",
       " 'sganarelle en riant lui réclamait ses gages,',\n",
       " 'tandis que don luis avec un doigt tremblant',\n",
       " 'montrait à tous les morts errant sur les rivages',\n",
       " 'le fils audacieux qui railla son front blanc.',\n",
       " 'frissonnant sous son deuil, la chaste et maigre elvire,',\n",
       " \"près de l'époux perfide et qui fui son amant\",\n",
       " 'semblait lui réclamer un suprême sourire',\n",
       " 'où brillât la douceur de son premier serment.',\n",
       " 'tout droit dans son armure, un grand homme de pierre',\n",
       " 'se tenait à la barre et coupait le flot noir;',\n",
       " 'mais le calme héros, courbé sur sa rapière,',\n",
       " 'regardait le sillage et ne daignait rien voir.',\n",
       " \"chatiment de l'orgueil\",\n",
       " 'en ces temps merveilleux où la théologie',\n",
       " \"fleurit avec le plus de sève et d'énergie,\",\n",
       " \"on raconte qu'un jour un docteur des plus grands\",\n",
       " '--après avoir forcé les coeurs indifférents,',\n",
       " 'les avoir remués dans leurs profondeurs noires;',\n",
       " 'après avoir franchi vers les célestes gloires',\n",
       " 'des chemins singuliers à lui-même inconnus,',\n",
       " 'où les purs esprits seuls peut-être étaient venus,',\n",
       " '--comme un homme monté trop haut, pris de panique,',\n",
       " \"s'écria, transporté d'un orgueil satanique:\",\n",
       " \"« jésus, petit jésus! je t'ai poussé bien haut!\",\n",
       " \"mais, si j'avais voulu t'attaquer au défaut\",\n",
       " \"de l'armure, ta honte égalerait ta gloire,\",\n",
       " \"et tu ne serais plus qu'un foetus dérisoire! »\",\n",
       " \"immédiatement sa raison s'en alla.\",\n",
       " \"l'éclat de ce soleil d'un crêpe se voila;\",\n",
       " 'tout le chaos roula dans cette intelligence,',\n",
       " \"temple autrefois vivant, plein d'ordre et d'opulence.\",\n",
       " 'sous les plafonds duquel tant de pompe avait lui.',\n",
       " \"le silence et la nuit s'installèrent en lui,\",\n",
       " 'comme dans un caveau dont la clef est perdue.',\n",
       " 'dès lors il fut semblable aux bêtes de la rue,',\n",
       " \"et, quand il s'en allait sans rien voir, à travers\",\n",
       " 'les champs, sans distinguer les étés des hivers,',\n",
       " 'sale, inutile et laid comme une chose usée,',\n",
       " 'il faisait des enfants la joie et la risée.',\n",
       " 'la beaute',\n",
       " 'je suis belle, ô mortels! comme un rêve de pierre,',\n",
       " \"et mon sein, où chacun s'est meurtri tour à tour,\",\n",
       " 'est fait pour inspirer au poète un amour',\n",
       " 'eternel et muet ainsi que la matière.',\n",
       " \"je trône dans l'azur comme un sphinx incompris;\",\n",
       " \"j'unis un coeur de neige à la blancheur des cygnes;\",\n",
       " 'je hais le mouvement qui déplace les lignes,',\n",
       " 'et jamais je ne pleure et jamais je ne ris.',\n",
       " 'les poètes, devant mes grandes attitudes.',\n",
       " \"que j'ai l'air d'emprunter aux plus fiers monuments,\",\n",
       " \"consumeront leurs jours en d'austères études;\",\n",
       " \"car j'ai, pour fasciner ces dociles amants,\",\n",
       " 'de purs miroirs qui font toutes choses plus belles:',\n",
       " 'mes yeux, mes larges yeux aux clartés éternelles!',\n",
       " \"l'ideal\",\n",
       " 'ce ne seront jamais ces beautés de vignettes,',\n",
       " \"produits avariés, nés d'un siècle vaurien,\",\n",
       " 'ces pieds à brodequins, ces doigts à castagnettes,',\n",
       " 'qui sauront satisfaire un coeur comme le mien.',\n",
       " 'je laisse, à gavarni, poète des chloroses,',\n",
       " \"soa troupeau gazouillant de beautés d'hôpital,\",\n",
       " 'car je ne puis trouver parmi ces pâles roses',\n",
       " 'une fleur qui ressemble à mon rouge idéal.',\n",
       " \"ce qu'il faut à ce coeur profond comme un abîme,\",\n",
       " \"c'est vous, lady macbeth, âme puissante au crime,\",\n",
       " \"rêve d'eschyle éclos au climat des autans;\",\n",
       " 'ou bien toi, grand nuit, fille de michel-ange,',\n",
       " 'qui tors paisiblement dans une pose étrange',\n",
       " 'tes appas façonnés aux bouches des titans!',\n",
       " 'le masque',\n",
       " 'statue allégorique dans le gout de la renaissance',\n",
       " 'a ernest christophe',\n",
       " 'statuaire',\n",
       " 'contemplons ce trésor de grâces florentines;',\n",
       " \"dans l'ondulation de ce corps musculeux\",\n",
       " \"l'elégance et la force abondent, soeurs divines.\",\n",
       " 'cette femme, morceau vraiment miraculeux,',\n",
       " 'divinement robuste, adorablement mince,',\n",
       " 'est faite pour trôner sur des lits somptueux,',\n",
       " \"et charmer les loisirs d'un pontife ou d'un prince.\",\n",
       " '--aussi, vois ce souris fin et voluptueux',\n",
       " 'où la fatuité promène son extase;',\n",
       " 'ce long regard sournois, langoureux et moqueur;',\n",
       " 'ce visage mignard, tout encadré de gaze,',\n",
       " 'dont chaque trait nous dit avec un air vainqueur:',\n",
       " \"« la volupté m'appelle et l'amour me couronne! »\",\n",
       " 'a cet être doué de tant de majesté',\n",
       " 'vois quel charme excitant la gentillesse donne!',\n",
       " 'approchons, et tournons autour de sa beauté.',\n",
       " \"o blasphème de l'art! ô surprise fatale!\",\n",
       " 'la femme au corps divin, promettant le bonheur,',\n",
       " 'par le haut se termine en monstre bicéphale!',\n",
       " \"mais non! ce n'est qu'un masque, un décor suborneur,\",\n",
       " \"ce visage éclairé d'une exquise grimace,\",\n",
       " 'et, regarde, voici, crispée atrocement,',\n",
       " 'la véritable tête, et la sincère face',\n",
       " \"renversée à l'abri de la face qui ment.\",\n",
       " '--pauvre grande beauté! le magnifique fleuve',\n",
       " 'de tes pleurs aboutit dans mon coeur soucieux;',\n",
       " \"ton mensonge m'enivre, et mon âme s'abreuve\",\n",
       " 'aux flots que la douleur fait jaillir de tes yeux!',\n",
       " '--mais pourquoi pleure-t-elle? elle, beauté parfaite',\n",
       " 'qui mettrait à ses pieds le genre humain vaincu,',\n",
       " \"quel mal mystérieux ronge son flanc d'athlète?\",\n",
       " \"--elle pleure, insensé, parce qu'elle a vécu!\",\n",
       " \"et parce qu'elle vit! mais ce qu'elle déplore\",\n",
       " \"surtout, ce qui la fait frémir jusqu'aux genoux,\",\n",
       " \"c'est que demain, hélas! il faudra vivre encore!\",\n",
       " 'demain, après-demain et toujours!--comme nous!',\n",
       " 'hymne a la beaute',\n",
       " \"viens-tu du ciel profond ou sors-tu de l'abîme,\",\n",
       " 'o beauté? ton regard, infernal et divin,',\n",
       " 'verse confusément le bienfait et le crime,',\n",
       " \"et l'on peut pour cela te comparer au vin.\",\n",
       " \"tu contiens dans ton oeil le couchant et l'aurore;\",\n",
       " 'tu répands des parfums comme un soir orageux;',\n",
       " 'tes baisers sont un filtre et ta bouche une amphore',\n",
       " \"qui font le héros lâche et l'enfant courageux.\",\n",
       " 'sors-tu du gouffre noir ou descends-tu des astres?',\n",
       " 'le destin charmé suit tes jupons comme un chien;',\n",
       " 'tu sèmes au hasard la joie et les désastres,',\n",
       " 'et tu gouvernes tout et ne réponds de rien.',\n",
       " 'tu marches sur des morts. beauté, dont tu te moques;',\n",
       " \"de tes bijoux l'horreur n'est pas le moins charmant,\",\n",
       " 'et le meurtre, parmi tes plus chères breloques,',\n",
       " 'sur ton ventre orgueilleux danse amoureusement.',\n",
       " \"l'éphémère ébloui vole vers toi, chandelle,\",\n",
       " 'crépite, flambe et dit: bénissons ce flambeau!',\n",
       " \"l'amoureux pantelant incliné sur sa belle\",\n",
       " \"a l'air d'un moribond caressant son tombeau.\",\n",
       " \"que tu viennes du ciel ou de l'enfer, qu'importe,\",\n",
       " 'o beauté! monstre énorme, effrayant, ingénu!',\n",
       " \"si ton oeil, ton souris, ton pied, m'ouvrent la porte\",\n",
       " \"d'un infini que j'aime et n'ai jamais connu?\",\n",
       " \"de satan ou de dieu, qu'importe? ange ou sirène,\",\n",
       " \"qu'importé, si tu rends,--fée aux yeux de velours,\",\n",
       " 'rythme, parfum, lueur, ô mon unique reine!--',\n",
       " \"l'univers moins hideux et les instants moins lourds?\",\n",
       " 'la chevelure',\n",
       " \"o toison, moutonnant jusque sur l'encolure!\",\n",
       " 'o boucles! o parfum chargé de nonchaloir!',\n",
       " \"extase! pour peupler ce soir l'alcôve obscure\",\n",
       " 'des souvenirs dormant dans cette chevelure,',\n",
       " \"je la veux agiter dans l'air comme un mouchoir.\",\n",
       " 'la langoureuse asie et la brûlante afrique,',\n",
       " 'tout un monde lointain, absent, presque défunt,',\n",
       " 'vit dans tes profondeurs, forêt aromatique!',\n",
       " \"comme d'autres esprits voguent sur la musique,\",\n",
       " 'le mien, ô mon amour! nage sur ton parfum.',\n",
       " \"j'irai là-bas où l'arbre et l'homme, pleins de sève,\",\n",
       " \"se pâment longuement sous l'ardeur des climats;\",\n",
       " \"fortes tresses, soyez la houle qui m'enlève!\",\n",
       " \"tu contiens, mer d'ébène, un éblouissant rêve\",\n",
       " 'de voiles, de rameurs, de flammes et de mâts:',\n",
       " 'un port retentissant où mon âme peut boire',\n",
       " 'a grands flots le parfum, le son et la couleur;',\n",
       " \"où les vaisseaux, glissant dans l'or et dans la moire,\",\n",
       " 'ouvrent leurs vastes bras pour embrasser la gloire',\n",
       " \"d'un ciel pur où frémit l'éternelle chaleur.\",\n",
       " \"je plongerai ma tête amoureuse d'ivresse\",\n",
       " \"dans ce noir océan où l'autre est enfermé;\",\n",
       " 'et mon esprit subtil que le roulis caresse',\n",
       " 'saura vous retrouver, ô féconde paresse,',\n",
       " 'infinis bercements du loisir embaumé!',\n",
       " 'cheveux bleus, pavillon de ténèbres tendues,',\n",
       " \"vous me rendez l'azur du ciel immense et rond;\",\n",
       " 'sur les bords duvetés de vos mèches tordues',\n",
       " \"je m'enivre ardemment des senteurs confondues\",\n",
       " \"de l'huile de coco, du musc et du goudron.\",\n",
       " 'longtemps! toujours! ma main dans ta crinière lourde',\n",
       " 'sèmera le rubis, la perle et le saphir,',\n",
       " \"afin qu'à mon, désir tu ne sois jamais sourde!\",\n",
       " \"n'es-tu pas l'oasis où je rêve, et la gourde\",\n",
       " 'où je hume à longs traits le vin du souvenir?',\n",
       " \"je t'adore à l'égal de la voûte nocturne,\",\n",
       " 'o vase de tristesse, ô grande taciturne,',\n",
       " \"et t'aime d'autant plus, belle, que tu me fuis,\",\n",
       " 'et que tu me parais, ornement de mes nuits,',\n",
       " 'plus ironiquement accumuler les lieues',\n",
       " 'qui séparent mes bras des immensités bleues.',\n",
       " \"je m'avance à l'attaque, et je grimpe aux assauts,\",\n",
       " 'comme après un cadavre un choeur de vermisseaux,',\n",
       " 'et je chéris, ô bête implacable et cruelle,',\n",
       " \"jusqu'à cette froideur par où tu m'es plus belle!\",\n",
       " \"tu mettrais l'univers entier dans ta ruelle,\",\n",
       " \"femme impure! l'ennui rend ton âme cruelle.\",\n",
       " 'pour exercer tes dents à ce jeu singulier,',\n",
       " 'il te faut chaque jour un coeur au râtelier.',\n",
       " 'tes yeux, illuminés ainsi que des boutiques',\n",
       " 'ou des ifs flamboyants dans les fêtes publiques,',\n",
       " \"usent insolemment d'un pouvoir emprunté,\",\n",
       " 'sans connaître jamais la loi de leur beauté.',\n",
       " 'machine aveugle et sourde en cruauté féconde!',\n",
       " 'salutaire instrument, buveur du sang du monde,',\n",
       " \"comment n'as-tu pas honte, et comment n'as-tu pas\",\n",
       " 'devant tous les miroirs vu pâlir tes appas?',\n",
       " 'la grandeur de ce mal où tu te crois savante',\n",
       " \"ne t'a donc jamais fait reculer d'épouvante,\",\n",
       " 'quand la nature, grande en ses desseins cachés,',\n",
       " 'de toi se sert, ô femme, ô reine des péchés,',\n",
       " '--de toi, vil animal,--pour pétrir un génie?',\n",
       " 'o fangeuse grandeur, sublime ignominie!',\n",
       " 'sed non satiata',\n",
       " 'bizarre déité, brune comme les nuits,',\n",
       " 'au parfum mélangé de musc et de havane,',\n",
       " 'oeuvre de quelque obi, le faust de la savane,',\n",
       " \"sorcière au flanc d'ébène, enfant des noirs minuits,\",\n",
       " \"je préfère au constance, à l'opium, au nuits,\",\n",
       " \"l'élixir de ta bouche où l'amour se pavane;\",\n",
       " 'quand vers toi mes désirs partent en caravane,',\n",
       " 'tes yeux sont la citerne où boivent mes ennuis.',\n",
       " 'par ces deux grands yeux noirs, soupiraux de ton âme,',\n",
       " 'o démon sans pitié, verse-moi moins de flamme;',\n",
       " \"je ne suis pas le styx pour t'embrasser neuf fois,\",\n",
       " 'hélas! et je ne puis, mégère libertine,',\n",
       " 'pour briser ton courage et te mettre aux abois,',\n",
       " \"dans l'enfer de ton lit devenir proserpine!\",\n",
       " 'avec ses vêtements ondoyants et nacrés,',\n",
       " \"même quand elle marche, on croirait qu'elle danse,\",\n",
       " 'comme ces longs serpents que les jongleurs sacrés',\n",
       " 'au bout de leurs bâtons agitent en cadence.',\n",
       " \"comme le sable morne et l'azur des déserts,\",\n",
       " \"insensibles tous deux à l'humaine souffrance,\",\n",
       " 'comme les longs réseaux de la houle des mers,',\n",
       " 'elle se développe avec indifférence.',\n",
       " 'ses yeux polis sont faits de minéraux charmants,',\n",
       " 'et dans cette nature étrange et symbolique',\n",
       " \"où l'ange inviolé se mêle au sphinx antique,\",\n",
       " \"où tout n'est qu'or, acier, lumière et diamants,\",\n",
       " 'resplendit à jamais, comme un astre inutile,',\n",
       " 'la froide majesté de la femme stérile.',\n",
       " 'le serpent qui danse',\n",
       " \"que j'aime voir, chère indolente,\",\n",
       " 'de ton corps si beau,',\n",
       " 'comme une étoile vacillante,',\n",
       " 'miroiter la peau!',\n",
       " 'sur ta chevelure profonde',\n",
       " 'aux âcres parfums,',\n",
       " 'mer odorante et vagabonde',\n",
       " 'aux flots bleus et bruns.',\n",
       " \"comme un navire qui s'éveille\",\n",
       " 'au vent du matin,',\n",
       " 'mon âme rêveuse appareille',\n",
       " 'pour un ciel lointain.',\n",
       " 'tes yeux, où rien ne se révèle',\n",
       " \"de doux ni d'amer,\",\n",
       " 'sont deux bijoux froids où se mêle',\n",
       " \"l'or avec le fer.\",\n",
       " 'a te voir marcher en cadence,',\n",
       " \"belle d'abandon,\",\n",
       " 'on dirait un serpent qui danse',\n",
       " \"au bout d'un bâton;\",\n",
       " 'sous le fardeau de ta paresse',\n",
       " \"ta tête d'enfant\",\n",
       " 'se balance avec la mollesse',\n",
       " \"d'un jeune éléphant,\",\n",
       " \"et son corps se penche et s'allonge\",\n",
       " 'comme un fin vaisseau',\n",
       " 'qui roule bord sur bord, et plonge',\n",
       " \"ses vergues dans l'eau.\",\n",
       " 'comme un flot grossi par la fonte',\n",
       " 'des glaciers grondants,',\n",
       " \"quand l'eau de ta bouche remonte\",\n",
       " 'au bord de tes dents,',\n",
       " 'je crois boire un vin de bohême,',\n",
       " 'amer et vainqueur,',\n",
       " 'un ciel liquide qui parsème',\n",
       " \"d'étoiles mon coeur!\",\n",
       " 'une charogne',\n",
       " \"rappelez-vous l'objet que nous vîmes, mon âme,\",\n",
       " \"ce beau matin d'été si doux:\",\n",
       " \"au détour d'un sentier une charogne infâme\",\n",
       " 'sur un lit semé de cailloux,',\n",
       " \"les jambes en l'air, comme une femme lubrique,\",\n",
       " 'brûlante et suant les poisons,',\n",
       " \"ouvrait d'une façon nonchalante et cynique\",\n",
       " \"son ventre plein d'exhalaisons.\",\n",
       " 'le soleil rayonnait sur cette pourriture,',\n",
       " 'comme afin de la cuire à point,',\n",
       " 'et de rendre au centuple à la grande nature',\n",
       " \"tout ce qu'ensemble elle avait joint.\",\n",
       " 'et le ciel regardait la carcasse superbe',\n",
       " \"comme une fleur s'épanouir;\",\n",
       " \"la puanteur était si forte que sur l'herbe\",\n",
       " 'vous crûtes vous évanouir.',\n",
       " 'les mouches bourdonnaient sur ce ventre putride,',\n",
       " \"d'où sortaient de noirs bataillons\",\n",
       " 'de larves qui coulaient comme un épais liquide',\n",
       " 'le long de ces vivants haillons.',\n",
       " 'tout cela descendait, montait comme une vague,',\n",
       " \"où s'élançait en pétillant;\",\n",
       " \"on eût dit que le corps, enflé d'un souffle vague,\",\n",
       " 'vivait en se multipliant.',\n",
       " 'et ce monde rendait une étrange musique',\n",
       " \"comme l'eau courante et le vent,\",\n",
       " \"ou le grain qu'un vanneur d'un mouvement rythmique\",\n",
       " 'agite et tourne dans son van.',\n",
       " \"les formes s'effaçaient et n'étaient plus qu'un rêve,\",\n",
       " 'une ébauche lente à venir',\n",
       " \"sur la toile oubliée, et que l'artiste achève\",\n",
       " 'seulement par le souvenir.',\n",
       " 'derrière les rochers une chienne inquiète',\n",
       " \"nous regardait d'un oeil fâché,\",\n",
       " 'epiant le moment de reprendre au squelette',\n",
       " \"le morceau qu'elle avait lâché.\",\n",
       " '--et pourtant vous serez semblable à cette ordure,',\n",
       " 'a cette horrible infection,',\n",
       " 'etoile de mes yeux, soleil de ma nature,',\n",
       " 'vous, mon ange et ma passion!',\n",
       " 'oui! telle vous serez, ô la reine des grâces,',\n",
       " 'après les derniers sacrements,',\n",
       " \"quand vous irez sous l'herbe et les floraisons grasses,\",\n",
       " 'moisir parmi les ossements.',\n",
       " 'alors, ô ma beauté, dites à la vermine',\n",
       " 'qui vous mangera de baisers,',\n",
       " \"que j'ai gardé la forme et l'essence divine\",\n",
       " 'de mes amours décomposés!',\n",
       " 'de profundis clamavi',\n",
       " \"j'implore ta pitié. toi, l'unique que j'aime,\",\n",
       " 'du fond du gouffre obscur où mon coeur est tombé.',\n",
       " \"c'est un univers morne à l'horizon plombé,\",\n",
       " \"où nagent dans la nuit l'horreur et le blasphème;\",\n",
       " 'un soleil sans chaleur plane au-dessus six mois,',\n",
       " 'et les six autres mois la nuit couvre la terre;',\n",
       " \"c'est un pays plus nu que la terre polaire;\",\n",
       " 'ni bêtes, ni ruisseaux, ni verdure, ni bois!',\n",
       " \"or il n'est d'horreur au monde qui surpasse\",\n",
       " 'la froide cruauté de ce soleil de glace',\n",
       " 'et cette immense nuit semblable au vieux chaos;',\n",
       " 'je jalouse le sort des plus vils animaux',\n",
       " 'qui peuvent se plonger dans un sommeil stupide,',\n",
       " \"tant l'écheveau du temps lentement se dévide!\",\n",
       " 'le vampire',\n",
       " 'toi qui, comme un coup de couteau.',\n",
       " 'dans mon coeur plaintif est entrée;',\n",
       " 'toi qui, forte comme un troupeau',\n",
       " 'de démons, vins, folle et parée,',\n",
       " 'de mon esprit humilié',\n",
       " 'faire ton lit et ton domaine.',\n",
       " '--infâme à qui je suis lié',\n",
       " 'comme le forçat à la chaîne,',\n",
       " 'comme au jeu le joueur têtu,',\n",
       " \"comme à la bouteille l'ivrogne,\",\n",
       " 'comme aux vermines la charogne,',\n",
       " '--maudite, maudite sois-tu!',\n",
       " \"j'ai prié le glaive rapide\",\n",
       " 'de conquérir ma liberté,',\n",
       " \"et j'ai dit au poison perfide\",\n",
       " 'de secourir ma lâcheté.',\n",
       " 'hélas! le poison et le glaive',\n",
       " \"m'ont pris en dédain et m'ont dit:\",\n",
       " \"« tu n'es pas digne qu'on t'enlève\",\n",
       " 'a ton esclavage maudit,',\n",
       " 'imbécile!--de son empire',\n",
       " 'si nos efforts te délivraient,',\n",
       " 'tes baisers ressusciteraient',\n",
       " 'le cadavre de ton vampire! »',\n",
       " \"une nuit que j'étais près d'une affreuse juive,\",\n",
       " \"comme au long d'un cadavre un cadavre étendu,\",\n",
       " 'je me pris à songer près de ce corps vendu',\n",
       " 'a la triste beauté dont mon désir se prive.',\n",
       " 'je me représentai sa majesté native,',\n",
       " 'son regard de vigueur et de grâces armé,',\n",
       " 'ses cheveux qui lui font un casque parfumé,',\n",
       " \"et dont le souvenir pour l'amour me ravive.\",\n",
       " \"car j'eusse avec ferveur baisé ton noble corps,\",\n",
       " \"et depuis tes pieds frais jusqu'à tes noires tresses\",\n",
       " 'déroulé le trésor des profondes caresses,',\n",
       " \"si, quelque soir, d'un pleur obtenu sans effort\",\n",
       " 'tu pouvais seulement, ô reine des cruelles,',\n",
       " 'obscurcir la splendeur de tes froides prunelles.',\n",
       " 'remords posthume',\n",
       " 'lorsque tu dormiras, ma belle ténébreuse,',\n",
       " \"au fond d'un monument construit en marbre noir,\",\n",
       " \"et lorsque tu n'auras pour alcôve et manoir\",\n",
       " \"qu'un caveau pluvieux et qu'une fosse creuse;\",\n",
       " 'quand la pierre, opprimant ta poitrine peureuse',\n",
       " \"et tes flancs qu'assouplit un charmant nonchaloir,\",\n",
       " 'empêchera ton coeur de battre et de vouloir,',\n",
       " 'et tes pieds de courir leur course aventureuse,',\n",
       " 'le tombeau, confident de mon rêve infini,',\n",
       " '--car le tombeau toujours comprendra le poète,--',\n",
       " \"durant ces longues nuits d'où le somme est banni,\",\n",
       " 'te dira: « que vous sert, courtisane imparfaite,',\n",
       " \"de n'avoir pas connu ce que pleurent les morts? »\",\n",
       " '--et le ver rongera ta peau comme un remords.',\n",
       " 'le chat',\n",
       " 'viens, mon beau chat, sur mon coeur amoureux:',\n",
       " 'retiens les griffes de ta patte,',\n",
       " 'et laisse-moi plonger dans tes beaux yeux,',\n",
       " \"mêlés de métal et d'agate.\",\n",
       " 'lorsque mes doigts caressent à loisir',\n",
       " 'ta tête et ton dos élastique,',\n",
       " \"et que ma main s'enivre du plaisir\",\n",
       " 'de palper ton corps électrique,',\n",
       " 'je vois ma femme en esprit; son regard,',\n",
       " 'comme le tien, aimable bête,',\n",
       " 'profond et froid, coupe et fend comme un dard.',\n",
       " 'et, des pieds jusques à la tête,',\n",
       " 'un air subtil, un dangereux parfum',\n",
       " 'nagent autour de son corps brun.',\n",
       " 'le balcon',\n",
       " 'mère des souvenirs, maîtresse des maîtresses,',\n",
       " 'o toi, tous mes plaisirs, ô toi, tous mes devoirs!',\n",
       " 'tu te rappelleras la beauté des caresses,',\n",
       " 'la douceur du foyer et le charme des soirs,',\n",
       " 'mère des souvenirs, maîtresse des maîtresses!',\n",
       " \"les soirs illuminés par l'ardeur du charbon,\",\n",
       " 'et les soirs au balcon, voilés de vapeurs roses;',\n",
       " \"que ton sein m'était doux! que ton coeur m'était bon!\",\n",
       " \"nous avons dit souvent d'impérissables choses\",\n",
       " \"les soirs illuminés par l'ardeur du charbon.\",\n",
       " 'que les soleils sont beaux dans les chaudes soirées!',\n",
       " \"que l'espace est profond! que le coeur est puissant!\",\n",
       " 'en me penchant vers toi, reine des adorées,',\n",
       " 'je croyais respirer le parfum de ton sang.',\n",
       " 'que les soleils sont beaux dans les chaudes soirées!',\n",
       " \"la nuit s'épaississait ainsi qu'une cloison,\",\n",
       " 'et mes yeux dans le noir devinaient tes prunelles',\n",
       " 'et je buvais ton souffle, ô douceur, ô poison!',\n",
       " \"et tes pieds s'endormaient dans mes mains fraternelles,\",\n",
       " \"la nuit s'épaississait ainsi qu'une cloison.\",\n",
       " \"je sais l'art d'évoquer les minutes heureuses,\",\n",
       " 'et revis mon passé blotti dans tes genoux.',\n",
       " 'car à quoi bon chercher tes beautés langoureuses',\n",
       " \"ailleurs qu'en ton cher corps et qu'en ton coeur si doux?\",\n",
       " \"je sais l'art d'évoquer les minutes heureuses!\",\n",
       " 'ces serments, ces parfums, ces baisers infinis,',\n",
       " \"renaîtront-ils d'un gouffre interdit à nos sondes,\",\n",
       " 'comme montent au ciel les soleils rajeunis',\n",
       " \"après s'être lacés au fond des mers profondes!\",\n",
       " '--o serments! ô parfums! ô baisers infinis!',\n",
       " 'le possede',\n",
       " \"le soleil s'est couvert d'un crêpe. comme lui,\",\n",
       " \"o lune de ma vie! emmitoufle-toi d'ombre;\",\n",
       " 'dors ou fume à ton gré; sois muette, sois sombre,',\n",
       " \"et plonge tout entière au gouffre de l'ennui;\",\n",
       " \"je t'aime ainsi! pourtant, si tu veux aujourd'hui,\",\n",
       " 'comme un astre éclipsé qui sort de la pénombre,',\n",
       " 'te pavaner aux lieux que la folie encombre,',\n",
       " \"c'est bien! charmant poignard, jaillis de ton étui!\",\n",
       " 'allume ta prunelle à la flamme des lustres!',\n",
       " 'allume le désir dans les regards des rustres!',\n",
       " \"tout de toi m'est plaisir, morbide ou pétulant;\",\n",
       " 'sois ce que tu voudras, nuit noire, rouge aurore;',\n",
       " \"il n'est pas une fibre en tout mon corps tremblant\",\n",
       " \"qui ne crie: o mon cher belzébuth, je t'adore!\",\n",
       " 'un fantome',\n",
       " 'i',\n",
       " 'les ténèbres',\n",
       " \"dans les caveaux d'insondable tristesse\",\n",
       " \"où le destin m'a déjà relégué;\",\n",
       " \"où jamais n'entre un rayon rosé et gai;\",\n",
       " 'où, seul avec la nuit, maussade hôtesse,',\n",
       " \"je suis comme un peintre qu'un dieu moqueur\",\n",
       " 'condamne à peindre, hélas! sur les ténèbres;',\n",
       " 'où, cuisinier aux appétits funèbres,',\n",
       " 'je fais bouillir et je mange mon coeur,',\n",
       " \"par instants brille, et s'allonge, et s'étale\",\n",
       " 'un spectre fait de grâce et de splendeur:',\n",
       " 'a sa rêveuse allure orientale,',\n",
       " 'quand il atteint sa totale grandeur,',\n",
       " 'je reconnais ma belle visiteuse:',\n",
       " \"c'est elle! sombre et pourtant lumineuse.\",\n",
       " 'ii',\n",
       " 'le parfum',\n",
       " 'lecteur, as-tu quelquefois respiré',\n",
       " 'avec ivresse et lente gourmandise',\n",
       " \"ce grain d'encens qui remplit une église,\",\n",
       " \"ou d'un sachet le musc invétéré?\",\n",
       " 'charme profond, magique, dont nous grise',\n",
       " 'dans le présent le passé restauré!',\n",
       " \"ainsi l'amant sur un corps adoré\",\n",
       " 'du souvenir cueille la fleur exquise.',\n",
       " 'de ses cheveux élastiques et lourds,',\n",
       " \"vivant sachet, encensoir de l'alcôve,\",\n",
       " 'une senteur montait, sauvage et fauve,',\n",
       " 'et des habits, mousseline ou velours,',\n",
       " 'tout imprégnés de sa jeunesse pure,',\n",
       " 'se dégageait un parfum de fourrure.',\n",
       " 'iii',\n",
       " 'le cadre',\n",
       " 'comme un beau cadre ajoute à la peinture,',\n",
       " \"bien qu'elle soit d'un pinceau très vanté,\",\n",
       " \"je ne sais quoi d'étrange et d'enchanté\",\n",
       " \"en l'isolant de l'immense nature.\",\n",
       " 'ainsi bijoux, meubles, métaux, dorure,',\n",
       " \"s'adaptaient juste à sa rare beauté;\",\n",
       " \"rien n'offusquait sa parfaite clarté,\",\n",
       " 'et tout semblait lui servir de bordure.',\n",
       " \"même on eût dit parfois qu'elle croyait\",\n",
       " \"que tout voulait l'aimer; elle noyait\",\n",
       " 'dans les baisers du satin et du linge',\n",
       " 'son beau corps nu, plein de frissonnements,',\n",
       " 'et, lente ou brusque, en tous ses mouvements,',\n",
       " 'montrait la grâce enfantine du singe.',\n",
       " 'iv',\n",
       " 'le portrait',\n",
       " 'la maladie et la mort font des cendres',\n",
       " 'de tout le feu qui pour nous flamboya.',\n",
       " 'de ces grands yeux si fervents et si tendres,',\n",
       " 'de cette bouche où mon coeur se noya,',\n",
       " 'de ces baisers puissants comme un dictame,',\n",
       " 'de ces transports plus vifs que des rayons.',\n",
       " \"que reste-t-il? c'est affreux, ô mon âme!\",\n",
       " \"rien qu'un dessin fort pâle, aux trois crayons,\",\n",
       " 'qui, comme moi, meurt dans la solitude,',\n",
       " 'et que le temps, injurieux vieillard,',\n",
       " 'chaque jour frotte avec son aile rude...',\n",
       " \"noir assassin de la vie et de l'art,\",\n",
       " 'tu ne tueras jamais dans ma mémoire',\n",
       " 'celle qui fut mon plaisir et ma gloire!',\n",
       " 'je te donne ces vers afin que, si mon nom',\n",
       " 'aborde heureusement aux époques lointaines',\n",
       " 'et fait rêver un soir les cervelles humaines,',\n",
       " 'vaisseau favorisé par un grand aquilon,',\n",
       " 'ta mémoire, pareille aux fables incertaines,',\n",
       " \"fatigue le lecteur ainsi qu'un tympanon,\",\n",
       " 'et par un fraternel et mystique chaînon',\n",
       " 'reste comme pendue à mes rimes hautaines;',\n",
       " \"etre maudit à qui de l'abîme profond\",\n",
       " \"jusqu'au plus haut du ciel rien, hors moi, ne répond;\",\n",
       " '--o toi qui, comme une ombre à la trace éphémère,',\n",
       " \"foules d'un pied léger et d'un regard serein\",\n",
       " \"les stupides mortels qui t'ont jugée amère,\",\n",
       " \"statue aux yeux de jais, grand ange au front d'airain!\",\n",
       " 'semper eadem',\n",
       " \"« d'où vous vient, disiez-vous, cette tristesse étrange,\",\n",
       " 'montant comme la mer sur le roc noir et nu? »',\n",
       " '--quand notre coeur a fait une fois sa vendange,',\n",
       " \"vivre est un mal! c'est un secret de tous connu,\",\n",
       " 'une douleur très simple et non mystérieuse,',\n",
       " 'et, comme votre joie, éclatante pour tous.',\n",
       " 'cessez donc de chercher, ô belle curieuse!',\n",
       " 'et, bien que votre voix soit douce, taisez-vous!',\n",
       " 'taisez-vous, ignorante! âme toujours ravie!',\n",
       " 'bouche au rire enfantin! plus encore que la vie,',\n",
       " 'la mort nous tient souvent par des liens subtils.',\n",
       " \"laissez, laissez mon coeur s'enivrer d'un mensonge,\",\n",
       " 'plonger dans vos beaux yeux comme dans un beau songe,',\n",
       " \"et sommeiller longtemps à l'ombre de vos cils!\",\n",
       " 'tout entiere',\n",
       " 'le démon, dans ma chambre haute,',\n",
       " 'ce matin est venu me voir,',\n",
       " 'et, tâchant à me prendre en faute,',\n",
       " 'me dit: « je voudrais bien savoir,',\n",
       " 'parmi toutes les belles choses',\n",
       " 'dont est fait son enchantement,',\n",
       " 'parmi les objets noirs ou roses',\n",
       " 'qui composent son corps charmant,',\n",
       " 'quel est le plus doux. »--o mon âme!',\n",
       " \"tu répondis à l'abhorré:\",\n",
       " \"« puisqu'en elle tout est dictame,\",\n",
       " 'rien ne peut être préféré.',\n",
       " \"lorsque tout me ravit, j'ignore\",\n",
       " ...]"
      ]
     },
     "execution_count": 3,
     "metadata": {},
     "output_type": "execute_result"
    }
   ],
   "execution_count": 3
  },
  {
   "cell_type": "code",
   "id": "4bb5691f",
   "metadata": {
    "hide-output": false,
    "ExecuteTime": {
     "end_time": "2024-11-08T20:27:41.405424Z",
     "start_time": "2024-11-08T20:27:41.396509Z"
    }
   },
   "source": [
    "characters = sorted(set(text))\n",
    "n_characters = len(characters)\n",
    "n_characters"
   ],
   "outputs": [
    {
     "data": {
      "text/plain": [
       "59"
      ]
     },
     "execution_count": 4,
     "metadata": {},
     "output_type": "execute_result"
    }
   ],
   "execution_count": 4
  },
  {
   "cell_type": "markdown",
   "id": "33538e9c",
   "metadata": {},
   "source": [
    "### Question\n",
    "\n",
    "Que contient la variable `characters` ? Que représente\n",
    "`n_characters` ? La documentation des\n",
    "[Set](https://docs.python.org/fr/3/tutorial/datastructures.html#sets)\n",
    "en Python peut vous aider.\n",
    "\n",
    "Dans la suite de ce TP, nous allons considérer le texte comme une suite\n",
    "de caractères. Nous n’allons donc pas raisonner au niveau du mot mais au\n",
    "niveau du symbole. Chaque caractère du texte d’entrée sera représenté en\n",
    "entrée du réseau de neurones par un encodage *one-hot* sur le\n",
    "dictionnaire de symboles. Autrement dit, pour un dictionnaire simplifié\n",
    "(” “, `a`, `b`, `c`, `d`), la lettre `a` serait représentée\n",
    "par le vecteur $ (0, 1, 0, 0, 0, 0) $ tandis que l’espace “ “\n",
    "serait représenté par le vecteur $ (1, 0, 0, 0, 0) $.\n",
    "\n",
    "Nous allons désormais entraîner un réseau de neurones récurrent.\n",
    "Celui-ci va recevoir en entrée une séquence de `SEQLEN` caractères.\n",
    "Son objectif sera de prédire en sortie le caractère suivant dans le\n",
    "corpus. Par exemple, pour la phrase :\n",
    "\n",
    "> Le vélo est rouge.\n",
    "\n",
    "\n",
    "le modèle devra prédire `l` à partir de la séquence `Le vé`, puis\n",
    "`o` à partir de la séquence `Le vél`, et ainsi de suite. Il s’agit\n",
    "donc d’un problème de classification à `n_characters` classes\n",
    "différentes (une classe par symbole).\n",
    "\n",
    "L’étiquette de classe est obtenue automatiquement à partir du corpus.\n",
    "Comme il n’y a eu aucune annotation manuelle du jeu de données, cet\n",
    "objectif de prédiction du caractère suivant représente un problème\n",
    "d’apprentissage dit *auto-supervisé* (ou *self-supervised*). La\n",
    "supervision est construite artificiellement à partir des données elles\n",
    "mêmes.\n",
    "\n",
    "Les données d’entraînement consistent donc en l’ensemble des séquences\n",
    "de caractères du corpus dont la taille est inférieure à `SEQLEN`.\n",
    "L’étiquette de la classe cible correspondante est celle de l’indice du\n",
    "prochain caractère à prédire, c’est-à-dire le caractère suivant dans le\n",
    "corpus."
   ]
  },
  {
   "cell_type": "code",
   "id": "be745872",
   "metadata": {
    "hide-output": false,
    "ExecuteTime": {
     "end_time": "2024-11-08T20:27:43.010015Z",
     "start_time": "2024-11-08T20:27:42.926564Z"
    }
   },
   "source": [
    "# SEQLEN représente la taille de la séquence de lettres à passer en entrée\n",
    "SEQLEN = 10\n",
    "step = 1\n",
    "input_characters, labels = [], []\n",
    "# On parcourt le corpus de texte avec une fenêtre glissante\n",
    "for i in range(0, len(text) - SEQLEN, step):\n",
    "    input_characters.append(text[i:i + SEQLEN])\n",
    "    labels.append(text[i + SEQLEN])\n",
    "\n",
    "print(f\"Il y a {len(input_characters)} séquences de {SEQLEN} caractères dans le corpus d'entraînement.\")"
   ],
   "outputs": [
    {
     "name": "stdout",
     "output_type": "stream",
     "text": [
      "Il y a 146120 séquences de 10 caractères dans le corpus d'entraînement.\n"
     ]
    }
   ],
   "execution_count": 5
  },
  {
   "cell_type": "markdown",
   "id": "4be16ebe",
   "metadata": {},
   "source": [
    "### Question\n",
    "\n",
    "Afficher une séquence de `SEQLEN` caractères et l’étiquette de classe\n",
    "correspondante, c’est-à-dire le caractère suivant.\n",
    "\n",
    "Nous pouvons maintenant vectoriser les données d’entraînement en\n",
    "utilisant le dictionnaire et un encodage *one-hot* pour chaque caractère\n",
    ":"
   ]
  },
  {
   "metadata": {
    "ExecuteTime": {
     "end_time": "2024-11-08T20:27:44.257542Z",
     "start_time": "2024-11-08T20:27:44.252163Z"
    }
   },
   "cell_type": "code",
   "source": "input_characters[0], labels[0], input_characters[1], labels[1]",
   "id": "593e304129ed77cb",
   "outputs": [
    {
     "data": {
      "text/plain": [
       "('charles ba', 'u', 'harles bau', 'd')"
      ]
     },
     "execution_count": 6,
     "metadata": {},
     "output_type": "execute_result"
    }
   ],
   "execution_count": 6
  },
  {
   "cell_type": "code",
   "id": "19182fe9",
   "metadata": {
    "hide-output": false,
    "ExecuteTime": {
     "end_time": "2024-11-08T20:27:45.082076Z",
     "start_time": "2024-11-08T20:27:45.077279Z"
    }
   },
   "source": [
    "# Encodage caractère -> indice du dictionaire\n",
    "char2index = dict((c, i) for i, c in enumerate(characters))\n",
    "# Encodage de l'indice vers le caractère (utilisé pour décoder les prédictions du modèle)\n",
    "index2char = dict((i, c) for i, c in enumerate(characters)) # mapping index -> char in dictionary"
   ],
   "outputs": [],
   "execution_count": 7
  },
  {
   "cell_type": "markdown",
   "id": "5ded531f",
   "metadata": {},
   "source": [
    "Chaque séquence d’entraînement est donc représentée par une matrice de\n",
    "taille $ SEQLEN \\times m $, correspondant à une longueur de\n",
    "`SEQLEN` caractères, chaque caractère étant encodé par un vecteur\n",
    "binaire correspondant à un encodage *one-hot*. $ m $ représente la\n",
    "taille du dictionnaire, c’est-à-dire le nombre de symboles uniques dans\n",
    "le corpus.\n",
    "\n",
    "- L’ensemble des données d’entraînement `X` seront donc constituées\n",
    "  par un tenseur de taille $ N \\times SEQLEN \\times m $ où $ N $\n",
    "  est le nombre de séquences de `SEQLEN` caractères dans le corpus.  \n",
    "- L’ensemble des labels d’entraînement `y` seront représentées par un\n",
    "  tenseur de $ N \\times m $, où la sortie pour chaque\n",
    "  exemple correspond à l’indice dans le dictionnaire du caractère\n",
    "  suivant la séquence  "
   ]
  },
  {
   "cell_type": "markdown",
   "id": "60d5bc90",
   "metadata": {},
   "source": [
    "### Question\n",
    "\n",
    "Compléter le code ci-dessous afin de créer les tenseurs `X` et `y`\n",
    "contenant les données d’entraînement (séquences de caractères dans `X`\n",
    "et étiquettes de classe dans `y`. Vous pourrez notamment utiliser à\n",
    "bon escient le dictionnaire `char2index` qui permet de transformer un\n",
    "caractère en son indice entier."
   ]
  },
  {
   "cell_type": "code",
   "id": "1a9fae51",
   "metadata": {
    "hide-output": false,
    "ExecuteTime": {
     "end_time": "2024-11-08T20:27:47.404090Z",
     "start_time": "2024-11-08T20:27:46.641766Z"
    }
   },
   "source": [
    "import numpy as np\n",
    "X = np.zeros((len(input_characters), SEQLEN, n_characters), dtype=bool)\n",
    "y = np.zeros((len(input_characters), n_characters), dtype=bool)\n",
    "\n",
    "for idx_seq, sequence in enumerate(input_characters):\n",
    "    for t, char in enumerate(sequence):\n",
    "        # Utilise char2index pour obtenir l'indice du caractère\n",
    "        char_index = char2index[char]\n",
    "        # Placer un 1 dans la position correspondante pour l'encodage one-hot dans X\n",
    "        X[idx_seq, t, char_index] = 1\n",
    "    # Encoder la prochaine lettre (la cible) dans y\n",
    "    next_char = labels[idx_seq]\n",
    "    next_char_index = char2index[next_char]\n",
    "    y[idx_seq, next_char_index] = 1"
   ],
   "outputs": [],
   "execution_count": 8
  },
  {
   "cell_type": "markdown",
   "id": "7c81cf12",
   "metadata": {},
   "source": [
    "Comme à l’accoutumée, nous allons séparer le jeu de données en deux : un\n",
    "ensemble d’apprentissage et un ensemble de validation. Le jeu de\n",
    "validation nous permettra notamment d’évaluer les performances du modèle\n",
    "et d’éviter le sur-apprentissage."
   ]
  },
  {
   "cell_type": "code",
   "id": "3f6722b2",
   "metadata": {
    "hide-output": false,
    "ExecuteTime": {
     "end_time": "2024-11-08T20:27:49.679193Z",
     "start_time": "2024-11-08T20:27:49.474822Z"
    }
   },
   "source": [
    "from sklearn.model_selection import train_test_split\n",
    "\n",
    "# 80% des données en apprentissage, 20% en validation\n",
    "X_train, X_test, y_train, y_test = train_test_split(X, y, train_size=0.8, random_state=0)"
   ],
   "outputs": [],
   "execution_count": 9
  },
  {
   "cell_type": "markdown",
   "id": "d28f7a96",
   "metadata": {},
   "source": [
    "### Apprentissage d’un modèle auto-supervisé pour la génération de texte\n",
    "\n",
    "Maintenant que les données ont été formatées, nous pouvons commencer à\n",
    "définir le modèle que nous allons utiliser. Nous allons l’implémenter\n",
    "sous la forme d’un modèle Keras séquentiel\n",
    "([Sequential](https://keras.io/api/models/sequential/))."
   ]
  },
  {
   "cell_type": "code",
   "id": "20c8f992",
   "metadata": {
    "hide-output": false,
    "ExecuteTime": {
     "end_time": "2024-11-08T20:27:53.258098Z",
     "start_time": "2024-11-08T20:27:51.347349Z"
    }
   },
   "source": [
    "from tensorflow.keras.layers import SimpleRNN\n",
    "from tensorflow.keras.models import Sequential\n",
    "\n",
    "model = Sequential()"
   ],
   "outputs": [
    {
     "name": "stderr",
     "output_type": "stream",
     "text": [
      "2024-11-08 21:27:51.632084: I external/local_xla/xla/tsl/cuda/cudart_stub.cc:32] Could not find cuda drivers on your machine, GPU will not be used.\n",
      "2024-11-08 21:27:51.636754: I external/local_xla/xla/tsl/cuda/cudart_stub.cc:32] Could not find cuda drivers on your machine, GPU will not be used.\n",
      "2024-11-08 21:27:51.648057: E external/local_xla/xla/stream_executor/cuda/cuda_fft.cc:477] Unable to register cuFFT factory: Attempting to register factory for plugin cuFFT when one has already been registered\n",
      "WARNING: All log messages before absl::InitializeLog() is called are written to STDERR\n",
      "E0000 00:00:1731097671.666477   14610 cuda_dnn.cc:8310] Unable to register cuDNN factory: Attempting to register factory for plugin cuDNN when one has already been registered\n",
      "E0000 00:00:1731097671.671864   14610 cuda_blas.cc:1418] Unable to register cuBLAS factory: Attempting to register factory for plugin cuBLAS when one has already been registered\n",
      "2024-11-08 21:27:51.690588: I tensorflow/core/platform/cpu_feature_guard.cc:210] This TensorFlow binary is optimized to use available CPU instructions in performance-critical operations.\n",
      "To enable the following instructions: AVX2 FMA, in other operations, rebuild TensorFlow with the appropriate compiler flags.\n"
     ]
    }
   ],
   "execution_count": 10
  },
  {
   "cell_type": "markdown",
   "id": "fed800f1",
   "metadata": {},
   "source": [
    "Pour l’instant, ce modèle est vide. Nous allons lui ajouter une couche\n",
    "récurrente avec un modèle de type `SimpleRNN` (la cellule récurrente\n",
    "la plus simple) :"
   ]
  },
  {
   "cell_type": "code",
   "id": "59262127",
   "metadata": {
    "hide-output": false,
    "ExecuteTime": {
     "end_time": "2024-11-08T20:27:54.882583Z",
     "start_time": "2024-11-08T20:27:54.799683Z"
    }
   },
   "source": [
    "h_size = 128\n",
    "model.add(SimpleRNN(h_size, return_sequences=False, input_shape=(SEQLEN, n_characters), unroll=True))"
   ],
   "outputs": [
    {
     "name": "stderr",
     "output_type": "stream",
     "text": [
      "W0000 00:00:1731097674.832018   14610 gpu_device.cc:2344] Cannot dlopen some GPU libraries. Please make sure the missing libraries mentioned above are installed properly if you would like to use GPU. Follow the guide at https://www.tensorflow.org/install/gpu for how to download and setup the required libraries for your platform.\n",
      "Skipping registering GPU devices...\n",
      "/home/ariel/PycharmProjects/enronmails/venv/lib/python3.10/site-packages/keras/src/layers/rnn/rnn.py:204: UserWarning: Do not pass an `input_shape`/`input_dim` argument to a layer. When using Sequential models, prefer using an `Input(shape)` object as the first layer in the model instead.\n",
      "  super().__init__(**kwargs)\n"
     ]
    }
   ],
   "execution_count": 11
  },
  {
   "cell_type": "markdown",
   "id": "4c7cd80f",
   "metadata": {},
   "source": [
    "### Question\n",
    "\n",
    "À l’aide de la documentation de\n",
    "[SimpleRNN](https://keras.io/api/layers/recurrent_layers/simple_rnn/)\n",
    "dans Keras, expliquer à quoi correspondent les paramètres\n",
    "`h_size = 128` et `return_sequences=False`."
   ]
  },
  {
   "cell_type": "markdown",
   "id": "e8b79284",
   "metadata": {},
   "source": [
    "### Note\n",
    "\n",
    "L’argument optionnel `unroll=True` permet simplement\n",
    "d’accélérer les calculs en « déroulant » le réseau récurrent plutôt que\n",
    "d’utiliser une boucle `for` en interne.\n",
    "\n",
    "Pour terminer notre modèle, nous ajoutons enfin une couche entièrement\n",
    "connectée suivie d’une fonction `softmax` qui effectuera la\n",
    "classification du caractère suivant la séquence."
   ]
  },
  {
   "cell_type": "code",
   "id": "cc8c331b",
   "metadata": {
    "hide-output": false,
    "ExecuteTime": {
     "end_time": "2024-11-08T20:27:58.779305Z",
     "start_time": "2024-11-08T20:27:58.757426Z"
    }
   },
   "source": [
    "from tensorflow.keras.layers import Dense, Activation\n",
    "\n",
    "model.add(Dense(n_characters))\n",
    "model.add(Activation(\"softmax\"))"
   ],
   "outputs": [],
   "execution_count": 12
  },
  {
   "cell_type": "markdown",
   "id": "632e513c",
   "metadata": {},
   "source": [
    "Empiriquement, il a été constaté que l’optimisation des réseaux\n",
    "récurrents est plus rapide et la convergence plus robuste lorsque l’on\n",
    "utilise des méthodes de descente de gradient à pas adaptatif, telles que\n",
    "`RMSprop` [[TH12]](#tieleman2012)."
   ]
  },
  {
   "cell_type": "code",
   "id": "d4605f8c",
   "metadata": {
    "hide-output": false,
    "ExecuteTime": {
     "end_time": "2024-11-08T20:28:00.366354Z",
     "start_time": "2024-11-08T20:28:00.356299Z"
    }
   },
   "source": [
    "from tensorflow.keras.optimizers import RMSprop\n",
    "\n",
    "learning_rate = 0.001\n",
    "optim = RMSprop(learning_rate=learning_rate)"
   ],
   "outputs": [],
   "execution_count": 13
  },
  {
   "cell_type": "markdown",
   "id": "213184c5",
   "metadata": {},
   "source": [
    "Nous pouvons donc compiler le modèle et utiliser la méthode\n",
    "`summary()` de Keras pour visualiser le nombre de paramètres du\n",
    "réseaux"
   ]
  },
  {
   "cell_type": "code",
   "id": "91ed3666",
   "metadata": {
    "hide-output": false,
    "ExecuteTime": {
     "end_time": "2024-11-08T20:28:01.809696Z",
     "start_time": "2024-11-08T20:28:01.781419Z"
    }
   },
   "source": [
    "model.compile(loss=\"categorical_crossentropy\", optimizer=optim, metrics=['accuracy'])\n",
    "model.summary()"
   ],
   "outputs": [
    {
     "data": {
      "text/plain": [
       "\u001B[1mModel: \"sequential\"\u001B[0m\n"
      ],
      "text/html": [
       "<pre style=\"white-space:pre;overflow-x:auto;line-height:normal;font-family:Menlo,'DejaVu Sans Mono',consolas,'Courier New',monospace\"><span style=\"font-weight: bold\">Model: \"sequential\"</span>\n",
       "</pre>\n"
      ]
     },
     "metadata": {},
     "output_type": "display_data"
    },
    {
     "data": {
      "text/plain": [
       "┏━━━━━━━━━━━━━━━━━━━━━━━━━━━━━━━━━┳━━━━━━━━━━━━━━━━━━━━━━━━┳━━━━━━━━━━━━━━━┓\n",
       "┃\u001B[1m \u001B[0m\u001B[1mLayer (type)                   \u001B[0m\u001B[1m \u001B[0m┃\u001B[1m \u001B[0m\u001B[1mOutput Shape          \u001B[0m\u001B[1m \u001B[0m┃\u001B[1m \u001B[0m\u001B[1m      Param #\u001B[0m\u001B[1m \u001B[0m┃\n",
       "┡━━━━━━━━━━━━━━━━━━━━━━━━━━━━━━━━━╇━━━━━━━━━━━━━━━━━━━━━━━━╇━━━━━━━━━━━━━━━┩\n",
       "│ simple_rnn (\u001B[38;5;33mSimpleRNN\u001B[0m)          │ (\u001B[38;5;45mNone\u001B[0m, \u001B[38;5;34m128\u001B[0m)            │        \u001B[38;5;34m24,064\u001B[0m │\n",
       "├─────────────────────────────────┼────────────────────────┼───────────────┤\n",
       "│ dense (\u001B[38;5;33mDense\u001B[0m)                   │ (\u001B[38;5;45mNone\u001B[0m, \u001B[38;5;34m59\u001B[0m)             │         \u001B[38;5;34m7,611\u001B[0m │\n",
       "├─────────────────────────────────┼────────────────────────┼───────────────┤\n",
       "│ activation (\u001B[38;5;33mActivation\u001B[0m)         │ (\u001B[38;5;45mNone\u001B[0m, \u001B[38;5;34m59\u001B[0m)             │             \u001B[38;5;34m0\u001B[0m │\n",
       "└─────────────────────────────────┴────────────────────────┴───────────────┘\n"
      ],
      "text/html": [
       "<pre style=\"white-space:pre;overflow-x:auto;line-height:normal;font-family:Menlo,'DejaVu Sans Mono',consolas,'Courier New',monospace\">┏━━━━━━━━━━━━━━━━━━━━━━━━━━━━━━━━━┳━━━━━━━━━━━━━━━━━━━━━━━━┳━━━━━━━━━━━━━━━┓\n",
       "┃<span style=\"font-weight: bold\"> Layer (type)                    </span>┃<span style=\"font-weight: bold\"> Output Shape           </span>┃<span style=\"font-weight: bold\">       Param # </span>┃\n",
       "┡━━━━━━━━━━━━━━━━━━━━━━━━━━━━━━━━━╇━━━━━━━━━━━━━━━━━━━━━━━━╇━━━━━━━━━━━━━━━┩\n",
       "│ simple_rnn (<span style=\"color: #0087ff; text-decoration-color: #0087ff\">SimpleRNN</span>)          │ (<span style=\"color: #00d7ff; text-decoration-color: #00d7ff\">None</span>, <span style=\"color: #00af00; text-decoration-color: #00af00\">128</span>)            │        <span style=\"color: #00af00; text-decoration-color: #00af00\">24,064</span> │\n",
       "├─────────────────────────────────┼────────────────────────┼───────────────┤\n",
       "│ dense (<span style=\"color: #0087ff; text-decoration-color: #0087ff\">Dense</span>)                   │ (<span style=\"color: #00d7ff; text-decoration-color: #00d7ff\">None</span>, <span style=\"color: #00af00; text-decoration-color: #00af00\">59</span>)             │         <span style=\"color: #00af00; text-decoration-color: #00af00\">7,611</span> │\n",
       "├─────────────────────────────────┼────────────────────────┼───────────────┤\n",
       "│ activation (<span style=\"color: #0087ff; text-decoration-color: #0087ff\">Activation</span>)         │ (<span style=\"color: #00d7ff; text-decoration-color: #00d7ff\">None</span>, <span style=\"color: #00af00; text-decoration-color: #00af00\">59</span>)             │             <span style=\"color: #00af00; text-decoration-color: #00af00\">0</span> │\n",
       "└─────────────────────────────────┴────────────────────────┴───────────────┘\n",
       "</pre>\n"
      ]
     },
     "metadata": {},
     "output_type": "display_data"
    },
    {
     "data": {
      "text/plain": [
       "\u001B[1m Total params: \u001B[0m\u001B[38;5;34m31,675\u001B[0m (123.73 KB)\n"
      ],
      "text/html": [
       "<pre style=\"white-space:pre;overflow-x:auto;line-height:normal;font-family:Menlo,'DejaVu Sans Mono',consolas,'Courier New',monospace\"><span style=\"font-weight: bold\"> Total params: </span><span style=\"color: #00af00; text-decoration-color: #00af00\">31,675</span> (123.73 KB)\n",
       "</pre>\n"
      ]
     },
     "metadata": {},
     "output_type": "display_data"
    },
    {
     "data": {
      "text/plain": [
       "\u001B[1m Trainable params: \u001B[0m\u001B[38;5;34m31,675\u001B[0m (123.73 KB)\n"
      ],
      "text/html": [
       "<pre style=\"white-space:pre;overflow-x:auto;line-height:normal;font-family:Menlo,'DejaVu Sans Mono',consolas,'Courier New',monospace\"><span style=\"font-weight: bold\"> Trainable params: </span><span style=\"color: #00af00; text-decoration-color: #00af00\">31,675</span> (123.73 KB)\n",
       "</pre>\n"
      ]
     },
     "metadata": {},
     "output_type": "display_data"
    },
    {
     "data": {
      "text/plain": [
       "\u001B[1m Non-trainable params: \u001B[0m\u001B[38;5;34m0\u001B[0m (0.00 B)\n"
      ],
      "text/html": [
       "<pre style=\"white-space:pre;overflow-x:auto;line-height:normal;font-family:Menlo,'DejaVu Sans Mono',consolas,'Courier New',monospace\"><span style=\"font-weight: bold\"> Non-trainable params: </span><span style=\"color: #00af00; text-decoration-color: #00af00\">0</span> (0.00 B)\n",
       "</pre>\n"
      ]
     },
     "metadata": {},
     "output_type": "display_data"
    }
   ],
   "execution_count": 14
  },
  {
   "cell_type": "markdown",
   "id": "e16858eb",
   "metadata": {},
   "source": [
    "L’entraînement s’effectue de la manière habituelle à l’aide de la\n",
    "méthode `fit()`:"
   ]
  },
  {
   "cell_type": "code",
   "id": "32a17db0",
   "metadata": {
    "hide-output": false,
    "ExecuteTime": {
     "end_time": "2024-11-08T20:31:38.120082Z",
     "start_time": "2024-11-08T20:28:04.051440Z"
    }
   },
   "source": [
    "batch_size = 128\n",
    "num_epochs = 50\n",
    "model.fit(X_train, y_train, batch_size=batch_size, epochs=num_epochs)"
   ],
   "outputs": [
    {
     "name": "stdout",
     "output_type": "stream",
     "text": [
      "Epoch 1/50\n",
      "\u001B[1m914/914\u001B[0m \u001B[32m━━━━━━━━━━━━━━━━━━━━\u001B[0m\u001B[37m\u001B[0m \u001B[1m4s\u001B[0m 4ms/step - accuracy: 0.2507 - loss: 2.6956\n",
      "Epoch 2/50\n",
      "\u001B[1m914/914\u001B[0m \u001B[32m━━━━━━━━━━━━━━━━━━━━\u001B[0m\u001B[37m\u001B[0m \u001B[1m4s\u001B[0m 4ms/step - accuracy: 0.3493 - loss: 2.1943\n",
      "Epoch 3/50\n",
      "\u001B[1m914/914\u001B[0m \u001B[32m━━━━━━━━━━━━━━━━━━━━\u001B[0m\u001B[37m\u001B[0m \u001B[1m4s\u001B[0m 4ms/step - accuracy: 0.3645 - loss: 2.1077\n",
      "Epoch 4/50\n",
      "\u001B[1m914/914\u001B[0m \u001B[32m━━━━━━━━━━━━━━━━━━━━\u001B[0m\u001B[37m\u001B[0m \u001B[1m4s\u001B[0m 4ms/step - accuracy: 0.3825 - loss: 2.0413\n",
      "Epoch 5/50\n",
      "\u001B[1m914/914\u001B[0m \u001B[32m━━━━━━━━━━━━━━━━━━━━\u001B[0m\u001B[37m\u001B[0m \u001B[1m4s\u001B[0m 4ms/step - accuracy: 0.3988 - loss: 1.9897\n",
      "Epoch 6/50\n",
      "\u001B[1m914/914\u001B[0m \u001B[32m━━━━━━━━━━━━━━━━━━━━\u001B[0m\u001B[37m\u001B[0m \u001B[1m4s\u001B[0m 4ms/step - accuracy: 0.4081 - loss: 1.9553\n",
      "Epoch 7/50\n",
      "\u001B[1m914/914\u001B[0m \u001B[32m━━━━━━━━━━━━━━━━━━━━\u001B[0m\u001B[37m\u001B[0m \u001B[1m4s\u001B[0m 4ms/step - accuracy: 0.4177 - loss: 1.9126\n",
      "Epoch 8/50\n",
      "\u001B[1m914/914\u001B[0m \u001B[32m━━━━━━━━━━━━━━━━━━━━\u001B[0m\u001B[37m\u001B[0m \u001B[1m4s\u001B[0m 4ms/step - accuracy: 0.4293 - loss: 1.8756\n",
      "Epoch 9/50\n",
      "\u001B[1m914/914\u001B[0m \u001B[32m━━━━━━━━━━━━━━━━━━━━\u001B[0m\u001B[37m\u001B[0m \u001B[1m4s\u001B[0m 4ms/step - accuracy: 0.4348 - loss: 1.8521\n",
      "Epoch 10/50\n",
      "\u001B[1m914/914\u001B[0m \u001B[32m━━━━━━━━━━━━━━━━━━━━\u001B[0m\u001B[37m\u001B[0m \u001B[1m4s\u001B[0m 5ms/step - accuracy: 0.4421 - loss: 1.8332\n",
      "Epoch 11/50\n",
      "\u001B[1m914/914\u001B[0m \u001B[32m━━━━━━━━━━━━━━━━━━━━\u001B[0m\u001B[37m\u001B[0m \u001B[1m4s\u001B[0m 5ms/step - accuracy: 0.4496 - loss: 1.7938\n",
      "Epoch 12/50\n",
      "\u001B[1m914/914\u001B[0m \u001B[32m━━━━━━━━━━━━━━━━━━━━\u001B[0m\u001B[37m\u001B[0m \u001B[1m4s\u001B[0m 5ms/step - accuracy: 0.4566 - loss: 1.7767\n",
      "Epoch 13/50\n",
      "\u001B[1m914/914\u001B[0m \u001B[32m━━━━━━━━━━━━━━━━━━━━\u001B[0m\u001B[37m\u001B[0m \u001B[1m4s\u001B[0m 5ms/step - accuracy: 0.4643 - loss: 1.7547\n",
      "Epoch 14/50\n",
      "\u001B[1m914/914\u001B[0m \u001B[32m━━━━━━━━━━━━━━━━━━━━\u001B[0m\u001B[37m\u001B[0m \u001B[1m4s\u001B[0m 5ms/step - accuracy: 0.4640 - loss: 1.7466\n",
      "Epoch 15/50\n",
      "\u001B[1m914/914\u001B[0m \u001B[32m━━━━━━━━━━━━━━━━━━━━\u001B[0m\u001B[37m\u001B[0m \u001B[1m4s\u001B[0m 5ms/step - accuracy: 0.4713 - loss: 1.7213\n",
      "Epoch 16/50\n",
      "\u001B[1m914/914\u001B[0m \u001B[32m━━━━━━━━━━━━━━━━━━━━\u001B[0m\u001B[37m\u001B[0m \u001B[1m4s\u001B[0m 5ms/step - accuracy: 0.4741 - loss: 1.7154\n",
      "Epoch 17/50\n",
      "\u001B[1m914/914\u001B[0m \u001B[32m━━━━━━━━━━━━━━━━━━━━\u001B[0m\u001B[37m\u001B[0m \u001B[1m4s\u001B[0m 5ms/step - accuracy: 0.4805 - loss: 1.6916\n",
      "Epoch 18/50\n",
      "\u001B[1m914/914\u001B[0m \u001B[32m━━━━━━━━━━━━━━━━━━━━\u001B[0m\u001B[37m\u001B[0m \u001B[1m4s\u001B[0m 5ms/step - accuracy: 0.4860 - loss: 1.6775\n",
      "Epoch 19/50\n",
      "\u001B[1m914/914\u001B[0m \u001B[32m━━━━━━━━━━━━━━━━━━━━\u001B[0m\u001B[37m\u001B[0m \u001B[1m4s\u001B[0m 5ms/step - accuracy: 0.4873 - loss: 1.6712\n",
      "Epoch 20/50\n",
      "\u001B[1m914/914\u001B[0m \u001B[32m━━━━━━━━━━━━━━━━━━━━\u001B[0m\u001B[37m\u001B[0m \u001B[1m4s\u001B[0m 5ms/step - accuracy: 0.4918 - loss: 1.6618\n",
      "Epoch 21/50\n",
      "\u001B[1m914/914\u001B[0m \u001B[32m━━━━━━━━━━━━━━━━━━━━\u001B[0m\u001B[37m\u001B[0m \u001B[1m5s\u001B[0m 5ms/step - accuracy: 0.4939 - loss: 1.6509\n",
      "Epoch 22/50\n",
      "\u001B[1m914/914\u001B[0m \u001B[32m━━━━━━━━━━━━━━━━━━━━\u001B[0m\u001B[37m\u001B[0m \u001B[1m4s\u001B[0m 5ms/step - accuracy: 0.4961 - loss: 1.6414\n",
      "Epoch 23/50\n",
      "\u001B[1m914/914\u001B[0m \u001B[32m━━━━━━━━━━━━━━━━━━━━\u001B[0m\u001B[37m\u001B[0m \u001B[1m5s\u001B[0m 5ms/step - accuracy: 0.4973 - loss: 1.6255\n",
      "Epoch 24/50\n",
      "\u001B[1m914/914\u001B[0m \u001B[32m━━━━━━━━━━━━━━━━━━━━\u001B[0m\u001B[37m\u001B[0m \u001B[1m4s\u001B[0m 5ms/step - accuracy: 0.4994 - loss: 1.6229\n",
      "Epoch 25/50\n",
      "\u001B[1m914/914\u001B[0m \u001B[32m━━━━━━━━━━━━━━━━━━━━\u001B[0m\u001B[37m\u001B[0m \u001B[1m4s\u001B[0m 5ms/step - accuracy: 0.5027 - loss: 1.6127\n",
      "Epoch 26/50\n",
      "\u001B[1m914/914\u001B[0m \u001B[32m━━━━━━━━━━━━━━━━━━━━\u001B[0m\u001B[37m\u001B[0m \u001B[1m4s\u001B[0m 5ms/step - accuracy: 0.5037 - loss: 1.6123\n",
      "Epoch 27/50\n",
      "\u001B[1m914/914\u001B[0m \u001B[32m━━━━━━━━━━━━━━━━━━━━\u001B[0m\u001B[37m\u001B[0m \u001B[1m4s\u001B[0m 5ms/step - accuracy: 0.5058 - loss: 1.6022\n",
      "Epoch 28/50\n",
      "\u001B[1m914/914\u001B[0m \u001B[32m━━━━━━━━━━━━━━━━━━━━\u001B[0m\u001B[37m\u001B[0m \u001B[1m4s\u001B[0m 5ms/step - accuracy: 0.5072 - loss: 1.5961\n",
      "Epoch 29/50\n",
      "\u001B[1m914/914\u001B[0m \u001B[32m━━━━━━━━━━━━━━━━━━━━\u001B[0m\u001B[37m\u001B[0m \u001B[1m4s\u001B[0m 5ms/step - accuracy: 0.5107 - loss: 1.5817\n",
      "Epoch 30/50\n",
      "\u001B[1m914/914\u001B[0m \u001B[32m━━━━━━━━━━━━━━━━━━━━\u001B[0m\u001B[37m\u001B[0m \u001B[1m4s\u001B[0m 5ms/step - accuracy: 0.5116 - loss: 1.5834\n",
      "Epoch 31/50\n",
      "\u001B[1m914/914\u001B[0m \u001B[32m━━━━━━━━━━━━━━━━━━━━\u001B[0m\u001B[37m\u001B[0m \u001B[1m4s\u001B[0m 5ms/step - accuracy: 0.5148 - loss: 1.5740\n",
      "Epoch 32/50\n",
      "\u001B[1m914/914\u001B[0m \u001B[32m━━━━━━━━━━━━━━━━━━━━\u001B[0m\u001B[37m\u001B[0m \u001B[1m4s\u001B[0m 5ms/step - accuracy: 0.5101 - loss: 1.5782\n",
      "Epoch 33/50\n",
      "\u001B[1m914/914\u001B[0m \u001B[32m━━━━━━━━━━━━━━━━━━━━\u001B[0m\u001B[37m\u001B[0m \u001B[1m4s\u001B[0m 5ms/step - accuracy: 0.5170 - loss: 1.5635\n",
      "Epoch 34/50\n",
      "\u001B[1m914/914\u001B[0m \u001B[32m━━━━━━━━━━━━━━━━━━━━\u001B[0m\u001B[37m\u001B[0m \u001B[1m4s\u001B[0m 5ms/step - accuracy: 0.5189 - loss: 1.5540\n",
      "Epoch 35/50\n",
      "\u001B[1m914/914\u001B[0m \u001B[32m━━━━━━━━━━━━━━━━━━━━\u001B[0m\u001B[37m\u001B[0m \u001B[1m5s\u001B[0m 6ms/step - accuracy: 0.5195 - loss: 1.5479\n",
      "Epoch 36/50\n",
      "\u001B[1m914/914\u001B[0m \u001B[32m━━━━━━━━━━━━━━━━━━━━\u001B[0m\u001B[37m\u001B[0m \u001B[1m4s\u001B[0m 5ms/step - accuracy: 0.5202 - loss: 1.5504\n",
      "Epoch 37/50\n",
      "\u001B[1m914/914\u001B[0m \u001B[32m━━━━━━━━━━━━━━━━━━━━\u001B[0m\u001B[37m\u001B[0m \u001B[1m4s\u001B[0m 5ms/step - accuracy: 0.5226 - loss: 1.5389\n",
      "Epoch 38/50\n",
      "\u001B[1m914/914\u001B[0m \u001B[32m━━━━━━━━━━━━━━━━━━━━\u001B[0m\u001B[37m\u001B[0m \u001B[1m4s\u001B[0m 5ms/step - accuracy: 0.5228 - loss: 1.5432\n",
      "Epoch 39/50\n",
      "\u001B[1m914/914\u001B[0m \u001B[32m━━━━━━━━━━━━━━━━━━━━\u001B[0m\u001B[37m\u001B[0m \u001B[1m4s\u001B[0m 5ms/step - accuracy: 0.5243 - loss: 1.5311\n",
      "Epoch 40/50\n",
      "\u001B[1m914/914\u001B[0m \u001B[32m━━━━━━━━━━━━━━━━━━━━\u001B[0m\u001B[37m\u001B[0m \u001B[1m4s\u001B[0m 5ms/step - accuracy: 0.5272 - loss: 1.5300\n",
      "Epoch 41/50\n",
      "\u001B[1m914/914\u001B[0m \u001B[32m━━━━━━━━━━━━━━━━━━━━\u001B[0m\u001B[37m\u001B[0m \u001B[1m4s\u001B[0m 5ms/step - accuracy: 0.5288 - loss: 1.5214\n",
      "Epoch 42/50\n",
      "\u001B[1m914/914\u001B[0m \u001B[32m━━━━━━━━━━━━━━━━━━━━\u001B[0m\u001B[37m\u001B[0m \u001B[1m4s\u001B[0m 5ms/step - accuracy: 0.5268 - loss: 1.5277\n",
      "Epoch 43/50\n",
      "\u001B[1m914/914\u001B[0m \u001B[32m━━━━━━━━━━━━━━━━━━━━\u001B[0m\u001B[37m\u001B[0m \u001B[1m4s\u001B[0m 5ms/step - accuracy: 0.5268 - loss: 1.5206\n",
      "Epoch 44/50\n",
      "\u001B[1m914/914\u001B[0m \u001B[32m━━━━━━━━━━━━━━━━━━━━\u001B[0m\u001B[37m\u001B[0m \u001B[1m4s\u001B[0m 5ms/step - accuracy: 0.5300 - loss: 1.5177\n",
      "Epoch 45/50\n",
      "\u001B[1m914/914\u001B[0m \u001B[32m━━━━━━━━━━━━━━━━━━━━\u001B[0m\u001B[37m\u001B[0m \u001B[1m4s\u001B[0m 5ms/step - accuracy: 0.5315 - loss: 1.5130\n",
      "Epoch 46/50\n",
      "\u001B[1m914/914\u001B[0m \u001B[32m━━━━━━━━━━━━━━━━━━━━\u001B[0m\u001B[37m\u001B[0m \u001B[1m4s\u001B[0m 5ms/step - accuracy: 0.5307 - loss: 1.5118\n",
      "Epoch 47/50\n",
      "\u001B[1m914/914\u001B[0m \u001B[32m━━━━━━━━━━━━━━━━━━━━\u001B[0m\u001B[37m\u001B[0m \u001B[1m4s\u001B[0m 5ms/step - accuracy: 0.5326 - loss: 1.5105\n",
      "Epoch 48/50\n",
      "\u001B[1m914/914\u001B[0m \u001B[32m━━━━━━━━━━━━━━━━━━━━\u001B[0m\u001B[37m\u001B[0m \u001B[1m4s\u001B[0m 5ms/step - accuracy: 0.5340 - loss: 1.4998\n",
      "Epoch 49/50\n",
      "\u001B[1m914/914\u001B[0m \u001B[32m━━━━━━━━━━━━━━━━━━━━\u001B[0m\u001B[37m\u001B[0m \u001B[1m5s\u001B[0m 6ms/step - accuracy: 0.5348 - loss: 1.5017\n",
      "Epoch 50/50\n",
      "\u001B[1m914/914\u001B[0m \u001B[32m━━━━━━━━━━━━━━━━━━━━\u001B[0m\u001B[37m\u001B[0m \u001B[1m4s\u001B[0m 5ms/step - accuracy: 0.5369 - loss: 1.4893\n"
     ]
    },
    {
     "data": {
      "text/plain": [
       "<keras.src.callbacks.history.History at 0x75381502ff40>"
      ]
     },
     "execution_count": 15,
     "metadata": {},
     "output_type": "execute_result"
    }
   ],
   "execution_count": 15
  },
  {
   "metadata": {
    "ExecuteTime": {
     "end_time": "2024-11-08T20:31:44.145633Z",
     "start_time": "2024-11-08T20:31:43.924545Z"
    }
   },
   "cell_type": "code",
   "source": "model.history.keys()",
   "id": "d335af90fc8e48b1",
   "outputs": [
    {
     "ename": "AttributeError",
     "evalue": "'History' object has no attribute 'keys'",
     "output_type": "error",
     "traceback": [
      "\u001B[0;31m---------------------------------------------------------------------------\u001B[0m",
      "\u001B[0;31mAttributeError\u001B[0m                            Traceback (most recent call last)",
      "Cell \u001B[0;32mIn[16], line 1\u001B[0m\n\u001B[0;32m----> 1\u001B[0m \u001B[43mmodel\u001B[49m\u001B[38;5;241;43m.\u001B[39;49m\u001B[43mhistory\u001B[49m\u001B[38;5;241;43m.\u001B[39;49m\u001B[43mkeys\u001B[49m()\n",
      "\u001B[0;31mAttributeError\u001B[0m: 'History' object has no attribute 'keys'"
     ]
    }
   ],
   "execution_count": 16
  },
  {
   "cell_type": "markdown",
   "id": "aa971e95",
   "metadata": {},
   "source": [
    "Nous pouvons utiliser la méthode `.evaluate()` pour calculer\n",
    "automatiquement les métriques spécifiées à la compilation du modèle sur\n",
    "un jeu de données. Calculons par exemple les scores de taux de bonne\n",
    "classification (*accuracy*) sur le jeu d’apprentissage et sur le jeu de\n",
    "test :"
   ]
  },
  {
   "cell_type": "code",
   "id": "f6a22bc4",
   "metadata": {
    "hide-output": false,
    "ExecuteTime": {
     "end_time": "2024-11-08T20:31:53.074378Z",
     "start_time": "2024-11-08T20:31:46.300074Z"
    }
   },
   "source": [
    "scores_train = model.evaluate(X_train, y_train, verbose=1)\n",
    "scores_test = model.evaluate(X_test, y_test, verbose=1)\n",
    "print(f\"Performances (apprentissage, {model.metrics_names[1]}) = {scores_train[1]*100:.2f}\")\n",
    "print(f\"Performances (validation, {model.metrics_names[1]}) = {scores_test[1]*100:.2f}\")"
   ],
   "outputs": [
    {
     "name": "stdout",
     "output_type": "stream",
     "text": [
      "\u001B[1m3653/3653\u001B[0m \u001B[32m━━━━━━━━━━━━━━━━━━━━\u001B[0m\u001B[37m\u001B[0m \u001B[1m5s\u001B[0m 1ms/step - accuracy: 0.5395 - loss: 1.4792\n",
      "\u001B[1m914/914\u001B[0m \u001B[32m━━━━━━━━━━━━━━━━━━━━\u001B[0m\u001B[37m\u001B[0m \u001B[1m1s\u001B[0m 1ms/step - accuracy: 0.4668 - loss: 1.7974\n",
      "Performances (apprentissage, compile_metrics) = 54.22\n",
      "Performances (validation, compile_metrics) = 46.65\n"
     ]
    }
   ],
   "execution_count": 17
  },
  {
   "cell_type": "markdown",
   "id": "896782d8",
   "metadata": {},
   "source": [
    "*Note*: Il est possible de sauvegarder les paramètres du modèle appris à\n",
    "l’aide de la méthode `.save()`. Cela permet notamment de réutiliser le\n",
    "modèle plus tard, sans avoir à l’entraîner de nouveau."
   ]
  },
  {
   "cell_type": "code",
   "id": "dbcc0d7c",
   "metadata": {
    "hide-output": false,
    "ExecuteTime": {
     "end_time": "2024-11-08T20:31:57.959635Z",
     "start_time": "2024-11-08T20:31:57.921974Z"
    }
   },
   "source": [
    "model_name = f\"SimpleRNN_{h_size}_{num_epochs}epochs.h5\"\n",
    "model.save(model_name)"
   ],
   "outputs": [
    {
     "name": "stderr",
     "output_type": "stream",
     "text": [
      "WARNING:absl:You are saving your model as an HDF5 file via `model.save()` or `keras.saving.save_model(model)`. This file format is considered legacy. We recommend using instead the native Keras format, e.g. `model.save('my_model.keras')` or `keras.saving.save_model(model, 'my_model.keras')`. \n"
     ]
    }
   ],
   "execution_count": 18
  },
  {
   "cell_type": "markdown",
   "id": "1a6118bf",
   "metadata": {},
   "source": [
    "### Analyse de l’apprentissage"
   ]
  },
  {
   "cell_type": "markdown",
   "id": "0c3d54dc",
   "metadata": {},
   "source": [
    "### Question\n",
    "\n",
    "Quels taux de classification obtient-on en apprentissage ? En validation\n",
    "? Commenter les performances obtenues."
   ]
  },
  {
   "cell_type": "markdown",
   "id": "37911876",
   "metadata": {},
   "source": [
    "### Question\n",
    "\n",
    "En quoi le problème est-il différents des problèmes de classification\n",
    "abordés jusqu’ici ? Par exemple, faire une recherche de la séquence\n",
    "d’entrée « la mort de », et analyser les labels cibles présents dans le\n",
    "corpus d’apprentissage."
   ]
  },
  {
   "cell_type": "markdown",
   "id": "b71f1c45",
   "metadata": {},
   "source": [
    "### Génération de texte à partir du modèle appris\n",
    "\n",
    "Nous pouvons désormais nous servir du modèle entraîné pour générer du\n",
    "texte qui va « imiter » le style du corpus de poésie initial (*Les\n",
    "Fleurs du mal*). Si nécessaire, commençons par charger les paramètres du\n",
    "réseau récurrent précédemment entraîné à l’aide de la fonction\n",
    "`loadModel` :"
   ]
  },
  {
   "cell_type": "code",
   "id": "14cb02d4",
   "metadata": {
    "hide-output": false,
    "ExecuteTime": {
     "end_time": "2024-11-08T20:32:03.724803Z",
     "start_time": "2024-11-08T20:32:03.664023Z"
    }
   },
   "source": [
    "from tensorflow.keras.models import load_model\n",
    "model = load_model(model_name)\n",
    "model.compile(loss='categorical_crossentropy', optimizer='RMSprop', metrics=['accuracy'])\n",
    "model.summary()"
   ],
   "outputs": [
    {
     "name": "stderr",
     "output_type": "stream",
     "text": [
      "WARNING:absl:Compiled the loaded model, but the compiled metrics have yet to be built. `model.compile_metrics` will be empty until you train or evaluate the model.\n"
     ]
    },
    {
     "data": {
      "text/plain": [
       "\u001B[1mModel: \"sequential\"\u001B[0m\n"
      ],
      "text/html": [
       "<pre style=\"white-space:pre;overflow-x:auto;line-height:normal;font-family:Menlo,'DejaVu Sans Mono',consolas,'Courier New',monospace\"><span style=\"font-weight: bold\">Model: \"sequential\"</span>\n",
       "</pre>\n"
      ]
     },
     "metadata": {},
     "output_type": "display_data"
    },
    {
     "data": {
      "text/plain": [
       "┏━━━━━━━━━━━━━━━━━━━━━━━━━━━━━━━━━┳━━━━━━━━━━━━━━━━━━━━━━━━┳━━━━━━━━━━━━━━━┓\n",
       "┃\u001B[1m \u001B[0m\u001B[1mLayer (type)                   \u001B[0m\u001B[1m \u001B[0m┃\u001B[1m \u001B[0m\u001B[1mOutput Shape          \u001B[0m\u001B[1m \u001B[0m┃\u001B[1m \u001B[0m\u001B[1m      Param #\u001B[0m\u001B[1m \u001B[0m┃\n",
       "┡━━━━━━━━━━━━━━━━━━━━━━━━━━━━━━━━━╇━━━━━━━━━━━━━━━━━━━━━━━━╇━━━━━━━━━━━━━━━┩\n",
       "│ simple_rnn (\u001B[38;5;33mSimpleRNN\u001B[0m)          │ (\u001B[38;5;45mNone\u001B[0m, \u001B[38;5;34m128\u001B[0m)            │        \u001B[38;5;34m24,064\u001B[0m │\n",
       "├─────────────────────────────────┼────────────────────────┼───────────────┤\n",
       "│ dense (\u001B[38;5;33mDense\u001B[0m)                   │ (\u001B[38;5;45mNone\u001B[0m, \u001B[38;5;34m59\u001B[0m)             │         \u001B[38;5;34m7,611\u001B[0m │\n",
       "├─────────────────────────────────┼────────────────────────┼───────────────┤\n",
       "│ activation (\u001B[38;5;33mActivation\u001B[0m)         │ (\u001B[38;5;45mNone\u001B[0m, \u001B[38;5;34m59\u001B[0m)             │             \u001B[38;5;34m0\u001B[0m │\n",
       "└─────────────────────────────────┴────────────────────────┴───────────────┘\n"
      ],
      "text/html": [
       "<pre style=\"white-space:pre;overflow-x:auto;line-height:normal;font-family:Menlo,'DejaVu Sans Mono',consolas,'Courier New',monospace\">┏━━━━━━━━━━━━━━━━━━━━━━━━━━━━━━━━━┳━━━━━━━━━━━━━━━━━━━━━━━━┳━━━━━━━━━━━━━━━┓\n",
       "┃<span style=\"font-weight: bold\"> Layer (type)                    </span>┃<span style=\"font-weight: bold\"> Output Shape           </span>┃<span style=\"font-weight: bold\">       Param # </span>┃\n",
       "┡━━━━━━━━━━━━━━━━━━━━━━━━━━━━━━━━━╇━━━━━━━━━━━━━━━━━━━━━━━━╇━━━━━━━━━━━━━━━┩\n",
       "│ simple_rnn (<span style=\"color: #0087ff; text-decoration-color: #0087ff\">SimpleRNN</span>)          │ (<span style=\"color: #00d7ff; text-decoration-color: #00d7ff\">None</span>, <span style=\"color: #00af00; text-decoration-color: #00af00\">128</span>)            │        <span style=\"color: #00af00; text-decoration-color: #00af00\">24,064</span> │\n",
       "├─────────────────────────────────┼────────────────────────┼───────────────┤\n",
       "│ dense (<span style=\"color: #0087ff; text-decoration-color: #0087ff\">Dense</span>)                   │ (<span style=\"color: #00d7ff; text-decoration-color: #00d7ff\">None</span>, <span style=\"color: #00af00; text-decoration-color: #00af00\">59</span>)             │         <span style=\"color: #00af00; text-decoration-color: #00af00\">7,611</span> │\n",
       "├─────────────────────────────────┼────────────────────────┼───────────────┤\n",
       "│ activation (<span style=\"color: #0087ff; text-decoration-color: #0087ff\">Activation</span>)         │ (<span style=\"color: #00d7ff; text-decoration-color: #00d7ff\">None</span>, <span style=\"color: #00af00; text-decoration-color: #00af00\">59</span>)             │             <span style=\"color: #00af00; text-decoration-color: #00af00\">0</span> │\n",
       "└─────────────────────────────────┴────────────────────────┴───────────────┘\n",
       "</pre>\n"
      ]
     },
     "metadata": {},
     "output_type": "display_data"
    },
    {
     "data": {
      "text/plain": [
       "\u001B[1m Total params: \u001B[0m\u001B[38;5;34m31,675\u001B[0m (123.73 KB)\n"
      ],
      "text/html": [
       "<pre style=\"white-space:pre;overflow-x:auto;line-height:normal;font-family:Menlo,'DejaVu Sans Mono',consolas,'Courier New',monospace\"><span style=\"font-weight: bold\"> Total params: </span><span style=\"color: #00af00; text-decoration-color: #00af00\">31,675</span> (123.73 KB)\n",
       "</pre>\n"
      ]
     },
     "metadata": {},
     "output_type": "display_data"
    },
    {
     "data": {
      "text/plain": [
       "\u001B[1m Trainable params: \u001B[0m\u001B[38;5;34m31,675\u001B[0m (123.73 KB)\n"
      ],
      "text/html": [
       "<pre style=\"white-space:pre;overflow-x:auto;line-height:normal;font-family:Menlo,'DejaVu Sans Mono',consolas,'Courier New',monospace\"><span style=\"font-weight: bold\"> Trainable params: </span><span style=\"color: #00af00; text-decoration-color: #00af00\">31,675</span> (123.73 KB)\n",
       "</pre>\n"
      ]
     },
     "metadata": {},
     "output_type": "display_data"
    },
    {
     "data": {
      "text/plain": [
       "\u001B[1m Non-trainable params: \u001B[0m\u001B[38;5;34m0\u001B[0m (0.00 B)\n"
      ],
      "text/html": [
       "<pre style=\"white-space:pre;overflow-x:auto;line-height:normal;font-family:Menlo,'DejaVu Sans Mono',consolas,'Courier New',monospace\"><span style=\"font-weight: bold\"> Non-trainable params: </span><span style=\"color: #00af00; text-decoration-color: #00af00\">0</span> (0.00 B)\n",
       "</pre>\n"
      ]
     },
     "metadata": {},
     "output_type": "display_data"
    }
   ],
   "execution_count": 19
  },
  {
   "cell_type": "markdown",
   "id": "621edd35",
   "metadata": {},
   "source": [
    "Comme le modèle a été entraîné pour prédire le caractère suivant à\n",
    "partir d’une séquence de `SEQLEN` caractères précédent, nous devons\n",
    "l’initialiser avec une chaîne de caractères de départ. Le modèle pourra\n",
    "ensuite générer du texte en prédisant les caractères suivants un par un.\n",
    "\n",
    "Reprenons un texte initial issu de notre corpus d’entraînement :"
   ]
  },
  {
   "cell_type": "code",
   "id": "fcfb3237",
   "metadata": {
    "hide-output": false,
    "ExecuteTime": {
     "end_time": "2024-11-08T20:32:16.151935Z",
     "start_time": "2024-11-08T20:32:16.147022Z"
    }
   },
   "source": [
    "idx = 10\n",
    "# index2char permet de repasser de l'encodage one-hot au caractère du dictionnaire\n",
    "initial_characters = [index2char[np.argmax(c)] for c in X_train[idx]]\n",
    "initial_text = \"\".join(initial_characters)\n",
    "print(f\"La séquence n°{idx} est : '{initial_text}'\")"
   ],
   "outputs": [
    {
     "name": "stdout",
     "output_type": "stream",
     "text": [
      "La séquence n°10 est : ' vous, mon'\n"
     ]
    }
   ],
   "execution_count": 20
  },
  {
   "cell_type": "markdown",
   "id": "d0fcb3b5",
   "metadata": {},
   "source": [
    "Nous pouvons maintenant extraire la représentation en encodage *one-hot*\n",
    "de ce texte, que nous passerons ensuite dans le réseau entraîné pour\n",
    "obtenir la prédiction du caractère suivant."
   ]
  },
  {
   "cell_type": "code",
   "id": "e3a73732",
   "metadata": {
    "hide-output": false,
    "ExecuteTime": {
     "end_time": "2024-11-08T20:32:20.459869Z",
     "start_time": "2024-11-08T20:32:20.253622Z"
    }
   },
   "source": [
    "test_sequence = np.zeros((1, SEQLEN, n_characters), dtype=bool)\n",
    "test_sequence[0] = X_train[idx]\n",
    "prediction = model.predict(test_sequence)\n",
    "print(prediction)"
   ],
   "outputs": [
    {
     "name": "stdout",
     "output_type": "stream",
     "text": [
      "\u001B[1m1/1\u001B[0m \u001B[32m━━━━━━━━━━━━━━━━━━━━\u001B[0m\u001B[37m\u001B[0m \u001B[1m0s\u001B[0m 100ms/step\n",
      "[[4.39157575e-01 1.19108381e-03 2.70112123e-05 3.18534039e-05\n",
      "  6.15373865e-05 5.53414412e-03 1.22242258e-03 3.17860540e-04\n",
      "  1.55258258e-05 3.32245509e-05 2.44112089e-05 2.09196169e-05\n",
      "  2.16592907e-05 5.30692887e-05 1.65165056e-05 7.22785489e-06\n",
      "  8.63958267e-04 1.42308083e-04 7.95068263e-05 9.67295317e-04\n",
      "  1.48655148e-02 7.91862458e-02 2.23561256e-05 7.43501168e-03\n",
      "  3.36619876e-02 1.39948830e-03 1.17162801e-03 1.78227352e-03\n",
      "  2.20859765e-05 4.40358635e-05 1.54254085e-05 5.51665993e-03\n",
      "  1.25624111e-03 6.82199548e-04 3.55547527e-04 1.39434924e-04\n",
      "  6.20723702e-02 3.27385068e-01 1.45262387e-03 8.57003778e-03\n",
      "  1.12383959e-05 8.68384610e-04 5.58274260e-05 5.73809302e-05\n",
      "  1.29384425e-04 1.02592739e-05 3.07187042e-06 5.01350005e-05\n",
      "  3.54746531e-04 8.65855371e-04 1.39644922e-04 1.34470523e-04\n",
      "  2.79015094e-05 7.19208983e-05 1.44523265e-05 3.23476037e-04\n",
      "  2.79086962e-05 9.28030659e-06 1.92820371e-05]]\n"
     ]
    }
   ],
   "execution_count": 21
  },
  {
   "cell_type": "markdown",
   "id": "968ee9b0",
   "metadata": {},
   "source": [
    "### Question\n",
    "\n",
    "À l’aide du dictionnaire `index2char`, déterminer quel\n",
    "est le prochain caractère prédit par le modèle.\n",
    "\n",
    "Au lieu de prédire systématiquement le symbole dont la probabilité est\n",
    "maximale, nous pouvons ajouter du non-déterministe (et donc de\n",
    "l’aléatoire) dans la génération de texte en échantillonnant selon la\n",
    "distribution de probabilités en sortie du softmax. Autrement dit, plus\n",
    "un symbole aura une forte activation après le softmax, plus il aura de\n",
    "chances d’être tiré.\n",
    "\n",
    "Pour contrôler à quel point cet échantillonnage sera non-déterministe,\n",
    "nous allons introduire un nouveau paramètre permettant de contrôler la\n",
    "forme de la distribution. En notant $ T $ ce nouveau paramètre, nous\n",
    "allons altérer les probabilités de sortie en les remplaçant par la\n",
    "formule suivante :\n",
    "\n",
    "$$\n",
    "z_{i}^N  = \\frac{z_{i}^{\\frac{1}{T}}}{\\sum\\limits_{j=1}^C z_{j}^{\\frac{1}{T}} }\n",
    "$$\n",
    "\n",
    "$ T $ est un paramètre appelé *température*. Si $ T=1 $, alors\n",
    "il s’agit du softmax habituel.\n",
    "\n",
    "La figure ci-dessous montre l’impact sur la distribution de cette\n",
    "renormalisation :\n",
    "\n",
    "Nous pourrons par la suite utiliser la fonction ci-dessous qui tire\n",
    "aléatoirement un symbole en échantillonnant selon la distribution,\n",
    "éventuellement modifiée par la température."
   ]
  },
  {
   "cell_type": "code",
   "id": "bddb3dca",
   "metadata": {
    "hide-output": false,
    "ExecuteTime": {
     "end_time": "2024-11-08T20:32:22.275147Z",
     "start_time": "2024-11-08T20:32:22.270059Z"
    }
   },
   "source": [
    "def sample(probabilities, temperature=1.0):\n",
    "    probabilities = np.asarray(probabilities).astype('float64')\n",
    "    # Modifie la distribution selon la valeur de la température\n",
    "    probabilities = pow(probabilities, 1.0/temperature)\n",
    "    probabilities /= np.sum(probabilities)\n",
    "    # Tire des variables aléatoires selon la distribution multinomiale transformée\n",
    "    random_values = np.random.multinomial(1, probabilities, 1)\n",
    "    # Renvoie le symbole échantillonné\n",
    "    return np.argmax(random_values)"
   ],
   "outputs": [],
   "execution_count": 22
  },
  {
   "cell_type": "markdown",
   "id": "a43b4a5f",
   "metadata": {},
   "source": [
    "### Question\n",
    "\n",
    "Comment est-ce que la température modifie la distribution\n",
    "lorsqu’elle augmente ($ T \\rightarrow +\\infty $) ou\n",
    "diminue ($ T \\rightarrow 0 $) ?\n",
    "Comment cela va-t-il influer sur l’échantillonnage du caractère suivant ?\n",
    "\n",
    "Pour terminer, nous pouvons mettre en place la génération de texte à\n",
    "partir d’une séquence de `SEQLEN` caractères initiaux. Pour ce faire,\n",
    "nous allons créer une boucle qui :\n",
    "\n",
    "1. extraie les `SEQLEN` derniers caractères du texte généré  \n",
    "1. calcule les probabilités après softmax du réseau (méthode\n",
    "  `.predict()`)  \n",
    "1. échantillonne un caractère dans ces probabilités (fonction\n",
    "  `sample()`)  \n",
    "1. ajoute ce caractère au texte généré  "
   ]
  },
  {
   "cell_type": "markdown",
   "id": "3257eab8",
   "metadata": {},
   "source": [
    "### Question\n",
    "\n",
    "Compléter le code de génération de texte ci-dessous."
   ]
  },
  {
   "cell_type": "code",
   "execution_count": null,
   "id": "e52a386e",
   "metadata": {
    "hide-output": false
   },
   "outputs": [],
   "source": [
    "# Longueur du texte à générer (en caractères)\n",
    "text_length = 200\n",
    "# Température\n",
    "temperature  = 0.5\n",
    "\n",
    "\n",
    "generated_text = initial_text\n",
    "network_input = test_sequence\n",
    "\n",
    "for i in range(text_length):\n",
    "    last_characters = generated_text[-SEQLEN:]\n",
    "    # Compléter le code\n",
    "    ..."
   ]
  },
  {
   "cell_type": "markdown",
   "id": "39452d30",
   "metadata": {},
   "source": [
    "### Question\n",
    "\n",
    "Évaluer l’impact du paramètre de température dans la génération,\n",
    "ainsi que le nombre d’époques dans l’apprentissage.\n",
    "Commenter les points forts et points faibles du générateur."
   ]
  },
  {
   "cell_type": "markdown",
   "id": "ed4f3ab9",
   "metadata": {},
   "source": [
    "## Pour aller plus loin\n",
    "\n",
    "Comment doit-on modifier le jeu de données ou modèle de RNN pour\n",
    "améliorer les performances du générateur ? Essayez notamment d’augmenter\n",
    "`SEQLEN`. Quel problème cela résout-il ? Un modèle avec plus de\n",
    "paramètres donne-t-il de meilleurs résultats ?"
   ]
  }
 ],
 "metadata": {
  "date": 1.7256135328071067E9,
  "filename": "tpDeepLearning5.rst",
  "kernelspec": {
   "display_name": "Python 3 (ipykernel)",
   "language": "python",
   "name": "python3"
  },
  "language_info": {
   "codemirror_mode": {
    "name": "ipython",
    "version": 3
   },
   "file_extension": ".py",
   "mimetype": "text/x-python",
   "name": "python",
   "nbconvert_exporter": "python",
   "pygments_lexer": "ipython3",
   "version": "3.10.12"
  },
  "title": "Travaux pratiques - RNN pour la génération de texte"
 },
 "nbformat": 4,
 "nbformat_minor": 5
}
