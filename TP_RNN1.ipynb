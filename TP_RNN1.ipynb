{
 "cells": [
  {
   "cell_type": "markdown",
   "id": "e7d3a3d0",
   "metadata": {},
   "source": [
    "\n",
    "<a id='chap-tpdeeplearning5'></a>"
   ]
  },
  {
   "cell_type": "markdown",
   "id": "715887eb",
   "metadata": {},
   "source": [
    "# Travaux pratiques - RNN pour la génération de texte\n",
    "\n",
    "L’objectif de cette séance de travaux pratiques est d’illustrer la mise\n",
    "en application des réseaux de neurones récurrents sur des données\n",
    "séquentielles. En particulier, nous allons nous intéresser aux modèles\n",
    "auto-régressifs pour la génération de texte."
   ]
  },
  {
   "cell_type": "markdown",
   "id": "6d6c4253",
   "metadata": {},
   "source": [
    "## Génération de poésie\n",
    "\n",
    "Une première application des réseaux de neurones récurents est la\n",
    "génération de texte. Pour démarrer, nous allons extraire les textes d’un\n",
    "recueil de poésies, « Les fleurs du mal » (1857) de l’écrivain [Charles\n",
    "Baudelaire](https://fr.wikipedia.org/wiki/Charles_Baudelaire)\n",
    "(1821-1867). Cet ensemble de textes va constituer notre corpus\n",
    "d’entraînement."
   ]
  },
  {
   "cell_type": "markdown",
   "id": "6964c3e2",
   "metadata": {},
   "source": [
    "Dans notre application, nous nous intéressons à la génération de texte\n",
    "au travers de la *prédiction du mot suivant*. En considérant un texte\n",
    "comme une suite de mots $ (x_1, x_2, ..., x_m) $, nous allons\n",
    "entraîner un réseau de neurones récurrent de sorte à prédire le bon mot\n",
    "$ x_n $ à partir des mots $ (x_1, x_2, ..., x_{n-1}) $ qui le\n",
    "précèdent dans une phrase."
   ]
  },
  {
   "cell_type": "markdown",
   "id": "d25a78fa",
   "metadata": {},
   "source": [
    "### Création du jeu de données d’entraînement\n",
    "\n",
    "Le code ci-dessous va nous servir à générer les données et les\n",
    "étiquettes correspondantes. On va commencer par parser le ficher\n",
    "d’entrée pour récupérer le texte et effectuer quelques pré-traitements\n",
    "simples:"
   ]
  },
  {
   "cell_type": "code",
   "id": "22bdc95e",
   "metadata": {
    "hide-output": false,
    "ExecuteTime": {
     "end_time": "2024-11-08T19:08:11.635008Z",
     "start_time": "2024-11-08T19:08:11.625643Z"
    }
   },
   "source": [
    "# Lire le fichier texte et ajouter toutes les lignes dans une liste\n",
    "with open(\"fleurs_mal.txt\", 'r' , encoding = 'utf8') as f:\n",
    "    lines = f.readlines()\n",
    "\n",
    "for idx, line in enumerate(lines):\n",
    "    if \"Charles Baudelaire avait un ami\" in line:\n",
    "        first_line = idx\n",
    "    if \"End of the Project Gutenberg EBook of Les Fleurs du Mal, by Charles Baudelaire\" in line:\n",
    "        last_line = idx\n",
    "\n",
    "lines = lines[first_line:last_line]\n",
    "lines = [l.lower().strip().replace('_', '') for l in lines if len(l) > 1]\n",
    "text = \" \".join(lines)"
   ],
   "outputs": [],
   "execution_count": 1
  },
  {
   "cell_type": "code",
   "id": "4bb5691f",
   "metadata": {
    "hide-output": false,
    "ExecuteTime": {
     "end_time": "2024-11-08T19:08:11.661963Z",
     "start_time": "2024-11-08T19:08:11.656947Z"
    }
   },
   "source": [
    "characters = sorted(set(text))\n",
    "n_characters = len(characters)"
   ],
   "outputs": [],
   "execution_count": 2
  },
  {
   "cell_type": "markdown",
   "id": "33538e9c",
   "metadata": {},
   "source": [
    "### Question\n",
    "\n",
    "Que contient la variable `characters` ? Que représente\n",
    "`n_characters` ? La documentation des\n",
    "[Set](https://docs.python.org/fr/3/tutorial/datastructures.html#sets)\n",
    "en Python peut vous aider.\n",
    "\n",
    "Dans la suite de ce TP, nous allons considérer le texte comme une suite\n",
    "de caractères. Nous n’allons donc pas raisonner au niveau du mot mais au\n",
    "niveau du symbole. Chaque caractère du texte d’entrée sera représenté en\n",
    "entrée du réseau de neurones par un encodage *one-hot* sur le\n",
    "dictionnaire de symboles. Autrement dit, pour un dictionnaire simplifié\n",
    "(” “, `a`, `b`, `c`, `d`), la lettre `a` serait représentée\n",
    "par le vecteur $ (0, 1, 0, 0, 0, 0) $ tandis que l’espace “ “\n",
    "serait représenté par le vecteur $ (1, 0, 0, 0, 0) $.\n",
    "\n",
    "Nous allons désormais entraîner un réseau de neurones récurrent.\n",
    "Celui-ci va recevoir en entrée une séquence de `SEQLEN` caractères.\n",
    "Son objectif sera de prédire en sortie le caractère suivant dans le\n",
    "corpus. Par exemple, pour la phrase :\n",
    "\n",
    "> Le vélo est rouge.\n",
    "\n",
    "\n",
    "le modèle devra prédire `l` à partir de la séquence `Le vé`, puis\n",
    "`o` à partir de la séquence `Le vél`, et ainsi de suite. Il s’agit\n",
    "donc d’un problème de classification à `n_characters` classes\n",
    "différentes (une classe par symbole).\n",
    "\n",
    "L’étiquette de classe est obtenue automatiquement à partir du corpus.\n",
    "Comme il n’y a eu aucune annotation manuelle du jeu de données, cet\n",
    "objectif de prédiction du caractère suivant représente un problème\n",
    "d’apprentissage dit *auto-supervisé* (ou *self-supervised*). La\n",
    "supervision est construite artificiellement à partir des données elles\n",
    "mêmes.\n",
    "\n",
    "Les données d’entraînement consistent donc en l’ensemble des séquences\n",
    "de caractères du corpus dont la taille est inférieure à `SEQLEN`.\n",
    "L’étiquette de la classe cible correspondante est celle de l’indice du\n",
    "prochain caractère à prédire, c’est-à-dire le caractère suivant dans le\n",
    "corpus."
   ]
  },
  {
   "cell_type": "code",
   "execution_count": 4,
   "id": "be745872",
   "metadata": {
    "hide-output": false
   },
   "outputs": [
    {
     "name": "stdout",
     "output_type": "stream",
     "text": [
      "Il y a 146120 séquences de 10 caractères dans le corpus d'entraînement.\n"
     ]
    }
   ],
   "source": [
    "# SEQLEN représente la taille de la séquence de lettres à passer en entrée\n",
    "SEQLEN = 10\n",
    "step = 1\n",
    "input_characters, labels = [], []\n",
    "# On parcourt le corpus de texte avec une fenêtre glissante\n",
    "for i in range(0, len(text) - SEQLEN, step):\n",
    "    input_characters.append(text[i:i + SEQLEN])\n",
    "    labels.append(text[i + SEQLEN])\n",
    "\n",
    "print(f\"Il y a {len(input_characters)} séquences de {SEQLEN} caractères dans le corpus d'entraînement.\")"
   ]
  },
  {
   "cell_type": "markdown",
   "id": "4be16ebe",
   "metadata": {},
   "source": [
    "### Question\n",
    "\n",
    "Afficher une séquence de `SEQLEN` caractères et l’étiquette de classe\n",
    "correspondante, c’est-à-dire le caractère suivant.\n",
    "\n",
    "Nous pouvons maintenant vectoriser les données d’entraînement en\n",
    "utilisant le dictionnaire et un encodage *one-hot* pour chaque caractère\n",
    ":"
   ]
  },
  {
   "cell_type": "code",
   "execution_count": 5,
   "id": "19182fe9",
   "metadata": {
    "hide-output": false
   },
   "outputs": [],
   "source": [
    "# Encodage caractère -> indice du dictionaire\n",
    "char2index = dict((c, i) for i, c in enumerate(characters))\n",
    "# Encodage de l'indice vers le caractère (utilisé pour décoder les prédictions du modèle)\n",
    "index2char = dict((i, c) for i, c in enumerate(characters)) # mapping index -> char in dictionary"
   ]
  },
  {
   "cell_type": "markdown",
   "id": "5ded531f",
   "metadata": {},
   "source": [
    "Chaque séquence d’entraînement est donc représentée par une matrice de\n",
    "taille $ SEQLEN \\times m $, correspondant à une longueur de\n",
    "`SEQLEN` caractères, chaque caractère étant encodé par un vecteur\n",
    "binaire correspondant à un encodage *one-hot*. $ m $ représente la\n",
    "taille du dictionnaire, c’est-à-dire le nombre de symboles uniques dans\n",
    "le corpus.\n",
    "\n",
    "- L’ensemble des données d’entraînement `X` seront donc constituées\n",
    "  par un tenseur de taille $ N \\times SEQLEN \\times m $ où $ N $\n",
    "  est le nombre de séquences de `SEQLEN` caractères dans le corpus.  \n",
    "- L’ensemble des labels d’entraînement `y` seront représentées par un\n",
    "  tenseur de $ N \\times m $, où la sortie pour chaque\n",
    "  exemple correspond à l’indice dans le dictionnaire du caractère\n",
    "  suivant la séquence  "
   ]
  },
  {
   "cell_type": "markdown",
   "id": "60d5bc90",
   "metadata": {},
   "source": [
    "### Question\n",
    "\n",
    "Compléter le code ci-dessous afin de créer les tenseurs `X` et `y`\n",
    "contenant les données d’entraînement (séquences de caractères dans `X`\n",
    "et étiquettes de classe dans `y`. Vous pourrez notamment utiliser à\n",
    "bon escient le dictionnaire `char2index` qui permet de transformer un\n",
    "caractère en son indice entier."
   ]
  },
  {
   "cell_type": "code",
   "execution_count": null,
   "id": "1a9fae51",
   "metadata": {
    "hide-output": false
   },
   "outputs": [],
   "source": [
    "import numpy as np\n",
    "X = np.zeros((len(input_characters), SEQLEN, n_characters), dtype=bool)\n",
    "y = np.zeros((len(input_characters), n_characters), dtype=bool)\n",
    "\n",
    "for idx_seq, sequence in enumerate(input_characters):\n",
    "    # À compléter\n",
    "    ..."
   ]
  },
  {
   "cell_type": "markdown",
   "id": "7c81cf12",
   "metadata": {},
   "source": [
    "Comme à l’accoutumée, nous allons séparer le jeu de données en deux : un\n",
    "ensemble d’apprentissage et un ensemble de validation. Le jeu de\n",
    "validation nous permettra notamment d’évaluer les performances du modèle\n",
    "et d’éviter le sur-apprentissage."
   ]
  },
  {
   "cell_type": "code",
   "execution_count": null,
   "id": "3f6722b2",
   "metadata": {
    "hide-output": false
   },
   "outputs": [],
   "source": [
    "from sklearn.model_selection import train_test_split\n",
    "\n",
    "# 80% des données en apprentissage, 20% en validation\n",
    "X_train, X_test, y_train, y_test = train_test_split(X, y, train_size=0.8, random_state=0)"
   ]
  },
  {
   "cell_type": "markdown",
   "id": "d28f7a96",
   "metadata": {},
   "source": [
    "### Apprentissage d’un modèle auto-supervisé pour la génération de texte\n",
    "\n",
    "Maintenant que les données ont été formatées, nous pouvons commencer à\n",
    "définir le modèle que nous allons utiliser. Nous allons l’implémenter\n",
    "sous la forme d’un modèle Keras séquentiel\n",
    "([Sequential](https://keras.io/api/models/sequential/))."
   ]
  },
  {
   "cell_type": "code",
   "id": "20c8f992",
   "metadata": {
    "hide-output": false,
    "ExecuteTime": {
     "end_time": "2024-11-08T19:09:40.597030Z",
     "start_time": "2024-11-08T19:09:37.188699Z"
    }
   },
   "source": [
    "from tensorflow.keras.layers import SimpleRNN\n",
    "from tensorflow.keras.models import Sequential\n",
    "\n",
    "model = Sequential()"
   ],
   "outputs": [
    {
     "name": "stderr",
     "output_type": "stream",
     "text": [
      "2024-11-08 20:09:37.855158: I external/local_xla/xla/tsl/cuda/cudart_stub.cc:32] Could not find cuda drivers on your machine, GPU will not be used.\n",
      "2024-11-08 20:09:37.980638: I external/local_xla/xla/tsl/cuda/cudart_stub.cc:32] Could not find cuda drivers on your machine, GPU will not be used.\n",
      "2024-11-08 20:09:38.065391: E external/local_xla/xla/stream_executor/cuda/cuda_fft.cc:477] Unable to register cuFFT factory: Attempting to register factory for plugin cuFFT when one has already been registered\n",
      "WARNING: All log messages before absl::InitializeLog() is called are written to STDERR\n",
      "E0000 00:00:1731092978.177836   11490 cuda_dnn.cc:8310] Unable to register cuDNN factory: Attempting to register factory for plugin cuDNN when one has already been registered\n",
      "E0000 00:00:1731092978.206169   11490 cuda_blas.cc:1418] Unable to register cuBLAS factory: Attempting to register factory for plugin cuBLAS when one has already been registered\n",
      "2024-11-08 20:09:38.393890: I tensorflow/core/platform/cpu_feature_guard.cc:210] This TensorFlow binary is optimized to use available CPU instructions in performance-critical operations.\n",
      "To enable the following instructions: AVX2 FMA, in other operations, rebuild TensorFlow with the appropriate compiler flags.\n"
     ]
    }
   ],
   "execution_count": 3
  },
  {
   "cell_type": "markdown",
   "id": "fed800f1",
   "metadata": {},
   "source": [
    "Pour l’instant, ce modèle est vide. Nous allons lui ajouter une couche\n",
    "récurrente avec un modèle de type `SimpleRNN` (la cellule récurrente\n",
    "la plus simple) :"
   ]
  },
  {
   "cell_type": "code",
   "execution_count": null,
   "id": "59262127",
   "metadata": {
    "hide-output": false
   },
   "outputs": [],
   "source": [
    "h_size = 128\n",
    "model.add(SimpleRNN(h_size, return_sequences=False, input_shape=(SEQLEN, n_characters), unroll=True))"
   ]
  },
  {
   "cell_type": "markdown",
   "id": "4c7cd80f",
   "metadata": {},
   "source": [
    "### Question\n",
    "\n",
    "À l’aide de la documentation de\n",
    "[SimpleRNN](https://keras.io/api/layers/recurrent_layers/simple_rnn/)\n",
    "dans Keras, expliquer à quoi correspondent les paramètres\n",
    "`h_size = 128` et `return_sequences=False`."
   ]
  },
  {
   "cell_type": "markdown",
   "id": "e8b79284",
   "metadata": {},
   "source": [
    "### Note\n",
    "\n",
    "L’argument optionnel `unroll=True` permet simplement\n",
    "d’accélérer les calculs en « déroulant » le réseau récurrent plutôt que\n",
    "d’utiliser une boucle `for` en interne.\n",
    "\n",
    "Pour terminer notre modèle, nous ajoutons enfin une couche entièrement\n",
    "connectée suivie d’une fonction `softmax` qui effectuera la\n",
    "classification du caractère suivant la séquence."
   ]
  },
  {
   "cell_type": "code",
   "execution_count": null,
   "id": "cc8c331b",
   "metadata": {
    "hide-output": false
   },
   "outputs": [],
   "source": [
    "from tensorflow.keras.layers import Dense, Activation\n",
    "\n",
    "model.add(Dense(n_characters))\n",
    "model.add(Activation(\"softmax\"))"
   ]
  },
  {
   "cell_type": "markdown",
   "id": "632e513c",
   "metadata": {},
   "source": [
    "Empiriquement, il a été constaté que l’optimisation des réseaux\n",
    "récurrents est plus rapide et la convergence plus robuste lorsque l’on\n",
    "utilise des méthodes de descente de gradient à pas adaptatif, telles que\n",
    "`RMSprop` [[TH12]](#tieleman2012)."
   ]
  },
  {
   "cell_type": "code",
   "execution_count": null,
   "id": "d4605f8c",
   "metadata": {
    "hide-output": false
   },
   "outputs": [],
   "source": [
    "from tensorflow.keras.optimizers import RMSprop\n",
    "\n",
    "learning_rate = 0.001\n",
    "optim = RMSprop(learning_rate=learning_rate)"
   ]
  },
  {
   "cell_type": "markdown",
   "id": "213184c5",
   "metadata": {},
   "source": [
    "Nous pouvons donc compiler le modèle et utiliser la méthode\n",
    "`summary()` de Keras pour visualiser le nombre de paramètres du\n",
    "réseaux"
   ]
  },
  {
   "cell_type": "code",
   "execution_count": null,
   "id": "91ed3666",
   "metadata": {
    "hide-output": false
   },
   "outputs": [],
   "source": [
    "model.compile(loss=\"categorical_crossentropy\", optimizer=optim, metrics=['accuracy'])\n",
    "model.summary()"
   ]
  },
  {
   "cell_type": "markdown",
   "id": "e16858eb",
   "metadata": {},
   "source": [
    "L’entraînement s’effectue de la manière habituelle à l’aide de la\n",
    "méthode `fit()`:"
   ]
  },
  {
   "cell_type": "code",
   "execution_count": null,
   "id": "32a17db0",
   "metadata": {
    "hide-output": false
   },
   "outputs": [],
   "source": [
    "batch_size = 128\n",
    "num_epochs = 50\n",
    "model.fit(X_train, y_train, batch_size=batch_size, epochs=num_epochs)"
   ]
  },
  {
   "cell_type": "markdown",
   "id": "aa971e95",
   "metadata": {},
   "source": [
    "Nous pouvons utiliser la méthode `.evaluate()` pour calculer\n",
    "automatiquement les métriques spécifiées à la compilation du modèle sur\n",
    "un jeu de données. Calculons par exemple les scores de taux de bonne\n",
    "classification (*accuracy*) sur le jeu d’apprentissage et sur le jeu de\n",
    "test :"
   ]
  },
  {
   "cell_type": "code",
   "execution_count": null,
   "id": "f6a22bc4",
   "metadata": {
    "hide-output": false
   },
   "outputs": [],
   "source": [
    "scores_train = model.evaluate(X_train, y_train, verbose=1)\n",
    "scores_test = model.evaluate(X_test, y_test, verbose=1)\n",
    "print(f\"Performances (apprentissage, {model.metrics_names[1]}) = {scores_train[1]*100:.2f}\")\n",
    "print(f\"Performances (validation, {model.metrics_names[1]}) = {scores_test[1]*100:.2f}\")"
   ]
  },
  {
   "cell_type": "markdown",
   "id": "896782d8",
   "metadata": {},
   "source": [
    "*Note*: Il est possible de sauvegarder les paramètres du modèle appris à\n",
    "l’aide de la méthode `.save()`. Cela permet notamment de réutiliser le\n",
    "modèle plus tard, sans avoir à l’entraîner de nouveau."
   ]
  },
  {
   "cell_type": "code",
   "execution_count": null,
   "id": "dbcc0d7c",
   "metadata": {
    "hide-output": false
   },
   "outputs": [],
   "source": [
    "model_name = f\"SimpleRNN_{h_size}_{num_epochs}epochs\"\n",
    "model.save(model_name)"
   ]
  },
  {
   "cell_type": "markdown",
   "id": "1a6118bf",
   "metadata": {},
   "source": [
    "### Analyse de l’apprentissage"
   ]
  },
  {
   "cell_type": "markdown",
   "id": "0c3d54dc",
   "metadata": {},
   "source": [
    "### Question\n",
    "\n",
    "Quels taux de classification obtient-on en apprentissage ? En validation\n",
    "? Commenter les performances obtenues."
   ]
  },
  {
   "cell_type": "markdown",
   "id": "37911876",
   "metadata": {},
   "source": [
    "### Question\n",
    "\n",
    "En quoi le problème est-il différents des problèmes de classification\n",
    "abordés jusqu’ici ? Par exemple, faire une recherche de la séquence\n",
    "d’entrée « la mort de », et analyser les labels cibles présents dans le\n",
    "corpus d’apprentissage."
   ]
  },
  {
   "cell_type": "markdown",
   "id": "b71f1c45",
   "metadata": {},
   "source": [
    "### Génération de texte à partir du modèle appris\n",
    "\n",
    "Nous pouvons désormais nous servir du modèle entraîné pour générer du\n",
    "texte qui va « imiter » le style du corpus de poésie initial (*Les\n",
    "Fleurs du mal*). Si nécessaire, commençons par charger les paramètres du\n",
    "réseau récurrent précédemment entraîné à l’aide de la fonction\n",
    "`loadModel` :"
   ]
  },
  {
   "cell_type": "code",
   "execution_count": null,
   "id": "14cb02d4",
   "metadata": {
    "hide-output": false
   },
   "outputs": [],
   "source": [
    "from tensorflow.keras.models import load_model\n",
    "model = load_model(model_name)\n",
    "model.compile(loss='categorical_crossentropy', optimizer='RMSprop', metrics=['accuracy'])\n",
    "model.summary()"
   ]
  },
  {
   "cell_type": "markdown",
   "id": "621edd35",
   "metadata": {},
   "source": [
    "Comme le modèle a été entraîné pour prédire le caractère suivant à\n",
    "partir d’une séquence de `SEQLEN` caractères précédent, nous devons\n",
    "l’initialiser avec une chaîne de caractères de départ. Le modèle pourra\n",
    "ensuite générer du texte en prédisant les caractères suivants un par un.\n",
    "\n",
    "Reprenons un texte initial issu de notre corpus d’entraînement :"
   ]
  },
  {
   "cell_type": "code",
   "execution_count": null,
   "id": "fcfb3237",
   "metadata": {
    "hide-output": false
   },
   "outputs": [],
   "source": [
    "idx = 10\n",
    "# index2char permet de repasser de l'encodage one-hot au caractère du dictionnaire\n",
    "initial_characters = [index2char[np.argmax(c)] for c in X_train[idx]]\n",
    "initial_text = \"\".join(initial_characters)\n",
    "print(f\"La séquence n°{idx} est : '{initial_text}'\")"
   ]
  },
  {
   "cell_type": "markdown",
   "id": "d0fcb3b5",
   "metadata": {},
   "source": [
    "Nous pouvons maintenant extraire la représentation en encodage *one-hot*\n",
    "de ce texte, que nous passerons ensuite dans le réseau entraîné pour\n",
    "obtenir la prédiction du caractère suivant."
   ]
  },
  {
   "cell_type": "code",
   "execution_count": null,
   "id": "e3a73732",
   "metadata": {
    "hide-output": false
   },
   "outputs": [],
   "source": [
    "test_sequence = np.zeros((1, SEQLEN, n_characters), dtype=bool)\n",
    "test_sequence[0] = X_train[idx]\n",
    "prediction = model.predict(test_sequence)\n",
    "print(prediction)"
   ]
  },
  {
   "cell_type": "markdown",
   "id": "968ee9b0",
   "metadata": {},
   "source": [
    "### Question\n",
    "\n",
    "À l’aide du dictionnaire `index2char`, déterminer quel\n",
    "est le prochain caractère prédit par le modèle.\n",
    "\n",
    "Au lieu de prédire systématiquement le symbole dont la probabilité est\n",
    "maximale, nous pouvons ajouter du non-déterministe (et donc de\n",
    "l’aléatoire) dans la génération de texte en échantillonnant selon la\n",
    "distribution de probabilités en sortie du softmax. Autrement dit, plus\n",
    "un symbole aura une forte activation après le softmax, plus il aura de\n",
    "chances d’être tiré.\n",
    "\n",
    "Pour contrôler à quel point cet échantillonnage sera non-déterministe,\n",
    "nous allons introduire un nouveau paramètre permettant de contrôler la\n",
    "forme de la distribution. En notant $ T $ ce nouveau paramètre, nous\n",
    "allons altérer les probabilités de sortie en les remplaçant par la\n",
    "formule suivante :\n",
    "\n",
    "$$\n",
    "z_{i}^N  = \\frac{z_{i}^{\\frac{1}{T}}}{\\sum\\limits_{j=1}^C z_{j}^{\\frac{1}{T}} }\n",
    "$$\n",
    "\n",
    "$ T $ est un paramètre appelé *température*. Si $ T=1 $, alors\n",
    "il s’agit du softmax habituel.\n",
    "\n",
    "La figure ci-dessous montre l’impact sur la distribution de cette\n",
    "renormalisation :\n",
    "\n",
    "Nous pourrons par la suite utiliser la fonction ci-dessous qui tire\n",
    "aléatoirement un symbole en échantillonnant selon la distribution,\n",
    "éventuellement modifiée par la température."
   ]
  },
  {
   "cell_type": "code",
   "execution_count": null,
   "id": "bddb3dca",
   "metadata": {
    "hide-output": false
   },
   "outputs": [],
   "source": [
    "def sample(probabilities, temperature=1.0):\n",
    "    probabilities = np.asarray(probabilities).astype('float64')\n",
    "    # Modifie la distribution selon la valeur de la température\n",
    "    probabilities = pow(probabilities, 1.0/temperature)\n",
    "    probabilities /= np.sum(probabilities)\n",
    "    # Tire des variables aléatoires selon la distribution multinomiale transformée\n",
    "    random_values = np.random.multinomial(1, probabilities, 1)\n",
    "    # Renvoie le symbole échantillonné\n",
    "    return np.argmax(random_values)"
   ]
  },
  {
   "cell_type": "markdown",
   "id": "a43b4a5f",
   "metadata": {},
   "source": [
    "### Question\n",
    "\n",
    "Comment est-ce que la température modifie la distribution\n",
    "lorsqu’elle augmente ($ T \\rightarrow +\\infty $) ou\n",
    "diminue ($ T \\rightarrow 0 $) ?\n",
    "Comment cela va-t-il influer sur l’échantillonnage du caractère suivant ?\n",
    "\n",
    "Pour terminer, nous pouvons mettre en place la génération de texte à\n",
    "partir d’une séquence de `SEQLEN` caractères initiaux. Pour ce faire,\n",
    "nous allons créer une boucle qui :\n",
    "\n",
    "1. extraie les `SEQLEN` derniers caractères du texte généré  \n",
    "1. calcule les probabilités après softmax du réseau (méthode\n",
    "  `.predict()`)  \n",
    "1. échantillonne un caractère dans ces probabilités (fonction\n",
    "  `sample()`)  \n",
    "1. ajoute ce caractère au texte généré  "
   ]
  },
  {
   "cell_type": "markdown",
   "id": "3257eab8",
   "metadata": {},
   "source": [
    "### Question\n",
    "\n",
    "Compléter le code de génération de texte ci-dessous."
   ]
  },
  {
   "cell_type": "code",
   "execution_count": null,
   "id": "e52a386e",
   "metadata": {
    "hide-output": false
   },
   "outputs": [],
   "source": [
    "# Longueur du texte à générer (en caractères)\n",
    "text_length = 200\n",
    "# Température\n",
    "temperature  = 0.5\n",
    "\n",
    "\n",
    "generated_text = initial_text\n",
    "network_input = test_sequence\n",
    "\n",
    "for i in range(text_length):\n",
    "    last_characters = generated_text[-SEQLEN:]\n",
    "    # Compléter le code\n",
    "    ..."
   ]
  },
  {
   "cell_type": "markdown",
   "id": "39452d30",
   "metadata": {},
   "source": [
    "### Question\n",
    "\n",
    "Évaluer l’impact du paramètre de température dans la génération,\n",
    "ainsi que le nombre d’époques dans l’apprentissage.\n",
    "Commenter les points forts et points faibles du générateur."
   ]
  },
  {
   "cell_type": "markdown",
   "id": "ed4f3ab9",
   "metadata": {},
   "source": [
    "## Pour aller plus loin\n",
    "\n",
    "Comment doit-on modifier le jeu de données ou modèle de RNN pour\n",
    "améliorer les performances du générateur ? Essayez notamment d’augmenter\n",
    "`SEQLEN`. Quel problème cela résout-il ? Un modèle avec plus de\n",
    "paramètres donne-t-il de meilleurs résultats ?"
   ]
  }
 ],
 "metadata": {
  "date": 1.7256135328071067E9,
  "filename": "tpDeepLearning5.rst",
  "kernelspec": {
   "display_name": "Python 3 (ipykernel)",
   "language": "python",
   "name": "python3"
  },
  "language_info": {
   "codemirror_mode": {
    "name": "ipython",
    "version": 3
   },
   "file_extension": ".py",
   "mimetype": "text/x-python",
   "name": "python",
   "nbconvert_exporter": "python",
   "pygments_lexer": "ipython3",
   "version": "3.10.12"
  },
  "title": "Travaux pratiques - RNN pour la génération de texte"
 },
 "nbformat": 4,
 "nbformat_minor": 5
}
