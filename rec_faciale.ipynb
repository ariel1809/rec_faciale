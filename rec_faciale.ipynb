{
 "cells": [
  {
   "cell_type": "code",
   "id": "initial_id",
   "metadata": {
    "collapsed": true,
    "ExecuteTime": {
     "end_time": "2024-11-08T11:46:46.559305Z",
     "start_time": "2024-11-08T11:46:46.554522Z"
    }
   },
   "source": [
    "# import libraries \n",
    "import tensorflow as tf"
   ],
   "outputs": [],
   "execution_count": 5
  },
  {
   "metadata": {},
   "cell_type": "markdown",
   "source": "# Image Agumentation with Preprocessing",
   "id": "ffec7836caa0d538"
  },
  {
   "metadata": {
    "ExecuteTime": {
     "end_time": "2024-11-08T11:46:49.372220Z",
     "start_time": "2024-11-08T11:46:49.360138Z"
    }
   },
   "cell_type": "code",
   "source": [
    "train_images = r\"/home/ariel/Documents/Face Images/Final Training Images\"\n",
    "train_images"
   ],
   "id": "30a53f33e1a2cfc7",
   "outputs": [
    {
     "data": {
      "text/plain": [
       "'/home/ariel/Documents/Face Images/Final Training Images'"
      ]
     },
     "execution_count": 6,
     "metadata": {},
     "output_type": "execute_result"
    }
   ],
   "execution_count": 6
  },
  {
   "metadata": {
    "ExecuteTime": {
     "end_time": "2024-11-08T11:47:52.423829Z",
     "start_time": "2024-11-08T11:47:52.414907Z"
    }
   },
   "cell_type": "code",
   "source": "from tensorflow.keras.preprocessing.image import ImageDataGenerator",
   "id": "81891cbaa8fa37cf",
   "outputs": [],
   "execution_count": 8
  },
  {
   "metadata": {
    "ExecuteTime": {
     "end_time": "2024-11-08T11:48:15.013070Z",
     "start_time": "2024-11-08T11:48:15.007896Z"
    }
   },
   "cell_type": "code",
   "source": [
    "train_gen = ImageDataGenerator(\n",
    "    shear_range=0.1,\n",
    "    zoom_range=0.1,\n",
    "    horizontal_flip=True\n",
    ")"
   ],
   "id": "39449cc323cda979",
   "outputs": [],
   "execution_count": 9
  },
  {
   "metadata": {
    "ExecuteTime": {
     "end_time": "2024-11-08T11:48:50.775072Z",
     "start_time": "2024-11-08T11:48:50.744180Z"
    }
   },
   "cell_type": "code",
   "source": [
    "# No transformations are made on the test data\n",
    "test_gen = ImageDataGenerator()\n",
    "\n",
    "# Generating training data\n",
    "training_data = train_gen.flow_from_directory(\n",
    "    train_images, \n",
    "    target_size = (100,100),\n",
    "    batch_size = 30,\n",
    "    class_mode = 'categorical'\n",
    ")"
   ],
   "id": "1c854fa1bdbeb5a1",
   "outputs": [
    {
     "name": "stdout",
     "output_type": "stream",
     "text": [
      "Found 244 images belonging to 16 classes.\n"
     ]
    }
   ],
   "execution_count": 10
  },
  {
   "metadata": {
    "ExecuteTime": {
     "end_time": "2024-11-08T11:52:35.922463Z",
     "start_time": "2024-11-08T11:52:35.886115Z"
    }
   },
   "cell_type": "code",
   "source": [
    "# generating test data\n",
    "testing_data = test_gen.flow_from_directory(\n",
    "    train_images, \n",
    "    target_size = (100,100),\n",
    "    batch_size = 30,\n",
    "    class_mode = 'categorical'\n",
    ")\n",
    "\n",
    "# Printing class labels for each face\n",
    "testing_data.class_indices"
   ],
   "id": "2e399a814efd6b96",
   "outputs": [
    {
     "name": "stdout",
     "output_type": "stream",
     "text": [
      "Found 244 images belonging to 16 classes.\n"
     ]
    },
    {
     "data": {
      "text/plain": [
       "{'face1': 0,\n",
       " 'face10': 1,\n",
       " 'face11': 2,\n",
       " 'face12': 3,\n",
       " 'face13': 4,\n",
       " 'face14': 5,\n",
       " 'face15': 6,\n",
       " 'face16': 7,\n",
       " 'face2': 8,\n",
       " 'face3': 9,\n",
       " 'face4': 10,\n",
       " 'face5': 11,\n",
       " 'face6': 12,\n",
       " 'face7': 13,\n",
       " 'face8': 14,\n",
       " 'face9': 15}"
      ]
     },
     "execution_count": 11,
     "metadata": {},
     "output_type": "execute_result"
    }
   ],
   "execution_count": 11
  },
  {
   "metadata": {
    "ExecuteTime": {
     "end_time": "2024-11-08T11:56:55.850983Z",
     "start_time": "2024-11-08T11:56:55.840557Z"
    }
   },
   "cell_type": "code",
   "source": [
    "# training_data have numeric tag for each face\n",
    "Train_class = training_data.class_indices\n",
    "\n",
    "# lets store them in a dictionary with swap for future reference\n",
    "Result_class = {}\n",
    "for value_tag, face_tag in zip(Train_class.values(),Train_class.keys()):\n",
    "    Result_class[value_tag] = face_tag\n",
    "\n",
    "    \n",
    "# use pickle to save the mapping's\n",
    "import pickle5 as pickle\n",
    "with open(r'/home/ariel/Documents/Face Images/ResultMap.pkl','wb') as Final_mapping:\n",
    "    pickle.dump(Result_class,Final_mapping)"
   ],
   "id": "a83dc7cf2579ee26",
   "outputs": [],
   "execution_count": 12
  },
  {
   "metadata": {
    "ExecuteTime": {
     "end_time": "2024-11-08T11:57:10.735462Z",
     "start_time": "2024-11-08T11:57:10.730360Z"
    }
   },
   "cell_type": "code",
   "source": "print(\"Mapping of Face and its numeric value\",Result_class)",
   "id": "17fb028ade980860",
   "outputs": [
    {
     "name": "stdout",
     "output_type": "stream",
     "text": [
      "Mapping of Face and its numeric value {0: 'face1', 1: 'face10', 2: 'face11', 3: 'face12', 4: 'face13', 5: 'face14', 6: 'face15', 7: 'face16', 8: 'face2', 9: 'face3', 10: 'face4', 11: 'face5', 12: 'face6', 13: 'face7', 14: 'face8', 15: 'face9'}\n"
     ]
    }
   ],
   "execution_count": 13
  },
  {
   "metadata": {
    "ExecuteTime": {
     "end_time": "2024-11-08T11:57:28.572192Z",
     "start_time": "2024-11-08T11:57:28.565017Z"
    }
   },
   "cell_type": "code",
   "source": [
    "Output_Neurons=len(Result_class)\n",
    "print('\\n The Number of output neurons: ', Output_Neurons)"
   ],
   "id": "f8216f3cb3cc2224",
   "outputs": [
    {
     "name": "stdout",
     "output_type": "stream",
     "text": [
      "\n",
      " The Number of output neurons:  16\n"
     ]
    }
   ],
   "execution_count": 14
  },
  {
   "metadata": {},
   "cell_type": "markdown",
   "source": "# Building the CNN Architecture, Model Compilation and Training",
   "id": "b85d1a5b5a4bbf80"
  },
  {
   "metadata": {
    "ExecuteTime": {
     "end_time": "2024-11-08T11:58:42.341225Z",
     "start_time": "2024-11-08T11:58:42.336209Z"
    }
   },
   "cell_type": "code",
   "source": [
    "from keras.models import Sequential\n",
    "from keras.layers import Conv2D, MaxPool2D, Flatten, Dense"
   ],
   "id": "bfbbc4aa42ab8c39",
   "outputs": [],
   "execution_count": 15
  },
  {
   "metadata": {
    "ExecuteTime": {
     "end_time": "2024-11-08T11:59:20.294791Z",
     "start_time": "2024-11-08T11:59:20.281164Z"
    }
   },
   "cell_type": "code",
   "source": [
    "'''Initializing the Convolutional Neural Network'''\n",
    "Model = Sequential()"
   ],
   "id": "4f5893114f639bbc",
   "outputs": [],
   "execution_count": 16
  },
  {
   "metadata": {
    "ExecuteTime": {
     "end_time": "2024-11-08T11:59:34.909973Z",
     "start_time": "2024-11-08T11:59:34.832489Z"
    }
   },
   "cell_type": "code",
   "source": [
    "''' STEP--1 Convolution\n",
    "# Adding the first layer of CNN\n",
    "# we are using the format (100,100,3) because we are using TensorFlow backend\n",
    "# It means 3 matrix of size (100x100) pixels representing Red, Green and Blue components of pixels\n",
    "'''\n",
    "\n",
    "Model.add(Conv2D(16, kernel_size=(5,5), strides=(1,1), input_shape = (100,100,3),activation='relu'))"
   ],
   "id": "4d11de02f97901d4",
   "outputs": [
    {
     "name": "stderr",
     "output_type": "stream",
     "text": [
      "/home/ariel/PycharmProjects/enronmails/venv/lib/python3.10/site-packages/keras/src/layers/convolutional/base_conv.py:107: UserWarning: Do not pass an `input_shape`/`input_dim` argument to a layer. When using Sequential models, prefer using an `Input(shape)` object as the first layer in the model instead.\n",
      "  super().__init__(activity_regularizer=activity_regularizer, **kwargs)\n",
      "W0000 00:00:1731067174.862912   12218 gpu_device.cc:2344] Cannot dlopen some GPU libraries. Please make sure the missing libraries mentioned above are installed properly if you would like to use GPU. Follow the guide at https://www.tensorflow.org/install/gpu for how to download and setup the required libraries for your platform.\n",
      "Skipping registering GPU devices...\n"
     ]
    }
   ],
   "execution_count": 17
  },
  {
   "metadata": {
    "ExecuteTime": {
     "end_time": "2024-11-08T11:59:45.556688Z",
     "start_time": "2024-11-08T11:59:45.549851Z"
    }
   },
   "cell_type": "code",
   "source": [
    "'''# Maxplooing layer'''\n",
    "\n",
    "Model.add(MaxPool2D(pool_size=(2,2)))"
   ],
   "id": "2e1ecbce1265cbc3",
   "outputs": [],
   "execution_count": 18
  },
  {
   "metadata": {
    "ExecuteTime": {
     "end_time": "2024-11-08T11:59:59.399230Z",
     "start_time": "2024-11-08T11:59:59.360503Z"
    }
   },
   "cell_type": "code",
   "source": [
    "'''Adding additional layers  of convolution and \n",
    "        maxpooling for better model accuracy and performance'''\n",
    "\n",
    "Model.add(Conv2D(32,kernel_size=(3,3),strides=(1,1),activation='relu'))\n",
    "Model.add(MaxPool2D(pool_size=(2,2)))\n",
    "\n",
    "'''# Add a flatten layer to convert the vector to one dimensional'''\n",
    "Model.add(Flatten())"
   ],
   "id": "e32c79b94167dc8",
   "outputs": [],
   "execution_count": 19
  },
  {
   "metadata": {
    "ExecuteTime": {
     "end_time": "2024-11-08T12:00:14.206174Z",
     "start_time": "2024-11-08T12:00:14.156300Z"
    }
   },
   "cell_type": "code",
   "source": [
    "'''Add dense layers and Initialize weights using \n",
    "                kernal initializer for better learing of image features and classification'''\n",
    "\n",
    "Model.add(Dense(64,activation='relu'))\n",
    "Model.add(Dense(Output_Neurons,activation='softmax'))"
   ],
   "id": "1fed0630fffa1252",
   "outputs": [],
   "execution_count": 20
  },
  {
   "metadata": {
    "ExecuteTime": {
     "end_time": "2024-11-08T12:07:34.771322Z",
     "start_time": "2024-11-08T12:07:34.734850Z"
    }
   },
   "cell_type": "code",
   "source": "Model.summary()",
   "id": "9f76e18cfb3315e8",
   "outputs": [
    {
     "data": {
      "text/plain": [
       "\u001B[1mModel: \"sequential\"\u001B[0m\n"
      ],
      "text/html": [
       "<pre style=\"white-space:pre;overflow-x:auto;line-height:normal;font-family:Menlo,'DejaVu Sans Mono',consolas,'Courier New',monospace\"><span style=\"font-weight: bold\">Model: \"sequential\"</span>\n",
       "</pre>\n"
      ]
     },
     "metadata": {},
     "output_type": "display_data"
    },
    {
     "data": {
      "text/plain": [
       "┏━━━━━━━━━━━━━━━━━━━━━━━━━━━━━━━━━┳━━━━━━━━━━━━━━━━━━━━━━━━┳━━━━━━━━━━━━━━━┓\n",
       "┃\u001B[1m \u001B[0m\u001B[1mLayer (type)                   \u001B[0m\u001B[1m \u001B[0m┃\u001B[1m \u001B[0m\u001B[1mOutput Shape          \u001B[0m\u001B[1m \u001B[0m┃\u001B[1m \u001B[0m\u001B[1m      Param #\u001B[0m\u001B[1m \u001B[0m┃\n",
       "┡━━━━━━━━━━━━━━━━━━━━━━━━━━━━━━━━━╇━━━━━━━━━━━━━━━━━━━━━━━━╇━━━━━━━━━━━━━━━┩\n",
       "│ conv2d (\u001B[38;5;33mConv2D\u001B[0m)                 │ (\u001B[38;5;45mNone\u001B[0m, \u001B[38;5;34m96\u001B[0m, \u001B[38;5;34m96\u001B[0m, \u001B[38;5;34m16\u001B[0m)     │         \u001B[38;5;34m1,216\u001B[0m │\n",
       "├─────────────────────────────────┼────────────────────────┼───────────────┤\n",
       "│ max_pooling2d (\u001B[38;5;33mMaxPooling2D\u001B[0m)    │ (\u001B[38;5;45mNone\u001B[0m, \u001B[38;5;34m48\u001B[0m, \u001B[38;5;34m48\u001B[0m, \u001B[38;5;34m16\u001B[0m)     │             \u001B[38;5;34m0\u001B[0m │\n",
       "├─────────────────────────────────┼────────────────────────┼───────────────┤\n",
       "│ conv2d_1 (\u001B[38;5;33mConv2D\u001B[0m)               │ (\u001B[38;5;45mNone\u001B[0m, \u001B[38;5;34m46\u001B[0m, \u001B[38;5;34m46\u001B[0m, \u001B[38;5;34m32\u001B[0m)     │         \u001B[38;5;34m4,640\u001B[0m │\n",
       "├─────────────────────────────────┼────────────────────────┼───────────────┤\n",
       "│ max_pooling2d_1 (\u001B[38;5;33mMaxPooling2D\u001B[0m)  │ (\u001B[38;5;45mNone\u001B[0m, \u001B[38;5;34m23\u001B[0m, \u001B[38;5;34m23\u001B[0m, \u001B[38;5;34m32\u001B[0m)     │             \u001B[38;5;34m0\u001B[0m │\n",
       "├─────────────────────────────────┼────────────────────────┼───────────────┤\n",
       "│ flatten (\u001B[38;5;33mFlatten\u001B[0m)               │ (\u001B[38;5;45mNone\u001B[0m, \u001B[38;5;34m16928\u001B[0m)          │             \u001B[38;5;34m0\u001B[0m │\n",
       "├─────────────────────────────────┼────────────────────────┼───────────────┤\n",
       "│ dense (\u001B[38;5;33mDense\u001B[0m)                   │ (\u001B[38;5;45mNone\u001B[0m, \u001B[38;5;34m64\u001B[0m)             │     \u001B[38;5;34m1,083,456\u001B[0m │\n",
       "├─────────────────────────────────┼────────────────────────┼───────────────┤\n",
       "│ dense_1 (\u001B[38;5;33mDense\u001B[0m)                 │ (\u001B[38;5;45mNone\u001B[0m, \u001B[38;5;34m16\u001B[0m)             │         \u001B[38;5;34m1,040\u001B[0m │\n",
       "└─────────────────────────────────┴────────────────────────┴───────────────┘\n"
      ],
      "text/html": [
       "<pre style=\"white-space:pre;overflow-x:auto;line-height:normal;font-family:Menlo,'DejaVu Sans Mono',consolas,'Courier New',monospace\">┏━━━━━━━━━━━━━━━━━━━━━━━━━━━━━━━━━┳━━━━━━━━━━━━━━━━━━━━━━━━┳━━━━━━━━━━━━━━━┓\n",
       "┃<span style=\"font-weight: bold\"> Layer (type)                    </span>┃<span style=\"font-weight: bold\"> Output Shape           </span>┃<span style=\"font-weight: bold\">       Param # </span>┃\n",
       "┡━━━━━━━━━━━━━━━━━━━━━━━━━━━━━━━━━╇━━━━━━━━━━━━━━━━━━━━━━━━╇━━━━━━━━━━━━━━━┩\n",
       "│ conv2d (<span style=\"color: #0087ff; text-decoration-color: #0087ff\">Conv2D</span>)                 │ (<span style=\"color: #00d7ff; text-decoration-color: #00d7ff\">None</span>, <span style=\"color: #00af00; text-decoration-color: #00af00\">96</span>, <span style=\"color: #00af00; text-decoration-color: #00af00\">96</span>, <span style=\"color: #00af00; text-decoration-color: #00af00\">16</span>)     │         <span style=\"color: #00af00; text-decoration-color: #00af00\">1,216</span> │\n",
       "├─────────────────────────────────┼────────────────────────┼───────────────┤\n",
       "│ max_pooling2d (<span style=\"color: #0087ff; text-decoration-color: #0087ff\">MaxPooling2D</span>)    │ (<span style=\"color: #00d7ff; text-decoration-color: #00d7ff\">None</span>, <span style=\"color: #00af00; text-decoration-color: #00af00\">48</span>, <span style=\"color: #00af00; text-decoration-color: #00af00\">48</span>, <span style=\"color: #00af00; text-decoration-color: #00af00\">16</span>)     │             <span style=\"color: #00af00; text-decoration-color: #00af00\">0</span> │\n",
       "├─────────────────────────────────┼────────────────────────┼───────────────┤\n",
       "│ conv2d_1 (<span style=\"color: #0087ff; text-decoration-color: #0087ff\">Conv2D</span>)               │ (<span style=\"color: #00d7ff; text-decoration-color: #00d7ff\">None</span>, <span style=\"color: #00af00; text-decoration-color: #00af00\">46</span>, <span style=\"color: #00af00; text-decoration-color: #00af00\">46</span>, <span style=\"color: #00af00; text-decoration-color: #00af00\">32</span>)     │         <span style=\"color: #00af00; text-decoration-color: #00af00\">4,640</span> │\n",
       "├─────────────────────────────────┼────────────────────────┼───────────────┤\n",
       "│ max_pooling2d_1 (<span style=\"color: #0087ff; text-decoration-color: #0087ff\">MaxPooling2D</span>)  │ (<span style=\"color: #00d7ff; text-decoration-color: #00d7ff\">None</span>, <span style=\"color: #00af00; text-decoration-color: #00af00\">23</span>, <span style=\"color: #00af00; text-decoration-color: #00af00\">23</span>, <span style=\"color: #00af00; text-decoration-color: #00af00\">32</span>)     │             <span style=\"color: #00af00; text-decoration-color: #00af00\">0</span> │\n",
       "├─────────────────────────────────┼────────────────────────┼───────────────┤\n",
       "│ flatten (<span style=\"color: #0087ff; text-decoration-color: #0087ff\">Flatten</span>)               │ (<span style=\"color: #00d7ff; text-decoration-color: #00d7ff\">None</span>, <span style=\"color: #00af00; text-decoration-color: #00af00\">16928</span>)          │             <span style=\"color: #00af00; text-decoration-color: #00af00\">0</span> │\n",
       "├─────────────────────────────────┼────────────────────────┼───────────────┤\n",
       "│ dense (<span style=\"color: #0087ff; text-decoration-color: #0087ff\">Dense</span>)                   │ (<span style=\"color: #00d7ff; text-decoration-color: #00d7ff\">None</span>, <span style=\"color: #00af00; text-decoration-color: #00af00\">64</span>)             │     <span style=\"color: #00af00; text-decoration-color: #00af00\">1,083,456</span> │\n",
       "├─────────────────────────────────┼────────────────────────┼───────────────┤\n",
       "│ dense_1 (<span style=\"color: #0087ff; text-decoration-color: #0087ff\">Dense</span>)                 │ (<span style=\"color: #00d7ff; text-decoration-color: #00d7ff\">None</span>, <span style=\"color: #00af00; text-decoration-color: #00af00\">16</span>)             │         <span style=\"color: #00af00; text-decoration-color: #00af00\">1,040</span> │\n",
       "└─────────────────────────────────┴────────────────────────┴───────────────┘\n",
       "</pre>\n"
      ]
     },
     "metadata": {},
     "output_type": "display_data"
    },
    {
     "data": {
      "text/plain": [
       "\u001B[1m Total params: \u001B[0m\u001B[38;5;34m3,271,058\u001B[0m (12.48 MB)\n"
      ],
      "text/html": [
       "<pre style=\"white-space:pre;overflow-x:auto;line-height:normal;font-family:Menlo,'DejaVu Sans Mono',consolas,'Courier New',monospace\"><span style=\"font-weight: bold\"> Total params: </span><span style=\"color: #00af00; text-decoration-color: #00af00\">3,271,058</span> (12.48 MB)\n",
       "</pre>\n"
      ]
     },
     "metadata": {},
     "output_type": "display_data"
    },
    {
     "data": {
      "text/plain": [
       "\u001B[1m Trainable params: \u001B[0m\u001B[38;5;34m1,090,352\u001B[0m (4.16 MB)\n"
      ],
      "text/html": [
       "<pre style=\"white-space:pre;overflow-x:auto;line-height:normal;font-family:Menlo,'DejaVu Sans Mono',consolas,'Courier New',monospace\"><span style=\"font-weight: bold\"> Trainable params: </span><span style=\"color: #00af00; text-decoration-color: #00af00\">1,090,352</span> (4.16 MB)\n",
       "</pre>\n"
      ]
     },
     "metadata": {},
     "output_type": "display_data"
    },
    {
     "data": {
      "text/plain": [
       "\u001B[1m Non-trainable params: \u001B[0m\u001B[38;5;34m0\u001B[0m (0.00 B)\n"
      ],
      "text/html": [
       "<pre style=\"white-space:pre;overflow-x:auto;line-height:normal;font-family:Menlo,'DejaVu Sans Mono',consolas,'Courier New',monospace\"><span style=\"font-weight: bold\"> Non-trainable params: </span><span style=\"color: #00af00; text-decoration-color: #00af00\">0</span> (0.00 B)\n",
       "</pre>\n"
      ]
     },
     "metadata": {},
     "output_type": "display_data"
    },
    {
     "data": {
      "text/plain": [
       "\u001B[1m Optimizer params: \u001B[0m\u001B[38;5;34m2,180,706\u001B[0m (8.32 MB)\n"
      ],
      "text/html": [
       "<pre style=\"white-space:pre;overflow-x:auto;line-height:normal;font-family:Menlo,'DejaVu Sans Mono',consolas,'Courier New',monospace\"><span style=\"font-weight: bold\"> Optimizer params: </span><span style=\"color: #00af00; text-decoration-color: #00af00\">2,180,706</span> (8.32 MB)\n",
       "</pre>\n"
      ]
     },
     "metadata": {},
     "output_type": "display_data"
    }
   ],
   "execution_count": 28
  },
  {
   "metadata": {
    "ExecuteTime": {
     "end_time": "2024-11-08T12:09:06.769550Z",
     "start_time": "2024-11-08T12:09:06.756938Z"
    }
   },
   "cell_type": "code",
   "source": [
    "'''Perform Model Compilation'''\n",
    "\n",
    "Model.compile(loss='categorical_crossentropy',optimizer = 'adam',metrics = ['Accuracy'])"
   ],
   "id": "46af669268f95d73",
   "outputs": [],
   "execution_count": 30
  },
  {
   "metadata": {
    "ExecuteTime": {
     "end_time": "2024-11-08T12:01:05.066520Z",
     "start_time": "2024-11-08T12:01:05.057675Z"
    }
   },
   "cell_type": "code",
   "source": [
    "'''# Using Early stopping to reduce the training time'''\n",
    "\n",
    "from keras.callbacks import EarlyStopping\n",
    "call = EarlyStopping(\n",
    "                    min_delta=0.005,\n",
    "                    patience=5,\n",
    "                     verbose=1\n",
    "                    )"
   ],
   "id": "11f2f22782540b15",
   "outputs": [],
   "execution_count": 22
  },
  {
   "metadata": {
    "ExecuteTime": {
     "end_time": "2024-11-08T12:16:18.479449Z",
     "start_time": "2024-11-08T12:15:21.448741Z"
    }
   },
   "cell_type": "code",
   "source": [
    "# Model Training\n",
    "Model.fit(\n",
    "    training_data,\n",
    "    batch_size = 16,\n",
    "    epochs=30,\n",
    "    validation_data=testing_data\n",
    ")"
   ],
   "id": "db09d5cdb7834b69",
   "outputs": [
    {
     "name": "stdout",
     "output_type": "stream",
     "text": [
      "Epoch 1/30\n",
      "\u001B[1m9/9\u001B[0m \u001B[32m━━━━━━━━━━━━━━━━━━━━\u001B[0m\u001B[37m\u001B[0m \u001B[1m2s\u001B[0m 215ms/step - Accuracy: 0.1022 - loss: 2.7648 - val_Accuracy: 0.0820 - val_loss: 2.7678\n",
      "Epoch 2/30\n",
      "\u001B[1m9/9\u001B[0m \u001B[32m━━━━━━━━━━━━━━━━━━━━\u001B[0m\u001B[37m\u001B[0m \u001B[1m2s\u001B[0m 193ms/step - Accuracy: 0.0854 - loss: 2.7676 - val_Accuracy: 0.0820 - val_loss: 2.7678\n",
      "Epoch 3/30\n",
      "\u001B[1m9/9\u001B[0m \u001B[32m━━━━━━━━━━━━━━━━━━━━\u001B[0m\u001B[37m\u001B[0m \u001B[1m2s\u001B[0m 192ms/step - Accuracy: 0.0970 - loss: 2.7642 - val_Accuracy: 0.0820 - val_loss: 2.7677\n",
      "Epoch 4/30\n",
      "\u001B[1m9/9\u001B[0m \u001B[32m━━━━━━━━━━━━━━━━━━━━\u001B[0m\u001B[37m\u001B[0m \u001B[1m2s\u001B[0m 211ms/step - Accuracy: 0.0953 - loss: 2.7687 - val_Accuracy: 0.0820 - val_loss: 2.7676\n",
      "Epoch 5/30\n",
      "\u001B[1m9/9\u001B[0m \u001B[32m━━━━━━━━━━━━━━━━━━━━\u001B[0m\u001B[37m\u001B[0m \u001B[1m2s\u001B[0m 193ms/step - Accuracy: 0.0761 - loss: 2.7686 - val_Accuracy: 0.0820 - val_loss: 2.7676\n",
      "Epoch 6/30\n",
      "\u001B[1m9/9\u001B[0m \u001B[32m━━━━━━━━━━━━━━━━━━━━\u001B[0m\u001B[37m\u001B[0m \u001B[1m2s\u001B[0m 189ms/step - Accuracy: 0.0688 - loss: 2.7714 - val_Accuracy: 0.0820 - val_loss: 2.7675\n",
      "Epoch 7/30\n",
      "\u001B[1m9/9\u001B[0m \u001B[32m━━━━━━━━━━━━━━━━━━━━\u001B[0m\u001B[37m\u001B[0m \u001B[1m2s\u001B[0m 192ms/step - Accuracy: 0.0834 - loss: 2.7694 - val_Accuracy: 0.0820 - val_loss: 2.7675\n",
      "Epoch 8/30\n",
      "\u001B[1m9/9\u001B[0m \u001B[32m━━━━━━━━━━━━━━━━━━━━\u001B[0m\u001B[37m\u001B[0m \u001B[1m2s\u001B[0m 194ms/step - Accuracy: 0.0777 - loss: 2.7682 - val_Accuracy: 0.0820 - val_loss: 2.7674\n",
      "Epoch 9/30\n",
      "\u001B[1m9/9\u001B[0m \u001B[32m━━━━━━━━━━━━━━━━━━━━\u001B[0m\u001B[37m\u001B[0m \u001B[1m2s\u001B[0m 197ms/step - Accuracy: 0.0949 - loss: 2.7678 - val_Accuracy: 0.0820 - val_loss: 2.7673\n",
      "Epoch 10/30\n",
      "\u001B[1m9/9\u001B[0m \u001B[32m━━━━━━━━━━━━━━━━━━━━\u001B[0m\u001B[37m\u001B[0m \u001B[1m2s\u001B[0m 201ms/step - Accuracy: 0.0873 - loss: 2.7716 - val_Accuracy: 0.0820 - val_loss: 2.7673\n",
      "Epoch 11/30\n",
      "\u001B[1m9/9\u001B[0m \u001B[32m━━━━━━━━━━━━━━━━━━━━\u001B[0m\u001B[37m\u001B[0m \u001B[1m2s\u001B[0m 207ms/step - Accuracy: 0.0776 - loss: 2.7691 - val_Accuracy: 0.0820 - val_loss: 2.7672\n",
      "Epoch 12/30\n",
      "\u001B[1m9/9\u001B[0m \u001B[32m━━━━━━━━━━━━━━━━━━━━\u001B[0m\u001B[37m\u001B[0m \u001B[1m2s\u001B[0m 209ms/step - Accuracy: 0.1162 - loss: 2.7624 - val_Accuracy: 0.0820 - val_loss: 2.7672\n",
      "Epoch 13/30\n",
      "\u001B[1m9/9\u001B[0m \u001B[32m━━━━━━━━━━━━━━━━━━━━\u001B[0m\u001B[37m\u001B[0m \u001B[1m2s\u001B[0m 210ms/step - Accuracy: 0.1303 - loss: 2.7594 - val_Accuracy: 0.0820 - val_loss: 2.7671\n",
      "Epoch 14/30\n",
      "\u001B[1m9/9\u001B[0m \u001B[32m━━━━━━━━━━━━━━━━━━━━\u001B[0m\u001B[37m\u001B[0m \u001B[1m2s\u001B[0m 215ms/step - Accuracy: 0.0637 - loss: 2.7683 - val_Accuracy: 0.0820 - val_loss: 2.7671\n",
      "Epoch 15/30\n",
      "\u001B[1m9/9\u001B[0m \u001B[32m━━━━━━━━━━━━━━━━━━━━\u001B[0m\u001B[37m\u001B[0m \u001B[1m2s\u001B[0m 219ms/step - Accuracy: 0.0889 - loss: 2.7654 - val_Accuracy: 0.0820 - val_loss: 2.7671\n",
      "Epoch 16/30\n",
      "\u001B[1m9/9\u001B[0m \u001B[32m━━━━━━━━━━━━━━━━━━━━\u001B[0m\u001B[37m\u001B[0m \u001B[1m2s\u001B[0m 236ms/step - Accuracy: 0.0801 - loss: 2.7692 - val_Accuracy: 0.0820 - val_loss: 2.7671\n",
      "Epoch 17/30\n",
      "\u001B[1m9/9\u001B[0m \u001B[32m━━━━━━━━━━━━━━━━━━━━\u001B[0m\u001B[37m\u001B[0m \u001B[1m2s\u001B[0m 210ms/step - Accuracy: 0.0936 - loss: 2.7665 - val_Accuracy: 0.0820 - val_loss: 2.7671\n",
      "Epoch 18/30\n",
      "\u001B[1m9/9\u001B[0m \u001B[32m━━━━━━━━━━━━━━━━━━━━\u001B[0m\u001B[37m\u001B[0m \u001B[1m2s\u001B[0m 208ms/step - Accuracy: 0.0658 - loss: 2.7654 - val_Accuracy: 0.0820 - val_loss: 2.7670\n",
      "Epoch 19/30\n",
      "\u001B[1m9/9\u001B[0m \u001B[32m━━━━━━━━━━━━━━━━━━━━\u001B[0m\u001B[37m\u001B[0m \u001B[1m2s\u001B[0m 231ms/step - Accuracy: 0.0662 - loss: 2.7692 - val_Accuracy: 0.0820 - val_loss: 2.7670\n",
      "Epoch 20/30\n",
      "\u001B[1m9/9\u001B[0m \u001B[32m━━━━━━━━━━━━━━━━━━━━\u001B[0m\u001B[37m\u001B[0m \u001B[1m2s\u001B[0m 207ms/step - Accuracy: 0.0587 - loss: 2.7704 - val_Accuracy: 0.0820 - val_loss: 2.7670\n",
      "Epoch 21/30\n",
      "\u001B[1m9/9\u001B[0m \u001B[32m━━━━━━━━━━━━━━━━━━━━\u001B[0m\u001B[37m\u001B[0m \u001B[1m2s\u001B[0m 213ms/step - Accuracy: 0.0758 - loss: 2.7712 - val_Accuracy: 0.0820 - val_loss: 2.7670\n",
      "Epoch 22/30\n",
      "\u001B[1m9/9\u001B[0m \u001B[32m━━━━━━━━━━━━━━━━━━━━\u001B[0m\u001B[37m\u001B[0m \u001B[1m2s\u001B[0m 215ms/step - Accuracy: 0.0728 - loss: 2.7687 - val_Accuracy: 0.0820 - val_loss: 2.7669\n",
      "Epoch 23/30\n",
      "\u001B[1m9/9\u001B[0m \u001B[32m━━━━━━━━━━━━━━━━━━━━\u001B[0m\u001B[37m\u001B[0m \u001B[1m2s\u001B[0m 210ms/step - Accuracy: 0.0906 - loss: 2.7640 - val_Accuracy: 0.0820 - val_loss: 2.7669\n",
      "Epoch 24/30\n",
      "\u001B[1m9/9\u001B[0m \u001B[32m━━━━━━━━━━━━━━━━━━━━\u001B[0m\u001B[37m\u001B[0m \u001B[1m2s\u001B[0m 209ms/step - Accuracy: 0.0807 - loss: 2.7719 - val_Accuracy: 0.0820 - val_loss: 2.7669\n",
      "Epoch 25/30\n",
      "\u001B[1m9/9\u001B[0m \u001B[32m━━━━━━━━━━━━━━━━━━━━\u001B[0m\u001B[37m\u001B[0m \u001B[1m2s\u001B[0m 212ms/step - Accuracy: 0.1046 - loss: 2.7653 - val_Accuracy: 0.0820 - val_loss: 2.7669\n",
      "Epoch 26/30\n",
      "\u001B[1m9/9\u001B[0m \u001B[32m━━━━━━━━━━━━━━━━━━━━\u001B[0m\u001B[37m\u001B[0m \u001B[1m2s\u001B[0m 209ms/step - Accuracy: 0.0723 - loss: 2.7648 - val_Accuracy: 0.0820 - val_loss: 2.7669\n",
      "Epoch 27/30\n",
      "\u001B[1m9/9\u001B[0m \u001B[32m━━━━━━━━━━━━━━━━━━━━\u001B[0m\u001B[37m\u001B[0m \u001B[1m2s\u001B[0m 212ms/step - Accuracy: 0.0878 - loss: 2.7677 - val_Accuracy: 0.0820 - val_loss: 2.7668\n",
      "Epoch 28/30\n",
      "\u001B[1m9/9\u001B[0m \u001B[32m━━━━━━━━━━━━━━━━━━━━\u001B[0m\u001B[37m\u001B[0m \u001B[1m2s\u001B[0m 213ms/step - Accuracy: 0.0992 - loss: 2.7651 - val_Accuracy: 0.0820 - val_loss: 2.7668\n",
      "Epoch 29/30\n",
      "\u001B[1m9/9\u001B[0m \u001B[32m━━━━━━━━━━━━━━━━━━━━\u001B[0m\u001B[37m\u001B[0m \u001B[1m2s\u001B[0m 250ms/step - Accuracy: 0.0588 - loss: 2.7728 - val_Accuracy: 0.0820 - val_loss: 2.7668\n",
      "Epoch 30/30\n",
      "\u001B[1m9/9\u001B[0m \u001B[32m━━━━━━━━━━━━━━━━━━━━\u001B[0m\u001B[37m\u001B[0m \u001B[1m2s\u001B[0m 214ms/step - Accuracy: 0.0714 - loss: 2.7702 - val_Accuracy: 0.0820 - val_loss: 2.7668\n"
     ]
    },
    {
     "data": {
      "text/plain": [
       "<keras.src.callbacks.history.History at 0x7f038c100820>"
      ]
     },
     "execution_count": 32,
     "metadata": {},
     "output_type": "execute_result"
    }
   ],
   "execution_count": 32
  },
  {
   "metadata": {},
   "cell_type": "code",
   "outputs": [],
   "execution_count": null,
   "source": "",
   "id": "c5184ba9dc573ca1"
  }
 ],
 "metadata": {
  "kernelspec": {
   "display_name": "Python 3",
   "language": "python",
   "name": "python3"
  },
  "language_info": {
   "codemirror_mode": {
    "name": "ipython",
    "version": 2
   },
   "file_extension": ".py",
   "mimetype": "text/x-python",
   "name": "python",
   "nbconvert_exporter": "python",
   "pygments_lexer": "ipython2",
   "version": "2.7.6"
  }
 },
 "nbformat": 4,
 "nbformat_minor": 5
}
